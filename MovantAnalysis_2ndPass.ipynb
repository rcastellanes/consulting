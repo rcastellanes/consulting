{
 "cells": [
  {
   "cell_type": "code",
   "execution_count": 1,
   "metadata": {},
   "outputs": [
    {
     "data": {
      "text/html": [
       "<script>\n",
       "code_show=true; \n",
       "function code_toggle() {\n",
       " if (code_show){\n",
       " $('div.input').hide();\n",
       " } else {\n",
       " $('div.input').show();\n",
       " }\n",
       " code_show = !code_show\n",
       "} \n",
       "$( document ).ready(code_toggle);\n",
       "</script>\n",
       "<form action=\"javascript:code_toggle()\"><input type=\"submit\" value=\"Click here to toggle on/off the raw code.\"></form>"
      ],
      "text/plain": [
       "<IPython.core.display.HTML object>"
      ]
     },
     "execution_count": 1,
     "metadata": {},
     "output_type": "execute_result"
    }
   ],
   "source": [
    "import pandas as pd\n",
    "import numpy as np\n",
    "\n",
    "import matplotlib.pyplot as plt\n",
    "from matplotlib.ticker import FuncFormatter\n",
    "from collections import namedtuple\n",
    "\n",
    "import seaborn as sns\n",
    "\n",
    "from IPython.display import HTML\n",
    "\n",
    "HTML('''<script>\n",
    "code_show=true; \n",
    "function code_toggle() {\n",
    " if (code_show){\n",
    " $('div.input').hide();\n",
    " } else {\n",
    " $('div.input').show();\n",
    " }\n",
    " code_show = !code_show\n",
    "} \n",
    "$( document ).ready(code_toggle);\n",
    "</script>\n",
    "<form action=\"javascript:code_toggle()\"><input type=\"submit\" value=\"Click here to toggle on/off the raw code.\"></form>''')"
   ]
  },
  {
   "cell_type": "code",
   "execution_count": 2,
   "metadata": {},
   "outputs": [],
   "source": [
    "### General Processing"
   ]
  },
  {
   "cell_type": "code",
   "execution_count": 3,
   "metadata": {},
   "outputs": [],
   "source": [
    "main = pd.read_excel('movantanalysis.xlsx', sheet_name = 'KM Data Edits')\n",
    "datapull = pd.read_excel('movantanalysis.xlsx', sheet_name = 'Data Pull Sheet')\n",
    "aums = pd.read_excel('movantanalysis.xlsx', sheet_name = 'All Institution AUMs')\n",
    "removed = pd.read_excel('movantanalysis.xlsx', sheet_name = 'Removed cases')"
   ]
  },
  {
   "cell_type": "code",
   "execution_count": 4,
   "metadata": {},
   "outputs": [],
   "source": [
    "movant_categories = main[\"Movant ID\"].str.split(\".\", n=2, expand = True)\n",
    "main['Movant Group'] = movant_categories[0]+movant_categories[1]"
   ]
  },
  {
   "cell_type": "code",
   "execution_count": 5,
   "metadata": {},
   "outputs": [],
   "source": [
    "main = main.merge(aums[['Institutional Movant', 'AUM']], how = 'left', left_on = 'Movant', right_on = 'Institutional Movant')"
   ]
  },
  {
   "cell_type": "code",
   "execution_count": 6,
   "metadata": {},
   "outputs": [],
   "source": [
    "main = main.merge(datapull[['Ticker','Damage Bucket', \"Filing Firm\", \"Lead Plaintiff\"]], how = 'left', on = 'Ticker')"
   ]
  },
  {
   "cell_type": "code",
   "execution_count": 9,
   "metadata": {},
   "outputs": [],
   "source": [
    "main = main.loc[:2866,:]"
   ]
  },
  {
   "cell_type": "code",
   "execution_count": 10,
   "metadata": {},
   "outputs": [],
   "source": [
    "main[\"Type (Ind, Ins, G-Ind, G-Ins, G-Mix)\"] = main[\"Type (Ind, Ins, G-Ind, G-Ins, G-Mix)\"].str.replace(\"InS\", \"Ins\")\n",
    "main[\"Type (Ind, Ins, G-Ind, G-Ins, G-Mix)\"] = main[\"Type (Ind, Ins, G-Ind, G-Ins, G-Mix)\"].str.replace(\"ins\", \"Ins\")\n",
    "main[\"Type (Ind, Ins, G-Ind, G-Ins, G-Mix)\"] = main[\"Type (Ind, Ins, G-Ind, G-Ins, G-Mix)\"].str.replace(\"G-mix\", \"G-Mix\")\n",
    "main[\"Type (Ind, Ins, G-Ind, G-Ins, G-Mix)\"] = main[\"Type (Ind, Ins, G-Ind, G-Ins, G-Mix)\"].str.replace(\"ind\", \"Ind\")\n",
    "main[\"Type (Ind, Ins, G-Ind, G-Ins, G-Mix)\"] = main[\"Type (Ind, Ins, G-Ind, G-Ins, G-Mix)\"].str.replace(\"g-Ind\", \"G-Ind\")"
   ]
  },
  {
   "cell_type": "code",
   "execution_count": 11,
   "metadata": {},
   "outputs": [],
   "source": [
    "main[\"Small Case\"] = 0\n",
    "main.loc[main[\"Damage Bucket\"].isin([\"A\",\"B\"]), \"Small Case\"] = 1 \n",
    "main.loc[main[\"Lead Plaintiff\"].isna(),\"Lead Plaintiff\"] = \"None\""
   ]
  },
  {
   "cell_type": "code",
   "execution_count": 12,
   "metadata": {},
   "outputs": [],
   "source": [
    "def win(a, b):\n",
    "    if a in b: return 1\n",
    "    else: return 0\n",
    "\n",
    "main = main.assign(win = main.apply(lambda row: win(row[\"Movant\"], row[\"Lead Plaintiff\"]), axis =1))"
   ]
  },
  {
   "cell_type": "code",
   "execution_count": 13,
   "metadata": {},
   "outputs": [],
   "source": [
    "main[\"unopposed\"] = 0\n",
    "main.loc[main[\"Contested/\\nUncontested\"]==\"Uncontested\", \"unopposed\"] = 1"
   ]
  },
  {
   "cell_type": "markdown",
   "metadata": {},
   "source": [
    "### I. MOVANT ANALYSIS BY REPORTED DAMAGES BY BUCKET"
   ]
  },
  {
   "cell_type": "markdown",
   "metadata": {},
   "source": [
    "#### I. A. Number of Cases by Bucket"
   ]
  },
  {
   "cell_type": "code",
   "execution_count": 14,
   "metadata": {},
   "outputs": [],
   "source": [
    "data_1a = datapull['Damage Bucket'].value_counts()"
   ]
  },
  {
   "cell_type": "code",
   "execution_count": 15,
   "metadata": {},
   "outputs": [],
   "source": [
    "y_val = data_1a.sort_index()\n",
    "x_val = data_1a.sort_index().index"
   ]
  },
  {
   "cell_type": "code",
   "execution_count": 16,
   "metadata": {},
   "outputs": [
    {
     "data": {
      "image/png": "[encoded data removed]",
      "text/plain": [
       "<Figure size 864x288 with 1 Axes>"
      ]
     },
     "metadata": {
      "needs_background": "light"
     },
     "output_type": "display_data"
    }
   ],
   "source": [
    "fig, ax = plt.subplots(figsize=(12,4))\n",
    "width = 0.75\n",
    "ind = np.arange(len((y_val)))\n",
    "plt.title('Number of Cases by Bucket')\n",
    "plt.yticks([], [])\n",
    "ax.bar(x_val, y_val, width, color = \"blue\")\n",
    "\n",
    "ax.set_ylim([0,y_val.max()+ 100])\n",
    "\n",
    "rects = ax.patches\n",
    "\n",
    "ax.yaxis.set_ticks_position('none')\n",
    "\n",
    "for rect, label in zip(rects, y_val):\n",
    "    height = rect.get_height()\n",
    "    ax.text(rect.get_x() + rect.get_width() / 2, height + 5, label,\n",
    "            ha='center', va='bottom')\n",
    "plt.show()"
   ]
  },
  {
   "cell_type": "markdown",
   "metadata": {},
   "source": [
    "#### I.B. Analysis by Bucket"
   ]
  },
  {
   "cell_type": "code",
   "execution_count": 17,
   "metadata": {},
   "outputs": [],
   "source": [
    "data_1b = datapull[['Damage Bucket', 'Docket Number','Total Damages', '% of Total Damages']].dropna()\n",
    "data_1b['Total Damages'] = pd.to_numeric(data_1b['Total Damages'], errors='coerce').fillna(0)\n",
    "data_1b['% of Total Damages'] = pd.to_numeric(data_1b['% of Total Damages'], errors='coerce').fillna(0)"
   ]
  },
  {
   "cell_type": "code",
   "execution_count": 18,
   "metadata": {},
   "outputs": [],
   "source": [
    "data_1b_total = data_1b[['Damage Bucket', 'Docket Number','Total Damages']]\n",
    "data_1b_describe_total = data_1b_total.pivot(index = 'Docket Number', columns = 'Damage Bucket', values = 'Total Damages')\n",
    "data_1b_describe_total = data_1b_describe_total.describe()\n",
    "data_1b_describe_total = pd.concat([data_1b_describe_total, pd.DataFrame(np.sort(data_1b_total.pivot(index = 'Docket Number', columns = 'Damage Bucket', values = 'Total Damages').fillna(0), axis = 0)[-2:,:], columns = data_1a.sort_index().index, index = ['Largest', '2nd Largest'])])"
   ]
  },
  {
   "cell_type": "code",
   "execution_count": 19,
   "metadata": {},
   "outputs": [],
   "source": [
    "data_1b_bps = data_1b[['Damage Bucket', 'Docket Number','% of Total Damages']]\n",
    "data_1b_describe_bps = data_1b_bps.pivot(index = 'Docket Number', columns = 'Damage Bucket', values = '% of Total Damages')\n",
    "data_1b_describe_bps = data_1b_describe_bps.describe()\n",
    "data_1b_describe_bps = pd.concat([data_1b_describe_bps, pd.DataFrame(np.sort(data_1b_bps.pivot(index = 'Docket Number', columns = 'Damage Bucket', values = '% of Total Damages'), axis = 0)[-2:,:], columns = data_1a.sort_index().index, index = ['Largest', '2nd Largest'])])"
   ]
  },
  {
   "cell_type": "code",
   "execution_count": 20,
   "metadata": {},
   "outputs": [],
   "source": [
    "x_val = np.sort(data_1b['Damage Bucket'].unique())"
   ]
  },
  {
   "cell_type": "code",
   "execution_count": 22,
   "metadata": {},
   "outputs": [
    {
     "data": {
      "image/png": "[encoded data removed]",
      "text/plain": [
       "<Figure size 864x288 with 1 Axes>"
      ]
     },
     "metadata": {
      "needs_background": "light"
     },
     "output_type": "display_data"
    }
   ],
   "source": [
    "#### plt.clf()\n",
    "plt.figure(figsize=(12,4))\n",
    "plt.title(\"Total Damages Box Plot\", size = 20)\n",
    "ax = sns.boxplot(y = 'Total Damages', x = 'Damage Bucket', data = data_1b_total[~data_1b_total[\"Damage Bucket\"].isin([\"E\", \"F\"])], order = x_val[:4], showfliers=False)\n",
    "ax.get_yaxis().set_major_formatter(FuncFormatter(lambda y, p: format(int(y), ',')))\n",
    "plt.show()"
   ]
  },
  {
   "cell_type": "code",
   "execution_count": 23,
   "metadata": {},
   "outputs": [
    {
     "data": {
      "image/png": "[encoded data removed]",
      "text/plain": [
       "<Figure size 360x288 with 1 Axes>"
      ]
     },
     "metadata": {
      "needs_background": "light"
     },
     "output_type": "display_data"
    }
   ],
   "source": [
    "plt.figure(figsize=(5,4))\n",
    "plt.title(\"Total Damages Box Plot\", size = 20)\n",
    "ax = sns.boxplot(y = 'Total Damages', x = 'Damage Bucket', data = data_1b_total[data_1b_total[\"Damage Bucket\"].isin([\"E\", \"F\"])], order = x_val[4:6], showfliers=False)\n",
    "ax.get_yaxis().set_major_formatter(FuncFormatter(lambda y, p: format(int(y), ',')))\n",
    "plt.show()"
   ]
  },
  {
   "cell_type": "code",
   "execution_count": 24,
   "metadata": {},
   "outputs": [
    {
     "name": "stdout",
     "output_type": "stream",
     "text": [
      "By Total Damage\n"
     ]
    },
    {
     "data": {
      "text/html": [
       "<div>\n",
       "<style scoped>\n",
       "    .dataframe tbody tr th:only-of-type {\n",
       "        vertical-align: middle;\n",
       "    }\n",
       "\n",
       "    .dataframe tbody tr th {\n",
       "        vertical-align: top;\n",
       "    }\n",
       "\n",
       "    .dataframe thead th {\n",
       "        text-align: right;\n",
       "    }\n",
       "</style>\n",
       "<table border=\"1\" class=\"dataframe\">\n",
       "  <thead>\n",
       "    <tr style=\"text-align: right;\">\n",
       "      <th>Damage Bucket</th>\n",
       "      <th>A</th>\n",
       "      <th>B</th>\n",
       "      <th>C</th>\n",
       "      <th>D</th>\n",
       "      <th>E</th>\n",
       "      <th>F</th>\n",
       "    </tr>\n",
       "  </thead>\n",
       "  <tbody>\n",
       "    <tr>\n",
       "      <th>count</th>\n",
       "      <td>110</td>\n",
       "      <td>82</td>\n",
       "      <td>77</td>\n",
       "      <td>92</td>\n",
       "      <td>61</td>\n",
       "      <td>144</td>\n",
       "    </tr>\n",
       "    <tr>\n",
       "      <th>mean</th>\n",
       "      <td>11848636</td>\n",
       "      <td>38815854</td>\n",
       "      <td>75870130</td>\n",
       "      <td>171467391</td>\n",
       "      <td>392967213</td>\n",
       "      <td>2385520833</td>\n",
       "    </tr>\n",
       "    <tr>\n",
       "      <th>std</th>\n",
       "      <td>7383037</td>\n",
       "      <td>6610158</td>\n",
       "      <td>14436203</td>\n",
       "      <td>42049539</td>\n",
       "      <td>76220506</td>\n",
       "      <td>4046534549</td>\n",
       "    </tr>\n",
       "    <tr>\n",
       "      <th>min</th>\n",
       "      <td>0</td>\n",
       "      <td>26000000</td>\n",
       "      <td>52000000</td>\n",
       "      <td>102000000</td>\n",
       "      <td>260000000</td>\n",
       "      <td>515000000</td>\n",
       "    </tr>\n",
       "    <tr>\n",
       "      <th>25%</th>\n",
       "      <td>5625000</td>\n",
       "      <td>35000000</td>\n",
       "      <td>65000000</td>\n",
       "      <td>135000000</td>\n",
       "      <td>325000000</td>\n",
       "      <td>747500000</td>\n",
       "    </tr>\n",
       "    <tr>\n",
       "      <th>50%</th>\n",
       "      <td>10000000</td>\n",
       "      <td>40000000</td>\n",
       "      <td>75000000</td>\n",
       "      <td>162500000</td>\n",
       "      <td>400000000</td>\n",
       "      <td>1000000000</td>\n",
       "    </tr>\n",
       "    <tr>\n",
       "      <th>75%</th>\n",
       "      <td>17750000</td>\n",
       "      <td>45000000</td>\n",
       "      <td>90000000</td>\n",
       "      <td>200000000</td>\n",
       "      <td>450000000</td>\n",
       "      <td>2000000000</td>\n",
       "    </tr>\n",
       "    <tr>\n",
       "      <th>max</th>\n",
       "      <td>25000000</td>\n",
       "      <td>50000000</td>\n",
       "      <td>100000000</td>\n",
       "      <td>250000000</td>\n",
       "      <td>500000000</td>\n",
       "      <td>25000000000</td>\n",
       "    </tr>\n",
       "    <tr>\n",
       "      <th>Largest</th>\n",
       "      <td>25000000</td>\n",
       "      <td>50000000</td>\n",
       "      <td>100000000</td>\n",
       "      <td>250000000</td>\n",
       "      <td>500000000</td>\n",
       "      <td>25000000000</td>\n",
       "    </tr>\n",
       "    <tr>\n",
       "      <th>2nd Largest</th>\n",
       "      <td>25000000</td>\n",
       "      <td>50000000</td>\n",
       "      <td>100000000</td>\n",
       "      <td>250000000</td>\n",
       "      <td>500000000</td>\n",
       "      <td>25000000000</td>\n",
       "    </tr>\n",
       "  </tbody>\n",
       "</table>\n",
       "</div>"
      ],
      "text/plain": [
       "Damage Bucket        A        B         C         D         E           F\n",
       "count              110       82        77        92        61         144\n",
       "mean          11848636 38815854  75870130 171467391 392967213  2385520833\n",
       "std            7383037  6610158  14436203  42049539  76220506  4046534549\n",
       "min                  0 26000000  52000000 102000000 260000000   515000000\n",
       "25%            5625000 35000000  65000000 135000000 325000000   747500000\n",
       "50%           10000000 40000000  75000000 162500000 400000000  1000000000\n",
       "75%           17750000 45000000  90000000 200000000 450000000  2000000000\n",
       "max           25000000 50000000 100000000 250000000 500000000 25000000000\n",
       "Largest       25000000 50000000 100000000 250000000 500000000 25000000000\n",
       "2nd Largest   25000000 50000000 100000000 250000000 500000000 25000000000"
      ]
     },
     "execution_count": 24,
     "metadata": {},
     "output_type": "execute_result"
    }
   ],
   "source": [
    "pd.options.display.float_format = '{:.0f}'.format\n",
    "print(\"By Total Damage\")\n",
    "data_1b_describe_total"
   ]
  },
  {
   "cell_type": "code",
   "execution_count": 25,
   "metadata": {},
   "outputs": [
    {
     "name": "stdout",
     "output_type": "stream",
     "text": [
      "By BPS\n"
     ]
    },
    {
     "data": {
      "text/html": [
       "<div>\n",
       "<style scoped>\n",
       "    .dataframe tbody tr th:only-of-type {\n",
       "        vertical-align: middle;\n",
       "    }\n",
       "\n",
       "    .dataframe tbody tr th {\n",
       "        vertical-align: top;\n",
       "    }\n",
       "\n",
       "    .dataframe thead th {\n",
       "        text-align: right;\n",
       "    }\n",
       "</style>\n",
       "<table border=\"1\" class=\"dataframe\">\n",
       "  <thead>\n",
       "    <tr style=\"text-align: right;\">\n",
       "      <th>Damage Bucket</th>\n",
       "      <th>A</th>\n",
       "      <th>B</th>\n",
       "      <th>C</th>\n",
       "      <th>D</th>\n",
       "      <th>E</th>\n",
       "      <th>F</th>\n",
       "    </tr>\n",
       "  </thead>\n",
       "  <tbody>\n",
       "    <tr>\n",
       "      <th>count</th>\n",
       "      <td>11,000.00%</td>\n",
       "      <td>8,200.00%</td>\n",
       "      <td>7,700.00%</td>\n",
       "      <td>9,200.00%</td>\n",
       "      <td>6,100.00%</td>\n",
       "      <td>14,400.00%</td>\n",
       "    </tr>\n",
       "    <tr>\n",
       "      <th>mean</th>\n",
       "      <td>2.82%</td>\n",
       "      <td>1.14%</td>\n",
       "      <td>0.34%</td>\n",
       "      <td>0.49%</td>\n",
       "      <td>0.30%</td>\n",
       "      <td>0.40%</td>\n",
       "    </tr>\n",
       "    <tr>\n",
       "      <th>std</th>\n",
       "      <td>5.56%</td>\n",
       "      <td>2.06%</td>\n",
       "      <td>0.85%</td>\n",
       "      <td>1.02%</td>\n",
       "      <td>0.60%</td>\n",
       "      <td>1.03%</td>\n",
       "    </tr>\n",
       "    <tr>\n",
       "      <th>min</th>\n",
       "      <td>0.00%</td>\n",
       "      <td>0.00%</td>\n",
       "      <td>0.00%</td>\n",
       "      <td>0.00%</td>\n",
       "      <td>0.00%</td>\n",
       "      <td>0.00%</td>\n",
       "    </tr>\n",
       "    <tr>\n",
       "      <th>25%</th>\n",
       "      <td>0.09%</td>\n",
       "      <td>0.05%</td>\n",
       "      <td>0.01%</td>\n",
       "      <td>0.04%</td>\n",
       "      <td>0.01%</td>\n",
       "      <td>0.00%</td>\n",
       "    </tr>\n",
       "    <tr>\n",
       "      <th>50%</th>\n",
       "      <td>0.70%</td>\n",
       "      <td>0.33%</td>\n",
       "      <td>0.09%</td>\n",
       "      <td>0.16%</td>\n",
       "      <td>0.06%</td>\n",
       "      <td>0.04%</td>\n",
       "    </tr>\n",
       "    <tr>\n",
       "      <th>75%</th>\n",
       "      <td>2.57%</td>\n",
       "      <td>1.42%</td>\n",
       "      <td>0.29%</td>\n",
       "      <td>0.40%</td>\n",
       "      <td>0.28%</td>\n",
       "      <td>0.23%</td>\n",
       "    </tr>\n",
       "    <tr>\n",
       "      <th>max</th>\n",
       "      <td>34.72%</td>\n",
       "      <td>13.61%</td>\n",
       "      <td>6.80%</td>\n",
       "      <td>6.43%</td>\n",
       "      <td>3.06%</td>\n",
       "      <td>7.29%</td>\n",
       "    </tr>\n",
       "    <tr>\n",
       "      <th>Largest</th>\n",
       "      <td>nan%</td>\n",
       "      <td>nan%</td>\n",
       "      <td>nan%</td>\n",
       "      <td>nan%</td>\n",
       "      <td>nan%</td>\n",
       "      <td>nan%</td>\n",
       "    </tr>\n",
       "    <tr>\n",
       "      <th>2nd Largest</th>\n",
       "      <td>nan%</td>\n",
       "      <td>nan%</td>\n",
       "      <td>nan%</td>\n",
       "      <td>nan%</td>\n",
       "      <td>nan%</td>\n",
       "      <td>nan%</td>\n",
       "    </tr>\n",
       "  </tbody>\n",
       "</table>\n",
       "</div>"
      ],
      "text/plain": [
       "Damage Bucket          A         B         C         D         E          F\n",
       "count         11,000.00% 8,200.00% 7,700.00% 9,200.00% 6,100.00% 14,400.00%\n",
       "mean               2.82%     1.14%     0.34%     0.49%     0.30%      0.40%\n",
       "std                5.56%     2.06%     0.85%     1.02%     0.60%      1.03%\n",
       "min                0.00%     0.00%     0.00%     0.00%     0.00%      0.00%\n",
       "25%                0.09%     0.05%     0.01%     0.04%     0.01%      0.00%\n",
       "50%                0.70%     0.33%     0.09%     0.16%     0.06%      0.04%\n",
       "75%                2.57%     1.42%     0.29%     0.40%     0.28%      0.23%\n",
       "max               34.72%    13.61%     6.80%     6.43%     3.06%      7.29%\n",
       "Largest             nan%      nan%      nan%      nan%      nan%       nan%\n",
       "2nd Largest         nan%      nan%      nan%      nan%      nan%       nan%"
      ]
     },
     "execution_count": 25,
     "metadata": {},
     "output_type": "execute_result"
    }
   ],
   "source": [
    "pd.options.display.float_format = '{:,.2%}'.format\n",
    "print(\"By BPS\")\n",
    "data_1b_describe_bps "
   ]
  },
  {
   "cell_type": "markdown",
   "metadata": {},
   "source": [
    "#### I.C. Win-Loss Analysis"
   ]
  },
  {
   "cell_type": "code",
   "execution_count": null,
   "metadata": {},
   "outputs": [],
   "source": [
    "data_1c = main[[\"Movant\", \"Damage Bucket\", \"Type\", \"win\"]]"
   ]
  },
  {
   "cell_type": "markdown",
   "metadata": {},
   "source": [
    "#### I.C.1 Largest Movant"
   ]
  },
  {
   "cell_type": "code",
   "execution_count": null,
   "metadata": {},
   "outputs": [],
   "source": [
    "data_1c1_wins = main.groupby(\"Movant\")[\"win\"].agg([\"sum\", \"count\"])\n",
    "data_1c1_wins[\"win_rate\"] = data_1c1_wins[\"sum\"]/data_1c1_wins[\"count\"]\n",
    "data_1c1_losses = main.groupby(\"Movant\")[\"Movant Loss\"].sum()"
   ]
  },
  {
   "cell_type": "code",
   "execution_count": null,
   "metadata": {},
   "outputs": [],
   "source": [
    "data_1c1_largest = data_1c1_losses[data_1c1_losses == data_1c1_losses.max()].index"
   ]
  },
  {
   "cell_type": "code",
   "execution_count": null,
   "metadata": {},
   "outputs": [],
   "source": [
    "pd.options.display.float_format = '{:,.2f}'.format\n",
    "print(\"The number of wins, cases and win rate of the largest movant is\")\n",
    "data_1c1_wins[data_1c1_wins.index.isin(data_1c1_largest)]"
   ]
  },
  {
   "cell_type": "code",
   "execution_count": null,
   "metadata": {},
   "outputs": [],
   "source": [
    "#### I.C.2 Win Rate by Movant Category"
   ]
  },
  {
   "cell_type": "code",
   "execution_count": null,
   "metadata": {},
   "outputs": [],
   "source": [
    "data_1c2 = data_1c.groupby(\"Type\")[\"win\"].agg([\"sum\", \"count\"])\n",
    "data_1c2[\"win_rate\"] = data_1c2[\"sum\"]/data_1c2[\"count\"]"
   ]
  },
  {
   "cell_type": "code",
   "execution_count": null,
   "metadata": {},
   "outputs": [],
   "source": [
    "x_val = data_1c2.index\n",
    "y_val = data_1c2.win_rate"
   ]
  },
  {
   "cell_type": "code",
   "execution_count": null,
   "metadata": {
    "scrolled": true
   },
   "outputs": [],
   "source": [
    "\n",
    "fig, ax = plt.subplots(figsize=(6,4))\n",
    "width = 0.75\n",
    "ind = np.arange(len((y_val)))\n",
    "plt.title('Win Rate by Movant Category')\n",
    "plt.yticks([], [])\n",
    "ax.bar(x_val, y_val, width, color = \"blue\")\n",
    "\n",
    "rects = ax.patches\n",
    "\n",
    "ax.yaxis.set_ticks_position('none')\n",
    "\n",
    "ax.set_ylim([0,y_val.max()+ 0.1])\n",
    "\n",
    "for rect, label in zip(rects, y_val):\n",
    "    height = rect.get_height()\n",
    "    ax.text(rect.get_x() + rect.get_width() / 2, height + 0.01, \"{:,.1%}\".format(label),\n",
    "            ha='center', va='bottom')\n",
    "plt.show()"
   ]
  },
  {
   "cell_type": "code",
   "execution_count": null,
   "metadata": {},
   "outputs": [],
   "source": [
    "#### I.C.3. Win Rate By Bucket"
   ]
  },
  {
   "cell_type": "code",
   "execution_count": null,
   "metadata": {},
   "outputs": [],
   "source": [
    "data_1c3 = data_1c.groupby(\"Damage Bucket\")[\"win\"].agg([\"sum\", \"count\"])\n",
    "data_1c3[\"win_rate\"] = data_1c3[\"sum\"]/data_1c3[\"count\"]"
   ]
  },
  {
   "cell_type": "code",
   "execution_count": null,
   "metadata": {},
   "outputs": [],
   "source": [
    "x_val = data_1c3.index\n",
    "y_val = data_1c3.win_rate"
   ]
  },
  {
   "cell_type": "code",
   "execution_count": null,
   "metadata": {
    "scrolled": true
   },
   "outputs": [],
   "source": [
    "\n",
    "fig, ax = plt.subplots(figsize=(12,4))\n",
    "width = 0.75\n",
    "ind = np.arange(len((y_val)))\n",
    "plt.title('Win Rate by Movant Category')\n",
    "plt.yticks([], [])\n",
    "ax.bar(x_val, y_val, width, color = \"blue\")\n",
    "\n",
    "rects = ax.patches\n",
    "\n",
    "ax.yaxis.set_ticks_position('none')\n",
    "\n",
    "ax.set_ylim([0,y_val.max()+ 0.1])\n",
    "\n",
    "for rect, label in zip(rects, y_val):\n",
    "    height = rect.get_height()\n",
    "    ax.text(rect.get_x() + rect.get_width() / 2, height + 0.01, \"{:,.1%}\".format(label),\n",
    "            ha='center', va='bottom')\n",
    "plt.show()"
   ]
  },
  {
   "cell_type": "markdown",
   "metadata": {},
   "source": [
    "### II. ANALYSIS BY TYPE OF MOVANT"
   ]
  },
  {
   "cell_type": "markdown",
   "metadata": {},
   "source": [
    "#### II. A. Number of Movants by Bucket"
   ]
  },
  {
   "cell_type": "code",
   "execution_count": null,
   "metadata": {},
   "outputs": [],
   "source": [
    "data_2a = main[\"Damage Bucket\"].value_counts()"
   ]
  },
  {
   "cell_type": "code",
   "execution_count": null,
   "metadata": {},
   "outputs": [],
   "source": [
    "y_val = data_2a.sort_index()\n",
    "x_val = data_2a.sort_index().index"
   ]
  },
  {
   "cell_type": "code",
   "execution_count": null,
   "metadata": {},
   "outputs": [],
   "source": [
    "fig, ax = plt.subplots(figsize=(12,4))\n",
    "width = 0.75\n",
    "ind = np.arange(len((y_val)))\n",
    "plt.title('Number of Movants by Bucket')\n",
    "plt.yticks([], [])\n",
    "ax.bar(x_val, y_val, width, color = \"blue\")\n",
    "\n",
    "rects = ax.patches\n",
    "\n",
    "ax.yaxis.set_ticks_position('none')\n",
    "\n",
    "ax.set_ylim([0,y_val.max()+ 100])\n",
    "\n",
    "for rect, label in zip(rects, y_val):\n",
    "    height = rect.get_height()\n",
    "    ax.text(rect.get_x() + rect.get_width() / 2, height + 5, label,\n",
    "            ha='center', va='bottom')\n",
    "plt.show()"
   ]
  },
  {
   "cell_type": "markdown",
   "metadata": {},
   "source": [
    "#### II.B. Number of Movants by Case"
   ]
  },
  {
   "cell_type": "code",
   "execution_count": null,
   "metadata": {},
   "outputs": [],
   "source": [
    "data_2b = main.groupby(\"Ticker\")[\"Movant ID\"].count().reset_index()\n",
    "data_2b_describe = data_2b.describe()"
   ]
  },
  {
   "cell_type": "code",
   "execution_count": null,
   "metadata": {},
   "outputs": [],
   "source": [
    "pd.options.display.float_format = '{:.2f}'.format\n",
    "data_2b_describe"
   ]
  },
  {
   "cell_type": "markdown",
   "metadata": {},
   "source": [
    "#### II.C. Movant By Type By Bucket"
   ]
  },
  {
   "cell_type": "code",
   "execution_count": null,
   "metadata": {},
   "outputs": [],
   "source": [
    "data_2c = main[[\"Damage Bucket\", \"Type (Ind, Ins, G-Ind, G-Ins, G-Mix)\", \"Movant ID\"]]"
   ]
  },
  {
   "cell_type": "code",
   "execution_count": null,
   "metadata": {},
   "outputs": [],
   "source": [
    "data_2c_grouped = data_2c.groupby([\"Damage Bucket\", \"Type (Ind, Ins, G-Ind, G-Ins, G-Mix)\"])[\"Movant ID\"].count().reset_index()"
   ]
  },
  {
   "cell_type": "code",
   "execution_count": null,
   "metadata": {},
   "outputs": [],
   "source": [
    "data_2c_grouped"
   ]
  },
  {
   "cell_type": "markdown",
   "metadata": {},
   "source": [
    "#### II.D. For Groups"
   ]
  },
  {
   "cell_type": "code",
   "execution_count": null,
   "metadata": {},
   "outputs": [],
   "source": [
    "data_2d = main[[\"Movant Group\", \"Type (Ind, Ins, G-Ind, G-Ins, G-Mix)\", \"Movant Loss\", \"# of Movant Groups\"]]\n",
    "data_2d_groupcount = data_2d.groupby(\"Type (Ind, Ins, G-Ind, G-Ins, G-Mix)\")[\"# of Movant Groups\"].mean()\n",
    "data_2d_groupcount = data_2d_groupcount.append(pd.Series(main[\"# of Movant Groups\"].mean(), index = [\"Total\"]))\n",
    "data_2d_loss = data_2d.groupby(\"Type (Ind, Ins, G-Ind, G-Ins, G-Mix)\")[\"Movant Loss\"].mean()\n",
    "data_2d_loss = data_2d_loss.append(pd.Series(main[\"Movant Loss\"].mean(), index = [\"Total\"]))"
   ]
  },
  {
   "cell_type": "code",
   "execution_count": null,
   "metadata": {},
   "outputs": [],
   "source": [
    "data_2d = pd.concat([data_2d_groupcount, data_2d_loss], axis = 1)\n",
    "data_2d.columns = [\"Avg # of Members for Each Type\", \"Avg Losses\"]"
   ]
  },
  {
   "cell_type": "code",
   "execution_count": null,
   "metadata": {},
   "outputs": [],
   "source": [
    "print(\"Statistics by Type\")\n",
    "data_2d"
   ]
  },
  {
   "cell_type": "markdown",
   "metadata": {},
   "source": [
    "#### II.E. For Unopposed Lead Plaintiff Motions"
   ]
  },
  {
   "cell_type": "code",
   "execution_count": null,
   "metadata": {},
   "outputs": [],
   "source": [
    "data_2e = main[main[\"unopposed\"]==1][[\"Damage Bucket\",\"Movant\",\"Movant Loss\"]]"
   ]
  },
  {
   "cell_type": "markdown",
   "metadata": {},
   "source": [
    "#### III.E.1. Number of Unopposed by Bucket"
   ]
  },
  {
   "cell_type": "code",
   "execution_count": null,
   "metadata": {},
   "outputs": [],
   "source": [
    "data_2e1 = data_2e.groupby(\"Damage Bucket\")[\"Movant\"].count().reset_index()"
   ]
  },
  {
   "cell_type": "code",
   "execution_count": null,
   "metadata": {},
   "outputs": [],
   "source": [
    "data_2e1"
   ]
  },
  {
   "cell_type": "markdown",
   "metadata": {},
   "source": [
    "#### II.E.2 Average Loss of Unopposed by Bucket"
   ]
  },
  {
   "cell_type": "code",
   "execution_count": null,
   "metadata": {},
   "outputs": [],
   "source": [
    "data_2e2 = data_2e.groupby(\"Damage Bucket\")[\"Movant Loss\"].mean().reset_index()"
   ]
  },
  {
   "cell_type": "code",
   "execution_count": null,
   "metadata": {},
   "outputs": [],
   "source": [
    "data_2e2"
   ]
  },
  {
   "cell_type": "markdown",
   "metadata": {},
   "source": [
    "#### II.F. Fight Analysis"
   ]
  },
  {
   "cell_type": "code",
   "execution_count": null,
   "metadata": {},
   "outputs": [],
   "source": [
    "data_2f = main[[\"Small Case\", \"Type\", \"win\"]]"
   ]
  },
  {
   "cell_type": "code",
   "execution_count": null,
   "metadata": {},
   "outputs": [],
   "source": [
    "data2f_wins = data_2f.groupby([\"Small Case\", \"Type\"])[\"win\"].agg([\"sum\", \"count\"])\n",
    "data2f_wins[\"win_rate\"] = data2f_wins[\"sum\"]/  data2f_wins[\"count\"]"
   ]
  },
  {
   "cell_type": "code",
   "execution_count": null,
   "metadata": {},
   "outputs": [],
   "source": [
    "pd.options.display.float_format = '{:.1%}'.format\n",
    "data2f_wins[\"win_rate\"].reset_index()"
   ]
  },
  {
   "cell_type": "markdown",
   "metadata": {},
   "source": [
    "### III. ANALYSIS BY INSTITUTIONAL MOVEMENT TYPE"
   ]
  },
  {
   "cell_type": "markdown",
   "metadata": {},
   "source": [
    "#### III. A. Institutional Movants by Bucket"
   ]
  },
  {
   "cell_type": "code",
   "execution_count": null,
   "metadata": {},
   "outputs": [],
   "source": [
    "data_3 = main[main[\"Type\"]== \"Institution\"]"
   ]
  },
  {
   "cell_type": "code",
   "execution_count": null,
   "metadata": {},
   "outputs": [],
   "source": [
    "data_3a = data_3.groupby('Damage Bucket')['Institutional Movant'].count()"
   ]
  },
  {
   "cell_type": "code",
   "execution_count": null,
   "metadata": {},
   "outputs": [],
   "source": [
    "y_val = data_3a.sort_index()\n",
    "x_val = data_3a.sort_index().index"
   ]
  },
  {
   "cell_type": "code",
   "execution_count": null,
   "metadata": {},
   "outputs": [],
   "source": [
    "fig, ax = plt.subplots(figsize=(12,4))\n",
    "width = 0.75\n",
    "ind = np.arange(len((y_val)))\n",
    "plt.title('Number of Institutional Movants by Bucket')\n",
    "plt.yticks([], [])\n",
    "ax.bar(x_val, y_val, width, color = \"blue\")\n",
    "\n",
    "rects = ax.patches\n",
    "\n",
    "ax.yaxis.set_ticks_position('none')\n",
    "\n",
    "ax.set_ylim([0,y_val.max()+ 100])\n",
    "\n",
    "for rect, label in zip(rects, y_val):\n",
    "    height = rect.get_height()\n",
    "    ax.text(rect.get_x() + rect.get_width() / 2, height + 5, label,\n",
    "            ha='center', va='bottom')\n",
    "plt.show()"
   ]
  },
  {
   "cell_type": "markdown",
   "metadata": {},
   "source": [
    "#### III.B Average Loss By Institutional Movant by Bucket\n",
    "#### Note: Does not include institutional movants without losses (N/A)"
   ]
  },
  {
   "cell_type": "code",
   "execution_count": null,
   "metadata": {},
   "outputs": [],
   "source": [
    "data_3b = data_3[['Damage Bucket',  \"Type\", 'Movant Loss']].dropna()\n",
    "data_3b_describe = data_3b.pivot(columns = 'Damage Bucket', values = 'Movant Loss')\n",
    "data_3b_describe = data_3b_describe.describe()"
   ]
  },
  {
   "cell_type": "code",
   "execution_count": null,
   "metadata": {},
   "outputs": [],
   "source": [
    "pd.options.display.float_format = '{:.0f}'.format\n",
    "data_3b_describe"
   ]
  },
  {
   "cell_type": "markdown",
   "metadata": {},
   "source": [
    "#### III.C. Average Loss By Winning Institutional Movant by Bucket\n",
    "#### Note: Does not include institutional movants without losses (N/A)"
   ]
  },
  {
   "cell_type": "code",
   "execution_count": null,
   "metadata": {},
   "outputs": [],
   "source": [
    "data_3c = data_3[data_3.win==1][['Damage Bucket',  \"Type\", 'Movant Loss']].dropna()\n",
    "data_3c_describe = data_3c.pivot(columns = 'Damage Bucket', values = 'Movant Loss')\n",
    "data_3c_describe = data_3c_describe.describe()"
   ]
  },
  {
   "cell_type": "code",
   "execution_count": null,
   "metadata": {},
   "outputs": [],
   "source": [
    "data_3c_describe"
   ]
  },
  {
   "cell_type": "markdown",
   "metadata": {},
   "source": [
    "#### III.D. Average AUM of Institutional Movant by Bucket\n",
    "##### Note: Count Includes Only Institutional Movants with AUMs (no N/As)"
   ]
  },
  {
   "cell_type": "code",
   "execution_count": null,
   "metadata": {},
   "outputs": [],
   "source": [
    "data_3d = main[['Damage Bucket',  \"Institutional Movant\", \"AUM\"]].dropna()\n",
    "data_3d_describe = data_3d.pivot(columns = 'Damage Bucket', values = 'AUM')\n",
    "data_3d_describe = data_3d_describe.describe()"
   ]
  },
  {
   "cell_type": "code",
   "execution_count": null,
   "metadata": {},
   "outputs": [],
   "source": [
    "pd.options.display.float_format = '{:.0f}'.format\n",
    "data_3d_describe"
   ]
  },
  {
   "cell_type": "markdown",
   "metadata": {},
   "source": [
    "#### III.E. Frequent Flyer Analysis"
   ]
  },
  {
   "cell_type": "markdown",
   "metadata": {},
   "source": [
    "#### III.E.1. Movant Type"
   ]
  },
  {
   "cell_type": "code",
   "execution_count": null,
   "metadata": {},
   "outputs": [],
   "source": [
    "data_3e = main[[\"Institutional Movant\", \"Damage Bucket\", \"Type (Ind, Ins, G-Ind, G-Ins, G-Mix)\", 'Investor Frequent Flyer', 'Movant Loss', \"Filing Firm\"]]\n",
    "data_3e = data_3e[~data_3e[\"Institutional Movant\"].isna()]\n",
    "data_3e.loc[(data_3e[\"Investor Frequent Flyer\"].isna()),\"Investor Frequent Flyer\"] = \"NotFF\""
   ]
  },
  {
   "cell_type": "code",
   "execution_count": null,
   "metadata": {},
   "outputs": [],
   "source": [
    "data_3e1 = data_3e.groupby([\"Type (Ind, Ins, G-Ind, G-Ins, G-Mix)\", \"Investor Frequent Flyer\"])[\"Institutional Movant\"].count().reset_index().sort_values(\"Type (Ind, Ins, G-Ind, G-Ins, G-Mix)\")"
   ]
  },
  {
   "cell_type": "code",
   "execution_count": null,
   "metadata": {},
   "outputs": [],
   "source": [
    "y_val1 = data_3e1[data_3e1[\"Investor Frequent Flyer\"]== \"FF\"][\"Institutional Movant\"]\n",
    "y_val2 = data_3e1[data_3e1[\"Investor Frequent Flyer\"]== \"NotFF\"][\"Institutional Movant\"]\n",
    "x_val = data_3e1[data_3e1[\"Investor Frequent Flyer\"]== \"FF\"][\"Type (Ind, Ins, G-Ind, G-Ins, G-Mix)\"]"
   ]
  },
  {
   "cell_type": "code",
   "execution_count": null,
   "metadata": {},
   "outputs": [],
   "source": [
    "data_3e1"
   ]
  },
  {
   "cell_type": "markdown",
   "metadata": {},
   "source": [
    "#### By Bucket"
   ]
  },
  {
   "cell_type": "code",
   "execution_count": null,
   "metadata": {},
   "outputs": [],
   "source": [
    "data_3e2 = data_3e.groupby([\"Damage Bucket\", \"Investor Frequent Flyer\"])[\"Institutional Movant\"].count().reset_index().sort_values(\"Damage Bucket\")"
   ]
  },
  {
   "cell_type": "code",
   "execution_count": null,
   "metadata": {},
   "outputs": [],
   "source": [
    "data_3e2"
   ]
  },
  {
   "cell_type": "markdown",
   "metadata": {},
   "source": [
    "#### By Filing Firm"
   ]
  },
  {
   "cell_type": "code",
   "execution_count": null,
   "metadata": {},
   "outputs": [],
   "source": [
    "data_3e[\"Filing Firm\"] = data_3e[\"Filing Firm\"].astype(str)"
   ]
  },
  {
   "cell_type": "code",
   "execution_count": null,
   "metadata": {},
   "outputs": [],
   "source": [
    "data_3e3 = data_3e.groupby([\"Filing Firm\", \"Investor Frequent Flyer\"])[\"Institutional Movant\"].count().reset_index().sort_values(\"Filing Firm\")"
   ]
  },
  {
   "cell_type": "code",
   "execution_count": null,
   "metadata": {},
   "outputs": [],
   "source": [
    "data_3e3"
   ]
  },
  {
   "cell_type": "markdown",
   "metadata": {},
   "source": [
    "### APPENDIX"
   ]
  },
  {
   "cell_type": "markdown",
   "metadata": {},
   "source": [
    "plt.clf()\n",
    "plt.bar(x_val, y_val, color=\"b\")\n",
    "plt.title('Number of Cases by Bucket')\n",
    "plt.show()"
   ]
  },
  {
   "cell_type": "markdown",
   "metadata": {
    "scrolled": false
   },
   "source": [
    "plt.clf()\n",
    "fig, ax = plt.subplots(figsize=(12,4))\n",
    "width = 0.75\n",
    "ind = np.arange(len((y_val)))\n",
    "ticks = np.array([2,4,6,8,10])\n",
    "\n",
    "plt.title('Number of Institutional Movants by Bucket')\n",
    "\n",
    "ax.bar(ticks, y_val1, width, color = \"blue\")\n",
    "ax.bar(ticks + np.repeat(width, len(x_val)), y_val2, width, color = \"orange\")\n",
    "\n",
    "plt.yticks([], [])\n",
    "\n",
    "ax.set_ylim([0,y_val2.max()+ 100])\n",
    "\n",
    "rects = ax.patches\n",
    "ax.yaxis.set_ticks_position('none')\n",
    "\n",
    "for i in range(len(x_val)):\n",
    "    height = rects[i].get_height()\n",
    "    ax.text(rects[i].get_x() + rects[i].get_width() / 2, height + 5, y_val1[i],\n",
    "            ha='center', va='bottom')\n",
    "    ax.text(rects[i].get_x() + rects[i].get_width() / 2, height + 5, y_val2[i],\n",
    "            ha='center', va='bottom')\n",
    "    \n",
    "plt.xticks(ticks, c_val)\n",
    "\n",
    "plt.show()"
   ]
  },
  {
   "cell_type": "markdown",
   "metadata": {},
   "source": [
    "#### Number of Cases by Bucket\n",
    "\n",
    "y_val = datapull['Damage Bucket'].value_counts().sort_index()\n",
    "x_val = datapull['Damage Bucket'].value_counts().sort_index().index\n",
    "\n",
    "plt.clf()\n",
    "plt.bar(x_val, y_val, color=\"b\")\n",
    "plt.show()"
   ]
  },
  {
   "cell_type": "markdown",
   "metadata": {},
   "source": [
    "bucketmovantcount = main['Damage Bucket'].value_counts().sort_index()"
   ]
  },
  {
   "cell_type": "markdown",
   "metadata": {},
   "source": [
    "bucketmovantcount"
   ]
  },
  {
   "cell_type": "markdown",
   "metadata": {},
   "source": [
    "fig, ax = plt.subplots() \n",
    "\n",
    "ind = np.arange(len(y_val))\n",
    "bar_width = 0.75\n",
    "\n",
    "ax.bar(ind, y_val, bar_width, col = 'b')\n",
    "for i, v in enumerate(y):\n",
    "    ax.text(v + 3, i + .25, str(v), color='blue')\n",
    "\n",
    "plt.title('Number of Classes by Bucket', size = 16)\n",
    "\n",
    "fig.tight_layout()\n",
    "\n",
    "plt.show()"
   ]
  },
  {
   "cell_type": "markdown",
   "metadata": {},
   "source": [
    "buckets = main[\"Damage Bucket\"].sort_values().dropna().unique()\n",
    "types = main[\"Type (Ind, Ins, G-Ind, G-Ins, G-Mix)\"].sort_values().dropna().unique()"
   ]
  },
  {
   "cell_type": "markdown",
   "metadata": {},
   "source": [
    "xval = buckets\n",
    "yval = []\n",
    "\n",
    "for i in buckets: \n",
    "    yval.append(data_2c_grouped[i][types])"
   ]
  },
  {
   "cell_type": "markdown",
   "metadata": {},
   "source": [
    "plt.clf()\n",
    "fig, ax = plt.subplots(figsize=(12,4))\n",
    "width = 0.75\n",
    "ind = np.arange(len((y_val)))\n",
    "ticks = np.array([2,4,6,8,10])\n",
    "\n",
    "plt.title('Number of Movants by Type for Each Bucket')\n",
    "\n",
    "for i in yval\n",
    "ax.bar(ticks, y_val1, width, color = \"blue\")\n",
    "ax.bar(ticks + np.repeat(width, len(x_val)), y_val2, width, color = \"orange\")\n",
    "\n",
    "plt.yticks([], [])\n",
    "\n",
    "ax.set_ylim([0,y_val2.max()+ 100])\n",
    "\n",
    "rects = ax.patches\n",
    "ax.yaxis.set_ticks_position('none')\n",
    "\n",
    "for i in range(len(x_val)):\n",
    "    height = rects[i].get_height()\n",
    "    ax.text(rects[i].get_x() + rects[i].get_width() / 10 + , height + 5, y_val1[i],\n",
    "            ha='center', va='bottom')\n",
    "    ax.text(rects[i].get_x() + rects[i].get_width() / i*2, height + 5, y_val2[i],\n",
    "            ha='center', va='bottom')\n",
    "    \n",
    "plt.xticks(ticks, c_val)\n",
    "\n",
    "plt.show()"
   ]
  },
  {
   "cell_type": "code",
   "execution_count": null,
   "metadata": {},
   "outputs": [],
   "source": []
  }
 ],
 "metadata": {
  "kernelspec": {
   "display_name": "Python 3",
   "language": "python",
   "name": "python3"
  },
  "language_info": {
   "codemirror_mode": {
    "name": "ipython",
    "version": 3
   },
   "file_extension": ".py",
   "mimetype": "text/x-python",
   "name": "python",
   "nbconvert_exporter": "python",
   "pygments_lexer": "ipython3",
   "version": "3.7.0"
  }
 },
 "nbformat": 4,
 "nbformat_minor": 2
}
