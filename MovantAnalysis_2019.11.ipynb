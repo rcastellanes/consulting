{
 "cells": [
  {
   "cell_type": "code",
   "execution_count": 92,
   "metadata": {},
   "outputs": [
    {
     "data": {
      "text/html": [
       "<script>\n",
       "code_show=true; \n",
       "function code_toggle() {\n",
       " if (code_show){\n",
       " $('div.input').hide();\n",
       " } else {\n",
       " $('div.input').show();\n",
       " }\n",
       " code_show = !code_show\n",
       "} \n",
       "$( document ).ready(code_toggle);\n",
       "</script>\n",
       "<form action=\"javascript:code_toggle()\"><input type=\"submit\" value=\"Click here to toggle on/off the raw code.\"></form>"
      ],
      "text/plain": [
       "<IPython.core.display.HTML object>"
      ]
     },
     "execution_count": 92,
     "metadata": {},
     "output_type": "execute_result"
    }
   ],
   "source": [
    "from IPython.display import HTML\n",
    "\n",
    "HTML('''<script>\n",
    "code_show=true; \n",
    "function code_toggle() {\n",
    " if (code_show){\n",
    " $('div.input').hide();\n",
    " } else {\n",
    " $('div.input').show();\n",
    " }\n",
    " code_show = !code_show\n",
    "} \n",
    "$( document ).ready(code_toggle);\n",
    "</script>\n",
    "<form action=\"javascript:code_toggle()\"><input type=\"submit\" value=\"Click here to toggle on/off the raw code.\"></form>''')"
   ]
  },
  {
   "cell_type": "code",
   "execution_count": 93,
   "metadata": {},
   "outputs": [],
   "source": [
    "import pandas as pd\n",
    "import numpy as np\n",
    "\n",
    "import matplotlib.pyplot as plt\n",
    "from matplotlib.ticker import FuncFormatter\n",
    "from collections import namedtuple\n",
    "\n",
    "import seaborn as sns"
   ]
  },
  {
   "cell_type": "code",
   "execution_count": 94,
   "metadata": {},
   "outputs": [],
   "source": [
    "### General Processing"
   ]
  },
  {
   "cell_type": "code",
   "execution_count": 95,
   "metadata": {},
   "outputs": [],
   "source": [
    "main = pd.read_excel('Movant Report Analysis (01.01.2016-08.31.2019) - unlinked.xlsx', sheet_name = 'KM Data Edits')\n",
    "datapull = pd.read_excel('Movant Report Analysis (01.01.2016-08.31.2019) - unlinked.xlsx', sheet_name = 'Data Pull Sheet')\n",
    "aums = pd.read_excel('Movant Report Analysis (01.01.2016-08.31.2019) - unlinked.xlsx', sheet_name = 'All Institution AUMs')\n",
    "removed = pd.read_excel('Movant Report Analysis (01.01.2016-08.31.2019) - unlinked.xlsx', sheet_name = 'Removed cases')"
   ]
  },
  {
   "cell_type": "code",
   "execution_count": 96,
   "metadata": {},
   "outputs": [],
   "source": [
    "removed_tickers = pd.read_csv(\"excluded.csv\").Ticker"
   ]
  },
  {
   "cell_type": "code",
   "execution_count": 97,
   "metadata": {},
   "outputs": [],
   "source": [
    "movant_categories = main[\"Movant ID\"].str.split(\".\", n=2, expand = True)\n",
    "main['Movant Group'] = movant_categories[0]+movant_categories[1]"
   ]
  },
  {
   "cell_type": "code",
   "execution_count": 98,
   "metadata": {},
   "outputs": [],
   "source": [
    "main = main.merge(aums[['Institutional Movant', 'AUM']], how = 'left', left_on = 'Movant', right_on = 'Institutional Movant')"
   ]
  },
  {
   "cell_type": "code",
   "execution_count": 99,
   "metadata": {},
   "outputs": [],
   "source": [
    "main = main.merge(datapull[['Ticker','Damage Bucket', \"Filing Firm\", \"Lead Plaintiff\"]], how = 'left', on = 'Ticker')"
   ]
  },
  {
   "cell_type": "code",
   "execution_count": 100,
   "metadata": {},
   "outputs": [],
   "source": [
    "main[\"Type (Ind, Ins, G-Ind, G-Ins, G-Mix)\"] = main[\"Type (Ind, Ins, G-Ind, G-Ins, G-Mix)\"].str.replace(\"InS\", \"Ins\")\n",
    "main[\"Type (Ind, Ins, G-Ind, G-Ins, G-Mix)\"] = main[\"Type (Ind, Ins, G-Ind, G-Ins, G-Mix)\"].str.replace(\"ins\", \"Ins\")\n",
    "main[\"Type (Ind, Ins, G-Ind, G-Ins, G-Mix)\"] = main[\"Type (Ind, Ins, G-Ind, G-Ins, G-Mix)\"].str.replace(\"G-mix\", \"G-Mix\")\n",
    "main[\"Type (Ind, Ins, G-Ind, G-Ins, G-Mix)\"] = main[\"Type (Ind, Ins, G-Ind, G-Ins, G-Mix)\"].str.replace(\"ind\", \"Ind\")\n",
    "main[\"Type (Ind, Ins, G-Ind, G-Ins, G-Mix)\"] = main[\"Type (Ind, Ins, G-Ind, G-Ins, G-Mix)\"].str.replace(\"g-Ind\", \"G-Ind\")"
   ]
  },
  {
   "cell_type": "code",
   "execution_count": 101,
   "metadata": {},
   "outputs": [],
   "source": [
    "main[\"Small Case\"] = 0\n",
    "main.loc[main[\"Damage Bucket\"].isin([\"A\",\"B\"]), \"Small Case\"] = 1 \n",
    "main.loc[main[\"Lead Plaintiff\"].isna(),\"Lead Plaintiff\"] = \"None\""
   ]
  },
  {
   "cell_type": "code",
   "execution_count": 102,
   "metadata": {},
   "outputs": [],
   "source": [
    "def win(a, b):\n",
    "    if a in b: return 1\n",
    "    else: return 0\n",
    "\n",
    "main = main.assign(win = main.apply(lambda row: win(row[\"Movant\"], row[\"Lead Plaintiff\"]), axis =1))"
   ]
  },
  {
   "cell_type": "code",
   "execution_count": 103,
   "metadata": {},
   "outputs": [],
   "source": [
    "main[\"unopposed\"] = 0\n",
    "main.loc[main[\"Contested/\\nUncontested\"]==\"Uncontested\", \"unopposed\"] = 1"
   ]
  },
  {
   "cell_type": "code",
   "execution_count": 104,
   "metadata": {},
   "outputs": [],
   "source": [
    "#main[\"AUM\"] = main.apply(lambda x: '${:,.2f}'.format(x[\"AUM\"]), axis = 1)\n",
    "#main[\"Movant Loss\"] = main.apply(lambda x: '${:,.2f}'.format(x[\"Movant Loss\"]), axis = 1)\n",
    "#datapull[\"Total Damages\"] = datapull.apply(lambda x: '${:,.2f}'.format(x[\"Total Damages\"]), axis = 1)"
   ]
  },
  {
   "cell_type": "markdown",
   "metadata": {},
   "source": [
    "### I. MOVANT ANALYSIS BY REPORTED DAMAGES BY BUCKET"
   ]
  },
  {
   "cell_type": "markdown",
   "metadata": {},
   "source": [
    "#### I. A. Number of Cases by Bucket"
   ]
  },
  {
   "cell_type": "code",
   "execution_count": 105,
   "metadata": {},
   "outputs": [],
   "source": [
    "data_1a = datapull['Damage Bucket'].value_counts()"
   ]
  },
  {
   "cell_type": "code",
   "execution_count": 106,
   "metadata": {},
   "outputs": [],
   "source": [
    "y_val = data_1a.sort_index()\n",
    "x_val = data_1a.sort_index().index"
   ]
  },
  {
   "cell_type": "code",
   "execution_count": 107,
   "metadata": {},
   "outputs": [
    {
     "data": {
      "image/png": "[encoded data removed]",
      "text/plain": [
       "<Figure size 864x288 with 1 Axes>"
      ]
     },
     "metadata": {
      "needs_background": "light"
     },
     "output_type": "display_data"
    }
   ],
   "source": [
    "fig, ax = plt.subplots(figsize=(12,4))\n",
    "width = 0.75\n",
    "ind = np.arange(len((y_val)))\n",
    "plt.title('Number of Cases by Bucket')\n",
    "plt.yticks([], [])\n",
    "ax.bar(x_val, y_val, width, color = \"dodgerblue\")\n",
    "\n",
    "ax.set_ylim([0,y_val.max()+ 100])\n",
    "\n",
    "rects = ax.patches\n",
    "\n",
    "ax.yaxis.set_ticks_position('none')\n",
    "\n",
    "for rect, label in zip(rects, y_val):\n",
    "    height = rect.get_height()\n",
    "    ax.text(rect.get_x() + rect.get_width() / 2, height + 5, label,\n",
    "            ha='center', va='bottom')\n",
    "plt.show()"
   ]
  },
  {
   "cell_type": "markdown",
   "metadata": {},
   "source": [
    "#### I.B. Analysis by Bucket"
   ]
  },
  {
   "cell_type": "code",
   "execution_count": 108,
   "metadata": {},
   "outputs": [],
   "source": [
    "data_1b = datapull[['Damage Bucket', 'Ticker','Total Damages', '% of Total Damages']].dropna()\n",
    "data_1b['Total Damages'] = pd.to_numeric(data_1b['Total Damages'], errors='coerce').fillna(0)\n",
    "data_1b['% of Total Damages'] = pd.to_numeric(data_1b['% of Total Damages'], errors='coerce').fillna(0)\n",
    "data_1b = data_1b[~data_1b.Ticker.isin(data_1b[(data_1b['Damage Bucket']=='F') & (data_1b['Total Damages']==0)]['Ticker'])]\n"
   ]
  },
  {
   "cell_type": "code",
   "execution_count": 109,
   "metadata": {},
   "outputs": [],
   "source": [
    "data_1b_total = data_1b[['Damage Bucket', 'Ticker','Total Damages']]\n",
    "data_1b_describe_total = data_1b_total.pivot_table(index = 'Ticker', columns = 'Damage Bucket', values = 'Total Damages')\n",
    "data_1b_describe_total = data_1b_describe_total.describe()"
   ]
  },
  {
   "cell_type": "code",
   "execution_count": 110,
   "metadata": {},
   "outputs": [],
   "source": [
    "data_1b_bps = data_1b[['Damage Bucket', 'Ticker','% of Total Damages']]\n",
    "data_1b_describe_bps = data_1b_bps.pivot_table(index = 'Ticker', columns = 'Damage Bucket', values = '% of Total Damages')\n",
    "data_1b_describe_bps = data_1b_describe_bps.describe()"
   ]
  },
  {
   "cell_type": "code",
   "execution_count": 111,
   "metadata": {},
   "outputs": [],
   "source": [
    "x_val = np.sort(data_1b['Damage Bucket'].unique())"
   ]
  },
  {
   "cell_type": "code",
   "execution_count": 112,
   "metadata": {},
   "outputs": [
    {
     "data": {
      "image/png": "[encoded data removed]",
      "text/plain": [
       "<Figure size 864x288 with 1 Axes>"
      ]
     },
     "metadata": {
      "needs_background": "light"
     },
     "output_type": "display_data"
    }
   ],
   "source": [
    "#### plt.clf()\n",
    "pd.options.display.float_format = '${:,.0f}'.format\n",
    "plt.figure(figsize=(12,4))\n",
    "plt.title(\"Total Damages Box Plot\", size = 20)\n",
    "ax = sns.boxplot(y = 'Total Damages', x = 'Damage Bucket', data = data_1b_total[~data_1b_total[\"Damage Bucket\"].isin([\"E\", \"F\"])], order = x_val[:4], showfliers=False)\n",
    "ax.get_yaxis().set_major_formatter(FuncFormatter(lambda y, p: format(int(y), ',')))\n",
    "plt.show()"
   ]
  },
  {
   "cell_type": "code",
   "execution_count": 113,
   "metadata": {},
   "outputs": [
    {
     "data": {
      "image/png": "[encoded data removed]",
      "text/plain": [
       "<Figure size 360x288 with 1 Axes>"
      ]
     },
     "metadata": {
      "needs_background": "light"
     },
     "output_type": "display_data"
    }
   ],
   "source": [
    "plt.figure(figsize=(5,4))\n",
    "plt.title(\"Total Damages Box Plot\", size = 20)\n",
    "ax = sns.boxplot(y = 'Total Damages', x = 'Damage Bucket', data = data_1b_total[data_1b_total[\"Damage Bucket\"].isin([\"E\", \"F\"])], order = x_val[4:6], showfliers=False)\n",
    "ax.get_yaxis().set_major_formatter(FuncFormatter(lambda y, p: format(int(y), ',')))\n",
    "plt.show()"
   ]
  },
  {
   "cell_type": "code",
   "execution_count": 114,
   "metadata": {},
   "outputs": [
    {
     "name": "stdout",
     "output_type": "stream",
     "text": [
      "By Total Damage, Does Not Include DC Damages in Bucket F\n"
     ]
    },
    {
     "data": {
      "text/html": [
       "<div>\n",
       "<style scoped>\n",
       "    .dataframe tbody tr th:only-of-type {\n",
       "        vertical-align: middle;\n",
       "    }\n",
       "\n",
       "    .dataframe tbody tr th {\n",
       "        vertical-align: top;\n",
       "    }\n",
       "\n",
       "    .dataframe thead th {\n",
       "        text-align: right;\n",
       "    }\n",
       "</style>\n",
       "<table border=\"1\" class=\"dataframe\">\n",
       "  <thead>\n",
       "    <tr style=\"text-align: right;\">\n",
       "      <th>Damage Bucket</th>\n",
       "      <th>A</th>\n",
       "      <th>B</th>\n",
       "      <th>C</th>\n",
       "      <th>D</th>\n",
       "      <th>E</th>\n",
       "      <th>F</th>\n",
       "    </tr>\n",
       "  </thead>\n",
       "  <tbody>\n",
       "    <tr>\n",
       "      <th>count</th>\n",
       "      <td>$143</td>\n",
       "      <td>$105</td>\n",
       "      <td>$97</td>\n",
       "      <td>$119</td>\n",
       "      <td>$79</td>\n",
       "      <td>$189</td>\n",
       "    </tr>\n",
       "    <tr>\n",
       "      <th>mean</th>\n",
       "      <td>$12,352,797</td>\n",
       "      <td>$38,384,762</td>\n",
       "      <td>$76,113,402</td>\n",
       "      <td>$168,672,269</td>\n",
       "      <td>$382,202,532</td>\n",
       "      <td>$2,485,899,471</td>\n",
       "    </tr>\n",
       "    <tr>\n",
       "      <th>std</th>\n",
       "      <td>$7,291,582</td>\n",
       "      <td>$6,643,038</td>\n",
       "      <td>$14,861,777</td>\n",
       "      <td>$41,460,030</td>\n",
       "      <td>$78,746,328</td>\n",
       "      <td>$4,102,095,694</td>\n",
       "    </tr>\n",
       "    <tr>\n",
       "      <th>min</th>\n",
       "      <td>$0</td>\n",
       "      <td>$26,000,000</td>\n",
       "      <td>$52,000,000</td>\n",
       "      <td>$102,000,000</td>\n",
       "      <td>$260,000,000</td>\n",
       "      <td>$515,000,000</td>\n",
       "    </tr>\n",
       "    <tr>\n",
       "      <th>25%</th>\n",
       "      <td>$6,000,000</td>\n",
       "      <td>$35,000,000</td>\n",
       "      <td>$65,000,000</td>\n",
       "      <td>$133,000,000</td>\n",
       "      <td>$300,000,000</td>\n",
       "      <td>$740,000,000</td>\n",
       "    </tr>\n",
       "    <tr>\n",
       "      <th>50%</th>\n",
       "      <td>$12,000,000</td>\n",
       "      <td>$38,000,000</td>\n",
       "      <td>$75,000,000</td>\n",
       "      <td>$160,000,000</td>\n",
       "      <td>$365,000,000</td>\n",
       "      <td>$1,000,000,000</td>\n",
       "    </tr>\n",
       "    <tr>\n",
       "      <th>75%</th>\n",
       "      <td>$17,500,000</td>\n",
       "      <td>$45,000,000</td>\n",
       "      <td>$90,000,000</td>\n",
       "      <td>$200,000,000</td>\n",
       "      <td>$450,000,000</td>\n",
       "      <td>$2,000,000,000</td>\n",
       "    </tr>\n",
       "    <tr>\n",
       "      <th>max</th>\n",
       "      <td>$25,000,000</td>\n",
       "      <td>$50,000,000</td>\n",
       "      <td>$100,000,000</td>\n",
       "      <td>$250,000,000</td>\n",
       "      <td>$500,000,000</td>\n",
       "      <td>$25,000,000,000</td>\n",
       "    </tr>\n",
       "  </tbody>\n",
       "</table>\n",
       "</div>"
      ],
      "text/plain": [
       "Damage Bucket           A           B            C            D            E  \\\n",
       "count                $143        $105          $97         $119          $79   \n",
       "mean          $12,352,797 $38,384,762  $76,113,402 $168,672,269 $382,202,532   \n",
       "std            $7,291,582  $6,643,038  $14,861,777  $41,460,030  $78,746,328   \n",
       "min                    $0 $26,000,000  $52,000,000 $102,000,000 $260,000,000   \n",
       "25%            $6,000,000 $35,000,000  $65,000,000 $133,000,000 $300,000,000   \n",
       "50%           $12,000,000 $38,000,000  $75,000,000 $160,000,000 $365,000,000   \n",
       "75%           $17,500,000 $45,000,000  $90,000,000 $200,000,000 $450,000,000   \n",
       "max           $25,000,000 $50,000,000 $100,000,000 $250,000,000 $500,000,000   \n",
       "\n",
       "Damage Bucket               F  \n",
       "count                    $189  \n",
       "mean           $2,485,899,471  \n",
       "std            $4,102,095,694  \n",
       "min              $515,000,000  \n",
       "25%              $740,000,000  \n",
       "50%            $1,000,000,000  \n",
       "75%            $2,000,000,000  \n",
       "max           $25,000,000,000  "
      ]
     },
     "execution_count": 114,
     "metadata": {},
     "output_type": "execute_result"
    }
   ],
   "source": [
    "print(\"By Total Damage, Does Not Include DC Damages in Bucket F\")\n",
    "data_1b_describe_total"
   ]
  },
  {
   "cell_type": "code",
   "execution_count": 115,
   "metadata": {},
   "outputs": [
    {
     "name": "stdout",
     "output_type": "stream",
     "text": [
      "By BPS, Does Not Include DC Damages in Bucket F\n"
     ]
    },
    {
     "data": {
      "text/html": [
       "<div>\n",
       "<style scoped>\n",
       "    .dataframe tbody tr th:only-of-type {\n",
       "        vertical-align: middle;\n",
       "    }\n",
       "\n",
       "    .dataframe tbody tr th {\n",
       "        vertical-align: top;\n",
       "    }\n",
       "\n",
       "    .dataframe thead th {\n",
       "        text-align: right;\n",
       "    }\n",
       "</style>\n",
       "<table border=\"1\" class=\"dataframe\">\n",
       "  <thead>\n",
       "    <tr style=\"text-align: right;\">\n",
       "      <th>Damage Bucket</th>\n",
       "      <th>A</th>\n",
       "      <th>B</th>\n",
       "      <th>C</th>\n",
       "      <th>D</th>\n",
       "      <th>E</th>\n",
       "      <th>F</th>\n",
       "    </tr>\n",
       "  </thead>\n",
       "  <tbody>\n",
       "    <tr>\n",
       "      <th>count</th>\n",
       "      <td>14,300.00%</td>\n",
       "      <td>10,500.00%</td>\n",
       "      <td>9,700.00%</td>\n",
       "      <td>11,900.00%</td>\n",
       "      <td>7,900.00%</td>\n",
       "      <td>18,900.00%</td>\n",
       "    </tr>\n",
       "    <tr>\n",
       "      <th>mean</th>\n",
       "      <td>2.67%</td>\n",
       "      <td>1.11%</td>\n",
       "      <td>0.49%</td>\n",
       "      <td>0.61%</td>\n",
       "      <td>0.36%</td>\n",
       "      <td>0.36%</td>\n",
       "    </tr>\n",
       "    <tr>\n",
       "      <th>std</th>\n",
       "      <td>5.85%</td>\n",
       "      <td>2.00%</td>\n",
       "      <td>1.02%</td>\n",
       "      <td>1.64%</td>\n",
       "      <td>0.76%</td>\n",
       "      <td>0.88%</td>\n",
       "    </tr>\n",
       "    <tr>\n",
       "      <th>min</th>\n",
       "      <td>0.00%</td>\n",
       "      <td>0.00%</td>\n",
       "      <td>0.00%</td>\n",
       "      <td>0.00%</td>\n",
       "      <td>0.00%</td>\n",
       "      <td>0.00%</td>\n",
       "    </tr>\n",
       "    <tr>\n",
       "      <th>25%</th>\n",
       "      <td>0.08%</td>\n",
       "      <td>0.06%</td>\n",
       "      <td>0.02%</td>\n",
       "      <td>0.04%</td>\n",
       "      <td>0.01%</td>\n",
       "      <td>0.01%</td>\n",
       "    </tr>\n",
       "    <tr>\n",
       "      <th>50%</th>\n",
       "      <td>0.51%</td>\n",
       "      <td>0.33%</td>\n",
       "      <td>0.12%</td>\n",
       "      <td>0.16%</td>\n",
       "      <td>0.07%</td>\n",
       "      <td>0.09%</td>\n",
       "    </tr>\n",
       "    <tr>\n",
       "      <th>75%</th>\n",
       "      <td>2.01%</td>\n",
       "      <td>1.21%</td>\n",
       "      <td>0.46%</td>\n",
       "      <td>0.40%</td>\n",
       "      <td>0.33%</td>\n",
       "      <td>0.28%</td>\n",
       "    </tr>\n",
       "    <tr>\n",
       "      <th>max</th>\n",
       "      <td>38.40%</td>\n",
       "      <td>13.61%</td>\n",
       "      <td>6.80%</td>\n",
       "      <td>12.57%</td>\n",
       "      <td>4.90%</td>\n",
       "      <td>7.29%</td>\n",
       "    </tr>\n",
       "  </tbody>\n",
       "</table>\n",
       "</div>"
      ],
      "text/plain": [
       "Damage Bucket          A          B         C          D         E          F\n",
       "count         14,300.00% 10,500.00% 9,700.00% 11,900.00% 7,900.00% 18,900.00%\n",
       "mean               2.67%      1.11%     0.49%      0.61%     0.36%      0.36%\n",
       "std                5.85%      2.00%     1.02%      1.64%     0.76%      0.88%\n",
       "min                0.00%      0.00%     0.00%      0.00%     0.00%      0.00%\n",
       "25%                0.08%      0.06%     0.02%      0.04%     0.01%      0.01%\n",
       "50%                0.51%      0.33%     0.12%      0.16%     0.07%      0.09%\n",
       "75%                2.01%      1.21%     0.46%      0.40%     0.33%      0.28%\n",
       "max               38.40%     13.61%     6.80%     12.57%     4.90%      7.29%"
      ]
     },
     "execution_count": 115,
     "metadata": {},
     "output_type": "execute_result"
    }
   ],
   "source": [
    "pd.options.display.float_format = '{:,.2%}'.format\n",
    "print(\"By BPS, Does Not Include DC Damages in Bucket F\")\n",
    "data_1b_describe_bps "
   ]
  },
  {
   "cell_type": "markdown",
   "metadata": {},
   "source": [
    "#### Largest and 2nd Largest Bucket"
   ]
  },
  {
   "cell_type": "code",
   "execution_count": 116,
   "metadata": {},
   "outputs": [],
   "source": [
    "for i in x_val:\n",
    "    data_1b_largest = np.sort(main[(main[\"Damage Bucket\"] == i) & (~main[\"Ticker\"].isin(removed_tickers))].pivot_table(index = \"Movant ID\", columns = \"Ticker\", values = \"Total Damages in Group\").fillna(0), axis = 0)[-2:,:]\n",
    "    if i == \"A\":\n",
    "        data_1b_largest1 = pd.DataFrame(np.transpose(np.transpose(data_1b_largest)[np.all(data_1b_largest != 0, axis =0)])[1]).describe()\n",
    "        data_1b_largest2 = pd.DataFrame(np.transpose(np.transpose(data_1b_largest)[np.all(data_1b_largest != 0, axis =0)])[0]).describe()\n",
    "    else:\n",
    "        data_1b_largest1 = pd.concat([data_1b_largest1, pd.DataFrame(np.transpose(np.transpose(data_1b_largest)[np.all(data_1b_largest != 0, axis =0)])[1]).describe()], axis = 1)       \n",
    "        data_1b_largest2 = pd.concat([data_1b_largest2, pd.DataFrame(np.transpose(np.transpose(data_1b_largest)[np.all(data_1b_largest != 0, axis =0)])[0]).describe()], axis = 1)"
   ]
  },
  {
   "cell_type": "code",
   "execution_count": 117,
   "metadata": {},
   "outputs": [],
   "source": [
    "data_1b_largest1.columns = x_val.tolist()\n",
    "data_1b_largest2.columns = x_val.tolist()"
   ]
  },
  {
   "cell_type": "code",
   "execution_count": 118,
   "metadata": {},
   "outputs": [
    {
     "name": "stdout",
     "output_type": "stream",
     "text": [
      "Largest Movants\n"
     ]
    },
    {
     "data": {
      "text/html": [
       "<div>\n",
       "<style scoped>\n",
       "    .dataframe tbody tr th:only-of-type {\n",
       "        vertical-align: middle;\n",
       "    }\n",
       "\n",
       "    .dataframe tbody tr th {\n",
       "        vertical-align: top;\n",
       "    }\n",
       "\n",
       "    .dataframe thead th {\n",
       "        text-align: right;\n",
       "    }\n",
       "</style>\n",
       "<table border=\"1\" class=\"dataframe\">\n",
       "  <thead>\n",
       "    <tr style=\"text-align: right;\">\n",
       "      <th></th>\n",
       "      <th>A</th>\n",
       "      <th>B</th>\n",
       "      <th>C</th>\n",
       "      <th>D</th>\n",
       "      <th>E</th>\n",
       "      <th>F</th>\n",
       "    </tr>\n",
       "  </thead>\n",
       "  <tbody>\n",
       "    <tr>\n",
       "      <th>count</th>\n",
       "      <td>$85</td>\n",
       "      <td>$64</td>\n",
       "      <td>$53</td>\n",
       "      <td>$81</td>\n",
       "      <td>$47</td>\n",
       "      <td>$160</td>\n",
       "    </tr>\n",
       "    <tr>\n",
       "      <th>mean</th>\n",
       "      <td>$134,386</td>\n",
       "      <td>$315,645</td>\n",
       "      <td>$195,321</td>\n",
       "      <td>$578,772</td>\n",
       "      <td>$666,692</td>\n",
       "      <td>$4,262,018</td>\n",
       "    </tr>\n",
       "    <tr>\n",
       "      <th>std</th>\n",
       "      <td>$184,353</td>\n",
       "      <td>$345,440</td>\n",
       "      <td>$193,500</td>\n",
       "      <td>$819,961</td>\n",
       "      <td>$706,465</td>\n",
       "      <td>$8,177,377</td>\n",
       "    </tr>\n",
       "    <tr>\n",
       "      <th>min</th>\n",
       "      <td>$1,667</td>\n",
       "      <td>$225</td>\n",
       "      <td>$6,105</td>\n",
       "      <td>$76</td>\n",
       "      <td>$2,083</td>\n",
       "      <td>$2,419</td>\n",
       "    </tr>\n",
       "    <tr>\n",
       "      <th>25%</th>\n",
       "      <td>$27,284</td>\n",
       "      <td>$69,514</td>\n",
       "      <td>$49,334</td>\n",
       "      <td>$132,019</td>\n",
       "      <td>$113,892</td>\n",
       "      <td>$393,574</td>\n",
       "    </tr>\n",
       "    <tr>\n",
       "      <th>50%</th>\n",
       "      <td>$72,994</td>\n",
       "      <td>$177,874</td>\n",
       "      <td>$120,984</td>\n",
       "      <td>$431,941</td>\n",
       "      <td>$314,789</td>\n",
       "      <td>$1,621,409</td>\n",
       "    </tr>\n",
       "    <tr>\n",
       "      <th>75%</th>\n",
       "      <td>$144,271</td>\n",
       "      <td>$457,163</td>\n",
       "      <td>$283,547</td>\n",
       "      <td>$695,596</td>\n",
       "      <td>$1,118,261</td>\n",
       "      <td>$4,537,218</td>\n",
       "    </tr>\n",
       "    <tr>\n",
       "      <th>max</th>\n",
       "      <td>$1,073,468</td>\n",
       "      <td>$1,324,688</td>\n",
       "      <td>$773,028</td>\n",
       "      <td>$6,373,736</td>\n",
       "      <td>$2,467,510</td>\n",
       "      <td>$68,161,973</td>\n",
       "    </tr>\n",
       "  </tbody>\n",
       "</table>\n",
       "</div>"
      ],
      "text/plain": [
       "               A          B        C          D          E           F\n",
       "count        $85        $64      $53        $81        $47        $160\n",
       "mean    $134,386   $315,645 $195,321   $578,772   $666,692  $4,262,018\n",
       "std     $184,353   $345,440 $193,500   $819,961   $706,465  $8,177,377\n",
       "min       $1,667       $225   $6,105        $76     $2,083      $2,419\n",
       "25%      $27,284    $69,514  $49,334   $132,019   $113,892    $393,574\n",
       "50%      $72,994   $177,874 $120,984   $431,941   $314,789  $1,621,409\n",
       "75%     $144,271   $457,163 $283,547   $695,596 $1,118,261  $4,537,218\n",
       "max   $1,073,468 $1,324,688 $773,028 $6,373,736 $2,467,510 $68,161,973"
      ]
     },
     "execution_count": 118,
     "metadata": {},
     "output_type": "execute_result"
    }
   ],
   "source": [
    "pd.options.display.float_format = '${:,.0f}'.format\n",
    "print(\"Largest Movants\")\n",
    "data_1b_largest1"
   ]
  },
  {
   "cell_type": "code",
   "execution_count": 119,
   "metadata": {
    "scrolled": true
   },
   "outputs": [
    {
     "name": "stdout",
     "output_type": "stream",
     "text": [
      "Second Largest Movants\n"
     ]
    },
    {
     "data": {
      "text/html": [
       "<div>\n",
       "<style scoped>\n",
       "    .dataframe tbody tr th:only-of-type {\n",
       "        vertical-align: middle;\n",
       "    }\n",
       "\n",
       "    .dataframe tbody tr th {\n",
       "        vertical-align: top;\n",
       "    }\n",
       "\n",
       "    .dataframe thead th {\n",
       "        text-align: right;\n",
       "    }\n",
       "</style>\n",
       "<table border=\"1\" class=\"dataframe\">\n",
       "  <thead>\n",
       "    <tr style=\"text-align: right;\">\n",
       "      <th></th>\n",
       "      <th>A</th>\n",
       "      <th>B</th>\n",
       "      <th>C</th>\n",
       "      <th>D</th>\n",
       "      <th>E</th>\n",
       "      <th>F</th>\n",
       "    </tr>\n",
       "  </thead>\n",
       "  <tbody>\n",
       "    <tr>\n",
       "      <th>count</th>\n",
       "      <td>$85</td>\n",
       "      <td>$64</td>\n",
       "      <td>$53</td>\n",
       "      <td>$81</td>\n",
       "      <td>$47</td>\n",
       "      <td>$160</td>\n",
       "    </tr>\n",
       "    <tr>\n",
       "      <th>mean</th>\n",
       "      <td>$46,953</td>\n",
       "      <td>$105,817</td>\n",
       "      <td>$59,265</td>\n",
       "      <td>$228,608</td>\n",
       "      <td>$247,507</td>\n",
       "      <td>$1,519,852</td>\n",
       "    </tr>\n",
       "    <tr>\n",
       "      <th>std</th>\n",
       "      <td>$74,364</td>\n",
       "      <td>$156,047</td>\n",
       "      <td>$59,842</td>\n",
       "      <td>$467,297</td>\n",
       "      <td>$284,396</td>\n",
       "      <td>$3,741,251</td>\n",
       "    </tr>\n",
       "    <tr>\n",
       "      <th>min</th>\n",
       "      <td>$73</td>\n",
       "      <td>$215</td>\n",
       "      <td>$1,559</td>\n",
       "      <td>$51</td>\n",
       "      <td>$479</td>\n",
       "      <td>$33</td>\n",
       "    </tr>\n",
       "    <tr>\n",
       "      <th>25%</th>\n",
       "      <td>$4,878</td>\n",
       "      <td>$19,899</td>\n",
       "      <td>$11,800</td>\n",
       "      <td>$39,750</td>\n",
       "      <td>$25,704</td>\n",
       "      <td>$115,706</td>\n",
       "    </tr>\n",
       "    <tr>\n",
       "      <th>50%</th>\n",
       "      <td>$14,897</td>\n",
       "      <td>$44,022</td>\n",
       "      <td>$38,421</td>\n",
       "      <td>$143,026</td>\n",
       "      <td>$141,390</td>\n",
       "      <td>$481,833</td>\n",
       "    </tr>\n",
       "    <tr>\n",
       "      <th>75%</th>\n",
       "      <td>$51,426</td>\n",
       "      <td>$127,147</td>\n",
       "      <td>$83,244</td>\n",
       "      <td>$268,919</td>\n",
       "      <td>$378,293</td>\n",
       "      <td>$1,409,536</td>\n",
       "    </tr>\n",
       "    <tr>\n",
       "      <th>max</th>\n",
       "      <td>$465,143</td>\n",
       "      <td>$975,503</td>\n",
       "      <td>$289,638</td>\n",
       "      <td>$4,124,236</td>\n",
       "      <td>$1,226,503</td>\n",
       "      <td>$30,462,907</td>\n",
       "    </tr>\n",
       "  </tbody>\n",
       "</table>\n",
       "</div>"
      ],
      "text/plain": [
       "             A        B        C          D          E           F\n",
       "count      $85      $64      $53        $81        $47        $160\n",
       "mean   $46,953 $105,817  $59,265   $228,608   $247,507  $1,519,852\n",
       "std    $74,364 $156,047  $59,842   $467,297   $284,396  $3,741,251\n",
       "min        $73     $215   $1,559        $51       $479         $33\n",
       "25%     $4,878  $19,899  $11,800    $39,750    $25,704    $115,706\n",
       "50%    $14,897  $44,022  $38,421   $143,026   $141,390    $481,833\n",
       "75%    $51,426 $127,147  $83,244   $268,919   $378,293  $1,409,536\n",
       "max   $465,143 $975,503 $289,638 $4,124,236 $1,226,503 $30,462,907"
      ]
     },
     "execution_count": 119,
     "metadata": {},
     "output_type": "execute_result"
    }
   ],
   "source": [
    "pd.options.display.float_format = '${:,.0f}'.format\n",
    "print(\"Second Largest Movants\")\n",
    "data_1b_largest2"
   ]
  },
  {
   "cell_type": "markdown",
   "metadata": {},
   "source": [
    "#### I.C. Win-Loss Analysis"
   ]
  },
  {
   "cell_type": "code",
   "execution_count": 120,
   "metadata": {},
   "outputs": [],
   "source": [
    "data_1c = main[[\"Movant\", \"Damage Bucket\", \"Type\", \"win\", \"Type (Ind, Ins, G-Ind, G-Ins, G-Mix)\"]]"
   ]
  },
  {
   "cell_type": "markdown",
   "metadata": {},
   "source": [
    "#### I.C.1 Largest Movant"
   ]
  },
  {
   "cell_type": "code",
   "execution_count": 121,
   "metadata": {},
   "outputs": [],
   "source": [
    "data_1c1_wins = main.groupby(\"Movant\")[\"win\"].agg([\"sum\", \"count\"])\n",
    "data_1c1_wins[\"win_rate\"] = data_1c1_wins[\"sum\"]/data_1c1_wins[\"count\"]\n",
    "data_1c1_losses = main.groupby(\"Movant\")[\"Movant Loss\"].sum()"
   ]
  },
  {
   "cell_type": "code",
   "execution_count": 122,
   "metadata": {},
   "outputs": [],
   "source": [
    "data_1c1_largest = data_1c1_losses[data_1c1_losses == data_1c1_losses.max()].index"
   ]
  },
  {
   "cell_type": "code",
   "execution_count": 123,
   "metadata": {},
   "outputs": [
    {
     "name": "stdout",
     "output_type": "stream",
     "text": [
      "The number of wins, cases and win rate of the largest movant is\n"
     ]
    },
    {
     "data": {
      "text/html": [
       "<div>\n",
       "<style scoped>\n",
       "    .dataframe tbody tr th:only-of-type {\n",
       "        vertical-align: middle;\n",
       "    }\n",
       "\n",
       "    .dataframe tbody tr th {\n",
       "        vertical-align: top;\n",
       "    }\n",
       "\n",
       "    .dataframe thead th {\n",
       "        text-align: right;\n",
       "    }\n",
       "</style>\n",
       "<table border=\"1\" class=\"dataframe\">\n",
       "  <thead>\n",
       "    <tr style=\"text-align: right;\">\n",
       "      <th></th>\n",
       "      <th>sum</th>\n",
       "      <th>count</th>\n",
       "      <th>win_rate</th>\n",
       "    </tr>\n",
       "    <tr>\n",
       "      <th>Movant</th>\n",
       "      <th></th>\n",
       "      <th></th>\n",
       "      <th></th>\n",
       "    </tr>\n",
       "  </thead>\n",
       "  <tbody>\n",
       "    <tr>\n",
       "      <th>Union Asset Management Holding AG</th>\n",
       "      <td>7</td>\n",
       "      <td>9</td>\n",
       "      <td>0.78</td>\n",
       "    </tr>\n",
       "  </tbody>\n",
       "</table>\n",
       "</div>"
      ],
      "text/plain": [
       "                                   sum  count  win_rate\n",
       "Movant                                                 \n",
       "Union Asset Management Holding AG    7      9      0.78"
      ]
     },
     "execution_count": 123,
     "metadata": {},
     "output_type": "execute_result"
    }
   ],
   "source": [
    "pd.options.display.float_format = '{:,.2f}'.format\n",
    "print(\"The number of wins, cases and win rate of the largest movant is\")\n",
    "data_1c1_wins[data_1c1_wins.index.isin(data_1c1_largest)]"
   ]
  },
  {
   "cell_type": "code",
   "execution_count": 124,
   "metadata": {},
   "outputs": [],
   "source": [
    "#### I.C.2 Win Rate by Movant Category"
   ]
  },
  {
   "cell_type": "code",
   "execution_count": 125,
   "metadata": {},
   "outputs": [],
   "source": [
    "data_1c2 = data_1c.groupby(\"Type\")[\"win\"].agg([\"sum\", \"count\"])\n",
    "data_1c2[\"win_rate\"] = data_1c2[\"sum\"]/data_1c2[\"count\"]"
   ]
  },
  {
   "cell_type": "code",
   "execution_count": 126,
   "metadata": {},
   "outputs": [],
   "source": [
    "x_val = data_1c2.index\n",
    "y_val = data_1c2.win_rate"
   ]
  },
  {
   "cell_type": "code",
   "execution_count": 127,
   "metadata": {
    "scrolled": true
   },
   "outputs": [
    {
     "data": {
      "image/png": "[encoded data removed]",
      "text/plain": [
       "<Figure size 432x288 with 1 Axes>"
      ]
     },
     "metadata": {
      "needs_background": "light"
     },
     "output_type": "display_data"
    }
   ],
   "source": [
    "\n",
    "fig, ax = plt.subplots(figsize=(6,4))\n",
    "width = 0.75\n",
    "ind = np.arange(len((y_val)))\n",
    "plt.title('Win Rate by Movant Category')\n",
    "plt.yticks([], [])\n",
    "ax.bar(x_val, y_val, width, color = \"dodgerblue\")\n",
    "\n",
    "rects = ax.patches\n",
    "\n",
    "ax.yaxis.set_ticks_position('none')\n",
    "\n",
    "ax.set_ylim([0,y_val.max()+ 0.1])\n",
    "\n",
    "for rect, label in zip(rects, y_val):\n",
    "    height = rect.get_height()\n",
    "    ax.text(rect.get_x() + rect.get_width() / 2, height + 0.01, \"{:,.1%}\".format(label),\n",
    "            ha='center', va='bottom')\n",
    "plt.show()"
   ]
  },
  {
   "cell_type": "code",
   "execution_count": 128,
   "metadata": {},
   "outputs": [],
   "source": [
    "#### I.C.3. Win Rate By Bucket"
   ]
  },
  {
   "cell_type": "code",
   "execution_count": 129,
   "metadata": {},
   "outputs": [],
   "source": [
    "data_1c3 = data_1c.groupby(\"Damage Bucket\")[\"win\"].agg([\"sum\", \"count\"])\n",
    "data_1c3[\"win_rate\"] = data_1c3[\"sum\"]/data_1c3[\"count\"]"
   ]
  },
  {
   "cell_type": "code",
   "execution_count": 130,
   "metadata": {},
   "outputs": [],
   "source": [
    "x_val = data_1c3.index\n",
    "y_val = data_1c3.win_rate"
   ]
  },
  {
   "cell_type": "code",
   "execution_count": 131,
   "metadata": {
    "scrolled": true
   },
   "outputs": [
    {
     "data": {
      "image/png": "[encoded data removed]",
      "text/plain": [
       "<Figure size 864x288 with 1 Axes>"
      ]
     },
     "metadata": {
      "needs_background": "light"
     },
     "output_type": "display_data"
    }
   ],
   "source": [
    "\n",
    "fig, ax = plt.subplots(figsize=(12,4))\n",
    "width = 0.75\n",
    "ind = np.arange(len((y_val)))\n",
    "plt.title('Win Rate by Movant Category')\n",
    "plt.yticks([], [])\n",
    "ax.bar(x_val, y_val, width, color = \"dodgerblue\")\n",
    "\n",
    "rects = ax.patches\n",
    "\n",
    "ax.yaxis.set_ticks_position('none')\n",
    "\n",
    "ax.set_ylim([0,y_val.max()+ 0.1])\n",
    "\n",
    "for rect, label in zip(rects, y_val):\n",
    "    height = rect.get_height()\n",
    "    ax.text(rect.get_x() + rect.get_width() / 2, height + 0.01, \"{:,.1%}\".format(label),\n",
    "            ha='center', va='bottom')\n",
    "plt.show()"
   ]
  },
  {
   "cell_type": "code",
   "execution_count": 132,
   "metadata": {},
   "outputs": [],
   "source": [
    "#### I.C.4. Win Rate By Bucket by Movant Type"
   ]
  },
  {
   "cell_type": "code",
   "execution_count": 133,
   "metadata": {},
   "outputs": [],
   "source": [
    "data_1c4 = data_1c.groupby([\"Type (Ind, Ins, G-Ind, G-Ins, G-Mix)\", \"Damage Bucket\"])[\"win\"].agg([\"sum\", \"count\"])\n",
    "data_1c4[\"win_rate\"] = data_1c4[\"sum\"]/data_1c4[\"count\"]"
   ]
  },
  {
   "cell_type": "code",
   "execution_count": 134,
   "metadata": {},
   "outputs": [],
   "source": [
    "x_val = data_1c4.index\n",
    "y_val = data_1c4.win_rate"
   ]
  },
  {
   "cell_type": "code",
   "execution_count": 135,
   "metadata": {
    "scrolled": true
   },
   "outputs": [
    {
     "data": {
      "image/png": "[encoded data removed]",
      "text/plain": [
       "<Figure size 1152x288 with 1 Axes>"
      ]
     },
     "metadata": {
      "needs_background": "light"
     },
     "output_type": "display_data"
    }
   ],
   "source": [
    "fig, ax = plt.subplots(figsize=(16,4))\n",
    "width = 0.15\n",
    "ind = np.arange(6)\n",
    "legends = [\"G-Ind\", \"G-Ins\", \"G-Mix\", \"Ind\", \"Ins\"]\n",
    "buckets = [\"A\", \"B\", \"C\", \"D\", \"E\", \"F\"]\n",
    "colors=['teal', 'gold', 'plum', 'darkseagreen', 'lightcoral', \"mediumorchid\"]\n",
    "\n",
    "plt.title('Win Rate by Movant Category')\n",
    "plt.yticks([], [])\n",
    "\n",
    "rects = []\n",
    "\n",
    "for i in range(len(legends)):\n",
    "    box = ax.bar(ind + width*(i-1), y_val[legends[i]], width, color = colors[i], label = legends[i])\n",
    "    rects.append(box)\n",
    "\n",
    "plt.legend([i for i in rects], legends)\n",
    "\n",
    "\n",
    "ax.set_xticks(ind+width)\n",
    "ax.set_xticklabels(buckets)\n",
    "ax.yaxis.set_ticks_position('none')\n",
    "ax.set_ylim([0,y_val.max()+ 0.1])\n",
    "\n",
    "def autolabel(i):\n",
    "    for rect in i:\n",
    "        h = rect.get_height()\n",
    "        ax.text(rect.get_x()+rect.get_width()/2., 1.05*h, \"{:,.0%}\".format(h),\n",
    "                ha='center', va='bottom')\n",
    "        \n",
    "for i in rects:\n",
    "    autolabel(i)\n",
    "\n",
    "\n",
    "\n",
    "plt.show()"
   ]
  },
  {
   "cell_type": "markdown",
   "metadata": {},
   "source": [
    "### II. ANALYSIS BY TYPE OF MOVANT"
   ]
  },
  {
   "cell_type": "markdown",
   "metadata": {},
   "source": [
    "#### II. A. Number of Movants by Bucket"
   ]
  },
  {
   "cell_type": "code",
   "execution_count": 136,
   "metadata": {},
   "outputs": [],
   "source": [
    "data_2a = main[\"Damage Bucket\"].value_counts()"
   ]
  },
  {
   "cell_type": "code",
   "execution_count": 137,
   "metadata": {},
   "outputs": [],
   "source": [
    "y_val = data_2a.sort_index()\n",
    "x_val = data_2a.sort_index().index"
   ]
  },
  {
   "cell_type": "code",
   "execution_count": 138,
   "metadata": {},
   "outputs": [
    {
     "data": {
      "image/png": "[encoded data removed]",
      "text/plain": [
       "<Figure size 864x288 with 1 Axes>"
      ]
     },
     "metadata": {
      "needs_background": "light"
     },
     "output_type": "display_data"
    }
   ],
   "source": [
    "fig, ax = plt.subplots(figsize=(12,4))\n",
    "width = 0.75\n",
    "ind = np.arange(len((y_val)))\n",
    "plt.title('Number of Movants by Bucket')\n",
    "plt.yticks([], [])\n",
    "ax.bar(x_val, y_val, width, color = \"dodgerblue\")\n",
    "\n",
    "rects = ax.patches\n",
    "\n",
    "ax.yaxis.set_ticks_position('none')\n",
    "\n",
    "ax.set_ylim([0,y_val.max()+ 100])\n",
    "\n",
    "for rect, label in zip(rects, y_val):\n",
    "    height = rect.get_height()\n",
    "    ax.text(rect.get_x() + rect.get_width() / 2, height + 5, label,\n",
    "            ha='center', va='bottom')\n",
    "plt.show()"
   ]
  },
  {
   "cell_type": "markdown",
   "metadata": {},
   "source": [
    "#### II.B. Number of Movants by Case"
   ]
  },
  {
   "cell_type": "code",
   "execution_count": 139,
   "metadata": {},
   "outputs": [],
   "source": [
    "data_2b = main.groupby(\"Ticker\")[\"Movant ID\"].count().reset_index()\n",
    "data_2b_describe = data_2b.describe()"
   ]
  },
  {
   "cell_type": "code",
   "execution_count": 140,
   "metadata": {},
   "outputs": [
    {
     "data": {
      "text/html": [
       "<div>\n",
       "<style scoped>\n",
       "    .dataframe tbody tr th:only-of-type {\n",
       "        vertical-align: middle;\n",
       "    }\n",
       "\n",
       "    .dataframe tbody tr th {\n",
       "        vertical-align: top;\n",
       "    }\n",
       "\n",
       "    .dataframe thead th {\n",
       "        text-align: right;\n",
       "    }\n",
       "</style>\n",
       "<table border=\"1\" class=\"dataframe\">\n",
       "  <thead>\n",
       "    <tr style=\"text-align: right;\">\n",
       "      <th></th>\n",
       "      <th>Movant ID</th>\n",
       "    </tr>\n",
       "  </thead>\n",
       "  <tbody>\n",
       "    <tr>\n",
       "      <th>count</th>\n",
       "      <td>708.00</td>\n",
       "    </tr>\n",
       "    <tr>\n",
       "      <th>mean</th>\n",
       "      <td>5.36</td>\n",
       "    </tr>\n",
       "    <tr>\n",
       "      <th>std</th>\n",
       "      <td>4.66</td>\n",
       "    </tr>\n",
       "    <tr>\n",
       "      <th>min</th>\n",
       "      <td>1.00</td>\n",
       "    </tr>\n",
       "    <tr>\n",
       "      <th>25%</th>\n",
       "      <td>2.00</td>\n",
       "    </tr>\n",
       "    <tr>\n",
       "      <th>50%</th>\n",
       "      <td>4.00</td>\n",
       "    </tr>\n",
       "    <tr>\n",
       "      <th>75%</th>\n",
       "      <td>7.00</td>\n",
       "    </tr>\n",
       "    <tr>\n",
       "      <th>max</th>\n",
       "      <td>44.00</td>\n",
       "    </tr>\n",
       "  </tbody>\n",
       "</table>\n",
       "</div>"
      ],
      "text/plain": [
       "       Movant ID\n",
       "count     708.00\n",
       "mean        5.36\n",
       "std         4.66\n",
       "min         1.00\n",
       "25%         2.00\n",
       "50%         4.00\n",
       "75%         7.00\n",
       "max        44.00"
      ]
     },
     "execution_count": 140,
     "metadata": {},
     "output_type": "execute_result"
    }
   ],
   "source": [
    "pd.options.display.float_format = '{:.2f}'.format\n",
    "data_2b_describe"
   ]
  },
  {
   "cell_type": "markdown",
   "metadata": {},
   "source": [
    "#### II.C. Movant By Type By Bucket"
   ]
  },
  {
   "cell_type": "code",
   "execution_count": 141,
   "metadata": {},
   "outputs": [],
   "source": [
    "data_2c = main[[\"Damage Bucket\", \"Type (Ind, Ins, G-Ind, G-Ins, G-Mix)\", \"Movant ID\"]]"
   ]
  },
  {
   "cell_type": "code",
   "execution_count": 142,
   "metadata": {},
   "outputs": [],
   "source": [
    "data_2c_grouped = data_2c.groupby([\"Damage Bucket\", \"Type (Ind, Ins, G-Ind, G-Ins, G-Mix)\"])[\"Movant ID\"].count().reset_index()"
   ]
  },
  {
   "cell_type": "code",
   "execution_count": 143,
   "metadata": {},
   "outputs": [
    {
     "data": {
      "text/html": [
       "<div>\n",
       "<style scoped>\n",
       "    .dataframe tbody tr th:only-of-type {\n",
       "        vertical-align: middle;\n",
       "    }\n",
       "\n",
       "    .dataframe tbody tr th {\n",
       "        vertical-align: top;\n",
       "    }\n",
       "\n",
       "    .dataframe thead th {\n",
       "        text-align: right;\n",
       "    }\n",
       "</style>\n",
       "<table border=\"1\" class=\"dataframe\">\n",
       "  <thead>\n",
       "    <tr style=\"text-align: right;\">\n",
       "      <th></th>\n",
       "      <th>Damage Bucket</th>\n",
       "      <th>Type (Ind, Ins, G-Ind, G-Ins, G-Mix)</th>\n",
       "      <th>Movant ID</th>\n",
       "    </tr>\n",
       "  </thead>\n",
       "  <tbody>\n",
       "    <tr>\n",
       "      <th>0</th>\n",
       "      <td>A</td>\n",
       "      <td>G-Ind</td>\n",
       "      <td>279</td>\n",
       "    </tr>\n",
       "    <tr>\n",
       "      <th>1</th>\n",
       "      <td>A</td>\n",
       "      <td>G-Ins</td>\n",
       "      <td>8</td>\n",
       "    </tr>\n",
       "    <tr>\n",
       "      <th>2</th>\n",
       "      <td>A</td>\n",
       "      <td>G-Mix</td>\n",
       "      <td>21</td>\n",
       "    </tr>\n",
       "    <tr>\n",
       "      <th>3</th>\n",
       "      <td>A</td>\n",
       "      <td>Ind</td>\n",
       "      <td>186</td>\n",
       "    </tr>\n",
       "    <tr>\n",
       "      <th>4</th>\n",
       "      <td>A</td>\n",
       "      <td>Ins</td>\n",
       "      <td>26</td>\n",
       "    </tr>\n",
       "    <tr>\n",
       "      <th>5</th>\n",
       "      <td>B</td>\n",
       "      <td>G-Ind</td>\n",
       "      <td>271</td>\n",
       "    </tr>\n",
       "    <tr>\n",
       "      <th>6</th>\n",
       "      <td>B</td>\n",
       "      <td>G-Ins</td>\n",
       "      <td>12</td>\n",
       "    </tr>\n",
       "    <tr>\n",
       "      <th>7</th>\n",
       "      <td>B</td>\n",
       "      <td>G-Mix</td>\n",
       "      <td>25</td>\n",
       "    </tr>\n",
       "    <tr>\n",
       "      <th>8</th>\n",
       "      <td>B</td>\n",
       "      <td>Ind</td>\n",
       "      <td>144</td>\n",
       "    </tr>\n",
       "    <tr>\n",
       "      <th>9</th>\n",
       "      <td>B</td>\n",
       "      <td>Ins</td>\n",
       "      <td>30</td>\n",
       "    </tr>\n",
       "    <tr>\n",
       "      <th>10</th>\n",
       "      <td>C</td>\n",
       "      <td>G-Ind</td>\n",
       "      <td>168</td>\n",
       "    </tr>\n",
       "    <tr>\n",
       "      <th>11</th>\n",
       "      <td>C</td>\n",
       "      <td>G-Ins</td>\n",
       "      <td>9</td>\n",
       "    </tr>\n",
       "    <tr>\n",
       "      <th>12</th>\n",
       "      <td>C</td>\n",
       "      <td>G-Mix</td>\n",
       "      <td>25</td>\n",
       "    </tr>\n",
       "    <tr>\n",
       "      <th>13</th>\n",
       "      <td>C</td>\n",
       "      <td>Ind</td>\n",
       "      <td>148</td>\n",
       "    </tr>\n",
       "    <tr>\n",
       "      <th>14</th>\n",
       "      <td>C</td>\n",
       "      <td>Ins</td>\n",
       "      <td>33</td>\n",
       "    </tr>\n",
       "    <tr>\n",
       "      <th>15</th>\n",
       "      <td>D</td>\n",
       "      <td>G-Ind</td>\n",
       "      <td>284</td>\n",
       "    </tr>\n",
       "    <tr>\n",
       "      <th>16</th>\n",
       "      <td>D</td>\n",
       "      <td>G-Ins</td>\n",
       "      <td>45</td>\n",
       "    </tr>\n",
       "    <tr>\n",
       "      <th>17</th>\n",
       "      <td>D</td>\n",
       "      <td>G-Mix</td>\n",
       "      <td>39</td>\n",
       "    </tr>\n",
       "    <tr>\n",
       "      <th>18</th>\n",
       "      <td>D</td>\n",
       "      <td>Ind</td>\n",
       "      <td>183</td>\n",
       "    </tr>\n",
       "    <tr>\n",
       "      <th>19</th>\n",
       "      <td>D</td>\n",
       "      <td>Ins</td>\n",
       "      <td>92</td>\n",
       "    </tr>\n",
       "    <tr>\n",
       "      <th>20</th>\n",
       "      <td>E</td>\n",
       "      <td>G-Ind</td>\n",
       "      <td>176</td>\n",
       "    </tr>\n",
       "    <tr>\n",
       "      <th>21</th>\n",
       "      <td>E</td>\n",
       "      <td>G-Ins</td>\n",
       "      <td>75</td>\n",
       "    </tr>\n",
       "    <tr>\n",
       "      <th>22</th>\n",
       "      <td>E</td>\n",
       "      <td>G-Mix</td>\n",
       "      <td>25</td>\n",
       "    </tr>\n",
       "    <tr>\n",
       "      <th>23</th>\n",
       "      <td>E</td>\n",
       "      <td>Ind</td>\n",
       "      <td>143</td>\n",
       "    </tr>\n",
       "    <tr>\n",
       "      <th>24</th>\n",
       "      <td>E</td>\n",
       "      <td>Ins</td>\n",
       "      <td>74</td>\n",
       "    </tr>\n",
       "    <tr>\n",
       "      <th>25</th>\n",
       "      <td>F</td>\n",
       "      <td>G-Ind</td>\n",
       "      <td>347</td>\n",
       "    </tr>\n",
       "    <tr>\n",
       "      <th>26</th>\n",
       "      <td>F</td>\n",
       "      <td>G-Ins</td>\n",
       "      <td>210</td>\n",
       "    </tr>\n",
       "    <tr>\n",
       "      <th>27</th>\n",
       "      <td>F</td>\n",
       "      <td>G-Mix</td>\n",
       "      <td>91</td>\n",
       "    </tr>\n",
       "    <tr>\n",
       "      <th>28</th>\n",
       "      <td>F</td>\n",
       "      <td>Ind</td>\n",
       "      <td>326</td>\n",
       "    </tr>\n",
       "    <tr>\n",
       "      <th>29</th>\n",
       "      <td>F</td>\n",
       "      <td>Ins</td>\n",
       "      <td>300</td>\n",
       "    </tr>\n",
       "  </tbody>\n",
       "</table>\n",
       "</div>"
      ],
      "text/plain": [
       "   Damage Bucket Type (Ind, Ins, G-Ind, G-Ins, G-Mix)  Movant ID\n",
       "0              A                                G-Ind        279\n",
       "1              A                                G-Ins          8\n",
       "2              A                                G-Mix         21\n",
       "3              A                                  Ind        186\n",
       "4              A                                  Ins         26\n",
       "5              B                                G-Ind        271\n",
       "6              B                                G-Ins         12\n",
       "7              B                                G-Mix         25\n",
       "8              B                                  Ind        144\n",
       "9              B                                  Ins         30\n",
       "10             C                                G-Ind        168\n",
       "11             C                                G-Ins          9\n",
       "12             C                                G-Mix         25\n",
       "13             C                                  Ind        148\n",
       "14             C                                  Ins         33\n",
       "15             D                                G-Ind        284\n",
       "16             D                                G-Ins         45\n",
       "17             D                                G-Mix         39\n",
       "18             D                                  Ind        183\n",
       "19             D                                  Ins         92\n",
       "20             E                                G-Ind        176\n",
       "21             E                                G-Ins         75\n",
       "22             E                                G-Mix         25\n",
       "23             E                                  Ind        143\n",
       "24             E                                  Ins         74\n",
       "25             F                                G-Ind        347\n",
       "26             F                                G-Ins        210\n",
       "27             F                                G-Mix         91\n",
       "28             F                                  Ind        326\n",
       "29             F                                  Ins        300"
      ]
     },
     "execution_count": 143,
     "metadata": {},
     "output_type": "execute_result"
    }
   ],
   "source": [
    "data_2c_grouped"
   ]
  },
  {
   "cell_type": "markdown",
   "metadata": {},
   "source": [
    "#### II.D. For Groups"
   ]
  },
  {
   "cell_type": "code",
   "execution_count": 144,
   "metadata": {},
   "outputs": [],
   "source": [
    "data_2d = main[[\"Movant Group\", \"Type (Ind, Ins, G-Ind, G-Ins, G-Mix)\", \"Movant Loss\", \"Movant ID\", \"win\"]]\n",
    "data_2d_groupcount = data_2d.groupby(\"Type (Ind, Ins, G-Ind, G-Ins, G-Mix)\")[\"Movant ID\"].nunique()/data_2d.groupby(\"Type (Ind, Ins, G-Ind, G-Ins, G-Mix)\")[\"Movant Group\"].nunique()\n",
    "data_2d_groupcount = data_2d_groupcount.append(pd.Series(data_2d[\"Movant ID\"].nunique()/data_2d[\"Movant Group\"].nunique(), index = [\"Total\"]))\n",
    "data_2d_loss = data_2d.groupby(\"Type (Ind, Ins, G-Ind, G-Ins, G-Mix)\")[\"Movant Loss\"].mean()\n",
    "data_2d_loss = data_2d_loss.append(pd.Series(main[\"Movant Loss\"].mean(), index = [\"Total\"]))\n",
    "data_2d_winrate = data_2d.groupby(\"Type (Ind, Ins, G-Ind, G-Ins, G-Mix)\")[\"win\"].sum()/data_2d.groupby(\"Type (Ind, Ins, G-Ind, G-Ins, G-Mix)\")[\"win\"].count()\n",
    "data_2d_winrate = data_2d_winrate.append(pd.Series(main[\"win\"].sum()/main[\"win\"].count(), index = [\"Total\"]))"
   ]
  },
  {
   "cell_type": "code",
   "execution_count": 145,
   "metadata": {},
   "outputs": [],
   "source": [
    "data_2d = pd.concat([data_2d_groupcount, data_2d_loss, data_2d_winrate], axis = 1)\n",
    "data_2d.columns = [\"Avg # of Members for Each Type\", \"Avg Losses\", \"Win Rate\"]\n",
    "data_2d[\"Avg Losses\"] = data_2d.apply(lambda x: '${:,.2f}'.format(x[\"Avg Losses\"]), axis = 1)\n",
    "data_2d[\"Win Rate\"] = data_2d.apply(lambda x: \"{:,.1%}\".format(x[\"Win Rate\"]), axis = 1)"
   ]
  },
  {
   "cell_type": "code",
   "execution_count": 146,
   "metadata": {},
   "outputs": [
    {
     "name": "stdout",
     "output_type": "stream",
     "text": [
      "Statistics by Type\n"
     ]
    },
    {
     "data": {
      "text/html": [
       "<div>\n",
       "<style scoped>\n",
       "    .dataframe tbody tr th:only-of-type {\n",
       "        vertical-align: middle;\n",
       "    }\n",
       "\n",
       "    .dataframe tbody tr th {\n",
       "        vertical-align: top;\n",
       "    }\n",
       "\n",
       "    .dataframe thead th {\n",
       "        text-align: right;\n",
       "    }\n",
       "</style>\n",
       "<table border=\"1\" class=\"dataframe\">\n",
       "  <thead>\n",
       "    <tr style=\"text-align: right;\">\n",
       "      <th></th>\n",
       "      <th>Avg # of Members for Each Type</th>\n",
       "      <th>Avg Losses</th>\n",
       "      <th>Win Rate</th>\n",
       "    </tr>\n",
       "  </thead>\n",
       "  <tbody>\n",
       "    <tr>\n",
       "      <th>G-Ind</th>\n",
       "      <td>2.88</td>\n",
       "      <td>$149,941.97</td>\n",
       "      <td>27.0%</td>\n",
       "    </tr>\n",
       "    <tr>\n",
       "      <th>G-Ins</th>\n",
       "      <td>2.51</td>\n",
       "      <td>$1,903,828.65</td>\n",
       "      <td>50.1%</td>\n",
       "    </tr>\n",
       "    <tr>\n",
       "      <th>G-Mix</th>\n",
       "      <td>2.91</td>\n",
       "      <td>$834,533.03</td>\n",
       "      <td>31.4%</td>\n",
       "    </tr>\n",
       "    <tr>\n",
       "      <th>Ind</th>\n",
       "      <td>1.05</td>\n",
       "      <td>$302,787.63</td>\n",
       "      <td>24.9%</td>\n",
       "    </tr>\n",
       "    <tr>\n",
       "      <th>Ins</th>\n",
       "      <td>1.03</td>\n",
       "      <td>$2,395,033.35</td>\n",
       "      <td>41.6%</td>\n",
       "    </tr>\n",
       "    <tr>\n",
       "      <th>Total</th>\n",
       "      <td>1.63</td>\n",
       "      <td>$724,889.37</td>\n",
       "      <td>30.9%</td>\n",
       "    </tr>\n",
       "  </tbody>\n",
       "</table>\n",
       "</div>"
      ],
      "text/plain": [
       "       Avg # of Members for Each Type     Avg Losses Win Rate\n",
       "G-Ind                            2.88    $149,941.97    27.0%\n",
       "G-Ins                            2.51  $1,903,828.65    50.1%\n",
       "G-Mix                            2.91    $834,533.03    31.4%\n",
       "Ind                              1.05    $302,787.63    24.9%\n",
       "Ins                              1.03  $2,395,033.35    41.6%\n",
       "Total                            1.63    $724,889.37    30.9%"
      ]
     },
     "execution_count": 146,
     "metadata": {},
     "output_type": "execute_result"
    }
   ],
   "source": [
    "print(\"Statistics by Type\")\n",
    "pd.options.display.float_format = '{:,.2f}'.format\n",
    "data_2d"
   ]
  },
  {
   "cell_type": "markdown",
   "metadata": {},
   "source": [
    "#### II.E. For Unopposed Lead Plaintiff Motions"
   ]
  },
  {
   "cell_type": "code",
   "execution_count": 147,
   "metadata": {},
   "outputs": [],
   "source": [
    "data_2e = main[main[\"unopposed\"]==1][[\"Damage Bucket\",\"Movant\",\"Movant Loss\"]]"
   ]
  },
  {
   "cell_type": "markdown",
   "metadata": {},
   "source": [
    "#### III.E.1. Number of Unopposed by Bucket"
   ]
  },
  {
   "cell_type": "code",
   "execution_count": 148,
   "metadata": {},
   "outputs": [],
   "source": [
    "data_2e1 = data_2e.groupby(\"Damage Bucket\")[\"Movant\"].count().reset_index()"
   ]
  },
  {
   "cell_type": "code",
   "execution_count": 149,
   "metadata": {},
   "outputs": [
    {
     "data": {
      "text/html": [
       "<div>\n",
       "<style scoped>\n",
       "    .dataframe tbody tr th:only-of-type {\n",
       "        vertical-align: middle;\n",
       "    }\n",
       "\n",
       "    .dataframe tbody tr th {\n",
       "        vertical-align: top;\n",
       "    }\n",
       "\n",
       "    .dataframe thead th {\n",
       "        text-align: right;\n",
       "    }\n",
       "</style>\n",
       "<table border=\"1\" class=\"dataframe\">\n",
       "  <thead>\n",
       "    <tr style=\"text-align: right;\">\n",
       "      <th></th>\n",
       "      <th>Damage Bucket</th>\n",
       "      <th>Movant</th>\n",
       "    </tr>\n",
       "  </thead>\n",
       "  <tbody>\n",
       "    <tr>\n",
       "      <th>0</th>\n",
       "      <td>A</td>\n",
       "      <td>65</td>\n",
       "    </tr>\n",
       "    <tr>\n",
       "      <th>1</th>\n",
       "      <td>B</td>\n",
       "      <td>39</td>\n",
       "    </tr>\n",
       "    <tr>\n",
       "      <th>2</th>\n",
       "      <td>C</td>\n",
       "      <td>39</td>\n",
       "    </tr>\n",
       "    <tr>\n",
       "      <th>3</th>\n",
       "      <td>D</td>\n",
       "      <td>25</td>\n",
       "    </tr>\n",
       "    <tr>\n",
       "      <th>4</th>\n",
       "      <td>E</td>\n",
       "      <td>19</td>\n",
       "    </tr>\n",
       "    <tr>\n",
       "      <th>5</th>\n",
       "      <td>F</td>\n",
       "      <td>46</td>\n",
       "    </tr>\n",
       "  </tbody>\n",
       "</table>\n",
       "</div>"
      ],
      "text/plain": [
       "  Damage Bucket  Movant\n",
       "0             A      65\n",
       "1             B      39\n",
       "2             C      39\n",
       "3             D      25\n",
       "4             E      19\n",
       "5             F      46"
      ]
     },
     "execution_count": 149,
     "metadata": {},
     "output_type": "execute_result"
    }
   ],
   "source": [
    "data_2e1"
   ]
  },
  {
   "cell_type": "markdown",
   "metadata": {},
   "source": [
    "#### II.E.2 Average Loss of Unopposed by Bucket"
   ]
  },
  {
   "cell_type": "code",
   "execution_count": 150,
   "metadata": {},
   "outputs": [],
   "source": [
    "data_2e2 = data_2e.groupby(\"Damage Bucket\")[\"Movant Loss\"].mean().reset_index()\n",
    "data_2e2[\"Movant Loss\"] = data_2e2.apply(lambda x: '${:,.2f}'.format(x[\"Movant Loss\"]), axis = 1)\n"
   ]
  },
  {
   "cell_type": "code",
   "execution_count": 151,
   "metadata": {},
   "outputs": [
    {
     "data": {
      "text/html": [
       "<div>\n",
       "<style scoped>\n",
       "    .dataframe tbody tr th:only-of-type {\n",
       "        vertical-align: middle;\n",
       "    }\n",
       "\n",
       "    .dataframe tbody tr th {\n",
       "        vertical-align: top;\n",
       "    }\n",
       "\n",
       "    .dataframe thead th {\n",
       "        text-align: right;\n",
       "    }\n",
       "</style>\n",
       "<table border=\"1\" class=\"dataframe\">\n",
       "  <thead>\n",
       "    <tr style=\"text-align: right;\">\n",
       "      <th></th>\n",
       "      <th>Damage Bucket</th>\n",
       "      <th>Movant Loss</th>\n",
       "    </tr>\n",
       "  </thead>\n",
       "  <tbody>\n",
       "    <tr>\n",
       "      <th>0</th>\n",
       "      <td>A</td>\n",
       "      <td>$41,078.34</td>\n",
       "    </tr>\n",
       "    <tr>\n",
       "      <th>1</th>\n",
       "      <td>B</td>\n",
       "      <td>$52,554.38</td>\n",
       "    </tr>\n",
       "    <tr>\n",
       "      <th>2</th>\n",
       "      <td>C</td>\n",
       "      <td>$76,122.45</td>\n",
       "    </tr>\n",
       "    <tr>\n",
       "      <th>3</th>\n",
       "      <td>D</td>\n",
       "      <td>$112,224.33</td>\n",
       "    </tr>\n",
       "    <tr>\n",
       "      <th>4</th>\n",
       "      <td>E</td>\n",
       "      <td>$220,700.18</td>\n",
       "    </tr>\n",
       "    <tr>\n",
       "      <th>5</th>\n",
       "      <td>F</td>\n",
       "      <td>$1,817,064.62</td>\n",
       "    </tr>\n",
       "  </tbody>\n",
       "</table>\n",
       "</div>"
      ],
      "text/plain": [
       "  Damage Bucket    Movant Loss\n",
       "0             A     $41,078.34\n",
       "1             B     $52,554.38\n",
       "2             C     $76,122.45\n",
       "3             D    $112,224.33\n",
       "4             E    $220,700.18\n",
       "5             F  $1,817,064.62"
      ]
     },
     "execution_count": 151,
     "metadata": {},
     "output_type": "execute_result"
    }
   ],
   "source": [
    "pd.options.display.float_format = '${:,.2}'.format\n",
    "data_2e2"
   ]
  },
  {
   "cell_type": "markdown",
   "metadata": {},
   "source": [
    "#### II.F. Fight Analysis"
   ]
  },
  {
   "cell_type": "code",
   "execution_count": 152,
   "metadata": {},
   "outputs": [],
   "source": [
    "data_2f = main[[\"Small Case\", \"Type\", \"win\"]]"
   ]
  },
  {
   "cell_type": "code",
   "execution_count": 153,
   "metadata": {},
   "outputs": [],
   "source": [
    "data2f_wins = data_2f.groupby([\"Small Case\", \"Type\"])[\"win\"].agg([\"sum\", \"count\"])\n",
    "data2f_wins[\"win_rate\"] = data2f_wins[\"sum\"]/  data2f_wins[\"count\"]"
   ]
  },
  {
   "cell_type": "code",
   "execution_count": 154,
   "metadata": {},
   "outputs": [
    {
     "data": {
      "text/html": [
       "<div>\n",
       "<style scoped>\n",
       "    .dataframe tbody tr th:only-of-type {\n",
       "        vertical-align: middle;\n",
       "    }\n",
       "\n",
       "    .dataframe tbody tr th {\n",
       "        vertical-align: top;\n",
       "    }\n",
       "\n",
       "    .dataframe thead th {\n",
       "        text-align: right;\n",
       "    }\n",
       "</style>\n",
       "<table border=\"1\" class=\"dataframe\">\n",
       "  <thead>\n",
       "    <tr style=\"text-align: right;\">\n",
       "      <th></th>\n",
       "      <th>Small Case</th>\n",
       "      <th>Type</th>\n",
       "      <th>win_rate</th>\n",
       "    </tr>\n",
       "  </thead>\n",
       "  <tbody>\n",
       "    <tr>\n",
       "      <th>0</th>\n",
       "      <td>0</td>\n",
       "      <td>Individual</td>\n",
       "      <td>19.2%</td>\n",
       "    </tr>\n",
       "    <tr>\n",
       "      <th>1</th>\n",
       "      <td>0</td>\n",
       "      <td>Institution</td>\n",
       "      <td>42.4%</td>\n",
       "    </tr>\n",
       "    <tr>\n",
       "      <th>2</th>\n",
       "      <td>1</td>\n",
       "      <td>Individual</td>\n",
       "      <td>40.6%</td>\n",
       "    </tr>\n",
       "    <tr>\n",
       "      <th>3</th>\n",
       "      <td>1</td>\n",
       "      <td>Institution</td>\n",
       "      <td>60.8%</td>\n",
       "    </tr>\n",
       "  </tbody>\n",
       "</table>\n",
       "</div>"
      ],
      "text/plain": [
       "   Small Case         Type  win_rate\n",
       "0           0   Individual     19.2%\n",
       "1           0  Institution     42.4%\n",
       "2           1   Individual     40.6%\n",
       "3           1  Institution     60.8%"
      ]
     },
     "execution_count": 154,
     "metadata": {},
     "output_type": "execute_result"
    }
   ],
   "source": [
    "pd.options.display.float_format = '{:.1%}'.format\n",
    "data2f_wins[\"win_rate\"].reset_index()"
   ]
  },
  {
   "cell_type": "markdown",
   "metadata": {},
   "source": [
    "### III. ANALYSIS BY INSTITUTIONAL MOVEMENT TYPE"
   ]
  },
  {
   "cell_type": "markdown",
   "metadata": {},
   "source": [
    "#### III. A. Institutional Movants by Bucket"
   ]
  },
  {
   "cell_type": "code",
   "execution_count": 155,
   "metadata": {},
   "outputs": [],
   "source": [
    "data_3 = main[main[\"Type\"]== \"Institution\"]"
   ]
  },
  {
   "cell_type": "code",
   "execution_count": 156,
   "metadata": {},
   "outputs": [],
   "source": [
    "data_3a = data_3.groupby('Damage Bucket')['Institutional Movant'].count()"
   ]
  },
  {
   "cell_type": "code",
   "execution_count": 157,
   "metadata": {},
   "outputs": [],
   "source": [
    "y_val = data_3a.sort_index()\n",
    "x_val = data_3a.sort_index().index"
   ]
  },
  {
   "cell_type": "code",
   "execution_count": 158,
   "metadata": {},
   "outputs": [
    {
     "data": {
      "image/png": "[encoded data removed]",
      "text/plain": [
       "<Figure size 864x288 with 1 Axes>"
      ]
     },
     "metadata": {
      "needs_background": "light"
     },
     "output_type": "display_data"
    }
   ],
   "source": [
    "fig, ax = plt.subplots(figsize=(12,4))\n",
    "width = 0.75\n",
    "ind = np.arange(len((y_val)))\n",
    "plt.title('Number of Institutional Movants by Bucket')\n",
    "plt.yticks([], [])\n",
    "ax.bar(x_val, y_val, width, color = \"dodgerblue\")\n",
    "\n",
    "rects = ax.patches\n",
    "\n",
    "ax.yaxis.set_ticks_position('none')\n",
    "\n",
    "ax.set_ylim([0,y_val.max()+ 100])\n",
    "\n",
    "for rect, label in zip(rects, y_val):\n",
    "    height = rect.get_height()\n",
    "    ax.text(rect.get_x() + rect.get_width() / 2, height + 5, label,\n",
    "            ha='center', va='bottom')\n",
    "plt.show()"
   ]
  },
  {
   "cell_type": "markdown",
   "metadata": {},
   "source": [
    "#### III.B Average Loss By Institutional Movant by Bucket\n",
    "#### Note: Does not include institutional movants without losses (N/A)"
   ]
  },
  {
   "cell_type": "code",
   "execution_count": 159,
   "metadata": {},
   "outputs": [],
   "source": [
    "data_3b = data_3[['Damage Bucket',  \"Type\", 'Movant Loss']].dropna()\n",
    "data_3b_describe = data_3b.pivot(columns = 'Damage Bucket', values = 'Movant Loss')\n",
    "data_3b_describe = data_3b_describe.describe()"
   ]
  },
  {
   "cell_type": "code",
   "execution_count": 160,
   "metadata": {},
   "outputs": [
    {
     "data": {
      "text/html": [
       "<div>\n",
       "<style scoped>\n",
       "    .dataframe tbody tr th:only-of-type {\n",
       "        vertical-align: middle;\n",
       "    }\n",
       "\n",
       "    .dataframe tbody tr th {\n",
       "        vertical-align: top;\n",
       "    }\n",
       "\n",
       "    .dataframe thead th {\n",
       "        text-align: right;\n",
       "    }\n",
       "</style>\n",
       "<table border=\"1\" class=\"dataframe\">\n",
       "  <thead>\n",
       "    <tr style=\"text-align: right;\">\n",
       "      <th>Damage Bucket</th>\n",
       "      <th>A</th>\n",
       "      <th>B</th>\n",
       "      <th>C</th>\n",
       "      <th>D</th>\n",
       "      <th>E</th>\n",
       "      <th>F</th>\n",
       "    </tr>\n",
       "  </thead>\n",
       "  <tbody>\n",
       "    <tr>\n",
       "      <th>count</th>\n",
       "      <td>43</td>\n",
       "      <td>54</td>\n",
       "      <td>54</td>\n",
       "      <td>151</td>\n",
       "      <td>154</td>\n",
       "      <td>537</td>\n",
       "    </tr>\n",
       "    <tr>\n",
       "      <th>mean</th>\n",
       "      <td>429204</td>\n",
       "      <td>1277577</td>\n",
       "      <td>395644</td>\n",
       "      <td>709876</td>\n",
       "      <td>990476</td>\n",
       "      <td>3173825</td>\n",
       "    </tr>\n",
       "    <tr>\n",
       "      <th>std</th>\n",
       "      <td>1184618</td>\n",
       "      <td>6281794</td>\n",
       "      <td>808751</td>\n",
       "      <td>1723696</td>\n",
       "      <td>2583531</td>\n",
       "      <td>7654072</td>\n",
       "    </tr>\n",
       "    <tr>\n",
       "      <th>min</th>\n",
       "      <td>875</td>\n",
       "      <td>5401</td>\n",
       "      <td>1050</td>\n",
       "      <td>112</td>\n",
       "      <td>1609</td>\n",
       "      <td>924</td>\n",
       "    </tr>\n",
       "    <tr>\n",
       "      <th>25%</th>\n",
       "      <td>57340</td>\n",
       "      <td>89299</td>\n",
       "      <td>46455</td>\n",
       "      <td>97645</td>\n",
       "      <td>115171</td>\n",
       "      <td>245303</td>\n",
       "    </tr>\n",
       "    <tr>\n",
       "      <th>50%</th>\n",
       "      <td>153220</td>\n",
       "      <td>152860</td>\n",
       "      <td>135858</td>\n",
       "      <td>248948</td>\n",
       "      <td>282278</td>\n",
       "      <td>677651</td>\n",
       "    </tr>\n",
       "    <tr>\n",
       "      <th>75%</th>\n",
       "      <td>377444</td>\n",
       "      <td>588367</td>\n",
       "      <td>391554</td>\n",
       "      <td>512536</td>\n",
       "      <td>832294</td>\n",
       "      <td>2202906</td>\n",
       "    </tr>\n",
       "    <tr>\n",
       "      <th>max</th>\n",
       "      <td>7793640</td>\n",
       "      <td>46378080</td>\n",
       "      <td>4725022</td>\n",
       "      <td>13674214</td>\n",
       "      <td>23517243</td>\n",
       "      <td>87214281</td>\n",
       "    </tr>\n",
       "  </tbody>\n",
       "</table>\n",
       "</div>"
      ],
      "text/plain": [
       "Damage Bucket       A        B       C        D        E        F\n",
       "count              43       54      54      151      154      537\n",
       "mean           429204  1277577  395644   709876   990476  3173825\n",
       "std           1184618  6281794  808751  1723696  2583531  7654072\n",
       "min               875     5401    1050      112     1609      924\n",
       "25%             57340    89299   46455    97645   115171   245303\n",
       "50%            153220   152860  135858   248948   282278   677651\n",
       "75%            377444   588367  391554   512536   832294  2202906\n",
       "max           7793640 46378080 4725022 13674214 23517243 87214281"
      ]
     },
     "execution_count": 160,
     "metadata": {},
     "output_type": "execute_result"
    }
   ],
   "source": [
    "pd.options.display.float_format = '{:.0f}'.format\n",
    "data_3b_describe"
   ]
  },
  {
   "cell_type": "markdown",
   "metadata": {},
   "source": [
    "#### III.C. Average Loss By Winning Institutional Movant by Bucket\n",
    "#### Note: Does not include institutional movants without losses (N/A)"
   ]
  },
  {
   "cell_type": "code",
   "execution_count": 161,
   "metadata": {},
   "outputs": [],
   "source": [
    "data_3c = data_3[data_3.win==1][['Damage Bucket',  \"Type\", 'Movant Loss']].dropna()\n",
    "data_3c_describe = data_3c.pivot(columns = 'Damage Bucket', values = 'Movant Loss')\n",
    "data_3c_describe = data_3c_describe.describe()"
   ]
  },
  {
   "cell_type": "code",
   "execution_count": 162,
   "metadata": {},
   "outputs": [
    {
     "data": {
      "text/html": [
       "<div>\n",
       "<style scoped>\n",
       "    .dataframe tbody tr th:only-of-type {\n",
       "        vertical-align: middle;\n",
       "    }\n",
       "\n",
       "    .dataframe tbody tr th {\n",
       "        vertical-align: top;\n",
       "    }\n",
       "\n",
       "    .dataframe thead th {\n",
       "        text-align: right;\n",
       "    }\n",
       "</style>\n",
       "<table border=\"1\" class=\"dataframe\">\n",
       "  <thead>\n",
       "    <tr style=\"text-align: right;\">\n",
       "      <th>Damage Bucket</th>\n",
       "      <th>A</th>\n",
       "      <th>B</th>\n",
       "      <th>C</th>\n",
       "      <th>D</th>\n",
       "      <th>E</th>\n",
       "      <th>F</th>\n",
       "    </tr>\n",
       "  </thead>\n",
       "  <tbody>\n",
       "    <tr>\n",
       "      <th>count</th>\n",
       "      <td>32</td>\n",
       "      <td>27</td>\n",
       "      <td>35</td>\n",
       "      <td>64</td>\n",
       "      <td>74</td>\n",
       "      <td>208</td>\n",
       "    </tr>\n",
       "    <tr>\n",
       "      <th>mean</th>\n",
       "      <td>516957</td>\n",
       "      <td>483075</td>\n",
       "      <td>502777</td>\n",
       "      <td>1191733</td>\n",
       "      <td>1380941</td>\n",
       "      <td>4449465</td>\n",
       "    </tr>\n",
       "    <tr>\n",
       "      <th>std</th>\n",
       "      <td>1361965</td>\n",
       "      <td>749487</td>\n",
       "      <td>966995</td>\n",
       "      <td>2487095</td>\n",
       "      <td>3336746</td>\n",
       "      <td>10029567</td>\n",
       "    </tr>\n",
       "    <tr>\n",
       "      <th>min</th>\n",
       "      <td>11534</td>\n",
       "      <td>5401</td>\n",
       "      <td>1050</td>\n",
       "      <td>500</td>\n",
       "      <td>32033</td>\n",
       "      <td>1130</td>\n",
       "    </tr>\n",
       "    <tr>\n",
       "      <th>25%</th>\n",
       "      <td>78644</td>\n",
       "      <td>80829</td>\n",
       "      <td>93742</td>\n",
       "      <td>184464</td>\n",
       "      <td>162269</td>\n",
       "      <td>302689</td>\n",
       "    </tr>\n",
       "    <tr>\n",
       "      <th>50%</th>\n",
       "      <td>170972</td>\n",
       "      <td>152456</td>\n",
       "      <td>193034</td>\n",
       "      <td>336260</td>\n",
       "      <td>318825</td>\n",
       "      <td>1017720</td>\n",
       "    </tr>\n",
       "    <tr>\n",
       "      <th>75%</th>\n",
       "      <td>381650</td>\n",
       "      <td>630205</td>\n",
       "      <td>430921</td>\n",
       "      <td>940687</td>\n",
       "      <td>1096521</td>\n",
       "      <td>3670842</td>\n",
       "    </tr>\n",
       "    <tr>\n",
       "      <th>max</th>\n",
       "      <td>7793640</td>\n",
       "      <td>2813256</td>\n",
       "      <td>4725022</td>\n",
       "      <td>13674214</td>\n",
       "      <td>23517243</td>\n",
       "      <td>87214281</td>\n",
       "    </tr>\n",
       "  </tbody>\n",
       "</table>\n",
       "</div>"
      ],
      "text/plain": [
       "Damage Bucket       A       B       C        D        E        F\n",
       "count              32      27      35       64       74      208\n",
       "mean           516957  483075  502777  1191733  1380941  4449465\n",
       "std           1361965  749487  966995  2487095  3336746 10029567\n",
       "min             11534    5401    1050      500    32033     1130\n",
       "25%             78644   80829   93742   184464   162269   302689\n",
       "50%            170972  152456  193034   336260   318825  1017720\n",
       "75%            381650  630205  430921   940687  1096521  3670842\n",
       "max           7793640 2813256 4725022 13674214 23517243 87214281"
      ]
     },
     "execution_count": 162,
     "metadata": {},
     "output_type": "execute_result"
    }
   ],
   "source": [
    "data_3c_describe"
   ]
  },
  {
   "cell_type": "markdown",
   "metadata": {},
   "source": [
    "#### III.D. Average AUM of Institutional Movant by Bucket\n",
    "##### Note: Count Includes Only Institutional Movants with AUMs (no N/As)"
   ]
  },
  {
   "cell_type": "code",
   "execution_count": 163,
   "metadata": {},
   "outputs": [],
   "source": [
    "data_3d = main[['Damage Bucket',  \"Institutional Movant\", \"AUM\"]].dropna()\n",
    "data_3d_describe = data_3d.pivot(columns = 'Damage Bucket', values = 'AUM')\n",
    "data_3d_describe = data_3d_describe.describe()"
   ]
  },
  {
   "cell_type": "code",
   "execution_count": 164,
   "metadata": {},
   "outputs": [
    {
     "data": {
      "text/html": [
       "<div>\n",
       "<style scoped>\n",
       "    .dataframe tbody tr th:only-of-type {\n",
       "        vertical-align: middle;\n",
       "    }\n",
       "\n",
       "    .dataframe tbody tr th {\n",
       "        vertical-align: top;\n",
       "    }\n",
       "\n",
       "    .dataframe thead th {\n",
       "        text-align: right;\n",
       "    }\n",
       "</style>\n",
       "<table border=\"1\" class=\"dataframe\">\n",
       "  <thead>\n",
       "    <tr style=\"text-align: right;\">\n",
       "      <th>Damage Bucket</th>\n",
       "      <th>A</th>\n",
       "      <th>B</th>\n",
       "      <th>C</th>\n",
       "      <th>D</th>\n",
       "      <th>E</th>\n",
       "      <th>F</th>\n",
       "    </tr>\n",
       "  </thead>\n",
       "  <tbody>\n",
       "    <tr>\n",
       "      <th>count</th>\n",
       "      <td>$21</td>\n",
       "      <td>$38</td>\n",
       "      <td>$31</td>\n",
       "      <td>$122</td>\n",
       "      <td>$131</td>\n",
       "      <td>$459</td>\n",
       "    </tr>\n",
       "    <tr>\n",
       "      <th>mean</th>\n",
       "      <td>$1,969,655,421</td>\n",
       "      <td>$4,728,281,438</td>\n",
       "      <td>$10,643,801,744</td>\n",
       "      <td>$3,719,245,440</td>\n",
       "      <td>$10,333,996,020</td>\n",
       "      <td>$33,664,841,062</td>\n",
       "    </tr>\n",
       "    <tr>\n",
       "      <th>std</th>\n",
       "      <td>$3,541,343,579</td>\n",
       "      <td>$12,440,933,508</td>\n",
       "      <td>$43,506,842,521</td>\n",
       "      <td>$12,973,549,765</td>\n",
       "      <td>$34,183,727,482</td>\n",
       "      <td>$110,883,680,055</td>\n",
       "    </tr>\n",
       "    <tr>\n",
       "      <th>min</th>\n",
       "      <td>$8,570,653</td>\n",
       "      <td>$8,000,000</td>\n",
       "      <td>$6,700,000</td>\n",
       "      <td>$486,578</td>\n",
       "      <td>$2,991,784</td>\n",
       "      <td>$1,001,358</td>\n",
       "    </tr>\n",
       "    <tr>\n",
       "      <th>25%</th>\n",
       "      <td>$139,810,268</td>\n",
       "      <td>$332,814,800</td>\n",
       "      <td>$205,139,094</td>\n",
       "      <td>$365,441,086</td>\n",
       "      <td>$373,845,000</td>\n",
       "      <td>$553,586,924</td>\n",
       "    </tr>\n",
       "    <tr>\n",
       "      <th>50%</th>\n",
       "      <td>$819,290,000</td>\n",
       "      <td>$743,223,332</td>\n",
       "      <td>$683,136,187</td>\n",
       "      <td>$953,880,151</td>\n",
       "      <td>$1,046,472,269</td>\n",
       "      <td>$2,228,409,958</td>\n",
       "    </tr>\n",
       "    <tr>\n",
       "      <th>75%</th>\n",
       "      <td>$1,936,000,000</td>\n",
       "      <td>$2,285,139,160</td>\n",
       "      <td>$1,960,333,082</td>\n",
       "      <td>$2,203,819,861</td>\n",
       "      <td>$2,838,232,978</td>\n",
       "      <td>$13,000,000,000</td>\n",
       "    </tr>\n",
       "    <tr>\n",
       "      <th>max</th>\n",
       "      <td>$14,406,000,000</td>\n",
       "      <td>$71,360,000,000</td>\n",
       "      <td>$242,262,242,175</td>\n",
       "      <td>$135,270,275,000</td>\n",
       "      <td>$242,262,242,175</td>\n",
       "      <td>$1,515,000,000,000</td>\n",
       "    </tr>\n",
       "  </tbody>\n",
       "</table>\n",
       "</div>"
      ],
      "text/plain": [
       "Damage Bucket               A               B                C  \\\n",
       "count                     $21             $38              $31   \n",
       "mean           $1,969,655,421  $4,728,281,438  $10,643,801,744   \n",
       "std            $3,541,343,579 $12,440,933,508  $43,506,842,521   \n",
       "min                $8,570,653      $8,000,000       $6,700,000   \n",
       "25%              $139,810,268    $332,814,800     $205,139,094   \n",
       "50%              $819,290,000    $743,223,332     $683,136,187   \n",
       "75%            $1,936,000,000  $2,285,139,160   $1,960,333,082   \n",
       "max           $14,406,000,000 $71,360,000,000 $242,262,242,175   \n",
       "\n",
       "Damage Bucket                D                E                  F  \n",
       "count                     $122             $131               $459  \n",
       "mean            $3,719,245,440  $10,333,996,020    $33,664,841,062  \n",
       "std            $12,973,549,765  $34,183,727,482   $110,883,680,055  \n",
       "min                   $486,578       $2,991,784         $1,001,358  \n",
       "25%               $365,441,086     $373,845,000       $553,586,924  \n",
       "50%               $953,880,151   $1,046,472,269     $2,228,409,958  \n",
       "75%             $2,203,819,861   $2,838,232,978    $13,000,000,000  \n",
       "max           $135,270,275,000 $242,262,242,175 $1,515,000,000,000  "
      ]
     },
     "execution_count": 164,
     "metadata": {},
     "output_type": "execute_result"
    }
   ],
   "source": [
    "pd.options.display.float_format = '${:,.0f}'.format\n",
    "data_3d_describe"
   ]
  },
  {
   "cell_type": "markdown",
   "metadata": {},
   "source": [
    "#### III.E. Frequent Flyer Analysis"
   ]
  },
  {
   "cell_type": "markdown",
   "metadata": {},
   "source": [
    "#### III.E.1. Movant Type"
   ]
  },
  {
   "cell_type": "code",
   "execution_count": 165,
   "metadata": {},
   "outputs": [],
   "source": [
    "data_3e = main[[\"Institutional Movant\", \"Damage Bucket\", \"Type (Ind, Ins, G-Ind, G-Ins, G-Mix)\", 'Investor Frequent Flyer', 'Movant Loss', \"Filing Firm\"]]\n",
    "data_3e = data_3e[~data_3e[\"Institutional Movant\"].isna()]\n",
    "data_3e.loc[(data_3e[\"Investor Frequent Flyer\"].isna()),\"Investor Frequent Flyer\"] = \"NotFF\""
   ]
  },
  {
   "cell_type": "code",
   "execution_count": 166,
   "metadata": {},
   "outputs": [],
   "source": [
    "data_3e1 = data_3e.groupby([\"Type (Ind, Ins, G-Ind, G-Ins, G-Mix)\", \"Investor Frequent Flyer\"])[\"Institutional Movant\"].count().reset_index().sort_values(\"Type (Ind, Ins, G-Ind, G-Ins, G-Mix)\")"
   ]
  },
  {
   "cell_type": "code",
   "execution_count": 167,
   "metadata": {},
   "outputs": [],
   "source": [
    "y_val1 = data_3e1[data_3e1[\"Investor Frequent Flyer\"]== \"FF\"][\"Institutional Movant\"]\n",
    "y_val2 = data_3e1[data_3e1[\"Investor Frequent Flyer\"]== \"NotFF\"][\"Institutional Movant\"]\n",
    "x_val = data_3e1[data_3e1[\"Investor Frequent Flyer\"]== \"FF\"][\"Type (Ind, Ins, G-Ind, G-Ins, G-Mix)\"]"
   ]
  },
  {
   "cell_type": "code",
   "execution_count": 168,
   "metadata": {},
   "outputs": [
    {
     "data": {
      "text/html": [
       "<div>\n",
       "<style scoped>\n",
       "    .dataframe tbody tr th:only-of-type {\n",
       "        vertical-align: middle;\n",
       "    }\n",
       "\n",
       "    .dataframe tbody tr th {\n",
       "        vertical-align: top;\n",
       "    }\n",
       "\n",
       "    .dataframe thead th {\n",
       "        text-align: right;\n",
       "    }\n",
       "</style>\n",
       "<table border=\"1\" class=\"dataframe\">\n",
       "  <thead>\n",
       "    <tr style=\"text-align: right;\">\n",
       "      <th></th>\n",
       "      <th>Type (Ind, Ins, G-Ind, G-Ins, G-Mix)</th>\n",
       "      <th>Investor Frequent Flyer</th>\n",
       "      <th>Institutional Movant</th>\n",
       "    </tr>\n",
       "  </thead>\n",
       "  <tbody>\n",
       "    <tr>\n",
       "      <th>0</th>\n",
       "      <td>G-Ind</td>\n",
       "      <td>NotFF</td>\n",
       "      <td>2</td>\n",
       "    </tr>\n",
       "    <tr>\n",
       "      <th>1</th>\n",
       "      <td>G-Ins</td>\n",
       "      <td>FF</td>\n",
       "      <td>227</td>\n",
       "    </tr>\n",
       "    <tr>\n",
       "      <th>2</th>\n",
       "      <td>G-Ins</td>\n",
       "      <td>NotFF</td>\n",
       "      <td>131</td>\n",
       "    </tr>\n",
       "    <tr>\n",
       "      <th>3</th>\n",
       "      <td>G-Mix</td>\n",
       "      <td>FF</td>\n",
       "      <td>21</td>\n",
       "    </tr>\n",
       "    <tr>\n",
       "      <th>4</th>\n",
       "      <td>G-Mix</td>\n",
       "      <td>NotFF</td>\n",
       "      <td>70</td>\n",
       "    </tr>\n",
       "    <tr>\n",
       "      <th>5</th>\n",
       "      <td>Ind</td>\n",
       "      <td>FF</td>\n",
       "      <td>5</td>\n",
       "    </tr>\n",
       "    <tr>\n",
       "      <th>6</th>\n",
       "      <td>Ins</td>\n",
       "      <td>FF</td>\n",
       "      <td>374</td>\n",
       "    </tr>\n",
       "    <tr>\n",
       "      <th>7</th>\n",
       "      <td>Ins</td>\n",
       "      <td>NotFF</td>\n",
       "      <td>181</td>\n",
       "    </tr>\n",
       "  </tbody>\n",
       "</table>\n",
       "</div>"
      ],
      "text/plain": [
       "  Type (Ind, Ins, G-Ind, G-Ins, G-Mix) Investor Frequent Flyer  \\\n",
       "0                                G-Ind                   NotFF   \n",
       "1                                G-Ins                      FF   \n",
       "2                                G-Ins                   NotFF   \n",
       "3                                G-Mix                      FF   \n",
       "4                                G-Mix                   NotFF   \n",
       "5                                  Ind                      FF   \n",
       "6                                  Ins                      FF   \n",
       "7                                  Ins                   NotFF   \n",
       "\n",
       "   Institutional Movant  \n",
       "0                     2  \n",
       "1                   227  \n",
       "2                   131  \n",
       "3                    21  \n",
       "4                    70  \n",
       "5                     5  \n",
       "6                   374  \n",
       "7                   181  "
      ]
     },
     "execution_count": 168,
     "metadata": {},
     "output_type": "execute_result"
    }
   ],
   "source": [
    "data_3e1"
   ]
  },
  {
   "cell_type": "markdown",
   "metadata": {},
   "source": [
    "#### III.E.2.By Bucket"
   ]
  },
  {
   "cell_type": "code",
   "execution_count": 169,
   "metadata": {},
   "outputs": [],
   "source": [
    "data_3e2 = data_3e.groupby([\"Damage Bucket\", \"Investor Frequent Flyer\"])[\"Institutional Movant\"].count().reset_index().sort_values(\"Damage Bucket\")"
   ]
  },
  {
   "cell_type": "code",
   "execution_count": 170,
   "metadata": {},
   "outputs": [
    {
     "data": {
      "text/html": [
       "<div>\n",
       "<style scoped>\n",
       "    .dataframe tbody tr th:only-of-type {\n",
       "        vertical-align: middle;\n",
       "    }\n",
       "\n",
       "    .dataframe tbody tr th {\n",
       "        vertical-align: top;\n",
       "    }\n",
       "\n",
       "    .dataframe thead th {\n",
       "        text-align: right;\n",
       "    }\n",
       "</style>\n",
       "<table border=\"1\" class=\"dataframe\">\n",
       "  <thead>\n",
       "    <tr style=\"text-align: right;\">\n",
       "      <th></th>\n",
       "      <th>Damage Bucket</th>\n",
       "      <th>Investor Frequent Flyer</th>\n",
       "      <th>Institutional Movant</th>\n",
       "    </tr>\n",
       "  </thead>\n",
       "  <tbody>\n",
       "    <tr>\n",
       "      <th>0</th>\n",
       "      <td>A</td>\n",
       "      <td>FF</td>\n",
       "      <td>21</td>\n",
       "    </tr>\n",
       "    <tr>\n",
       "      <th>1</th>\n",
       "      <td>A</td>\n",
       "      <td>NotFF</td>\n",
       "      <td>22</td>\n",
       "    </tr>\n",
       "    <tr>\n",
       "      <th>2</th>\n",
       "      <td>B</td>\n",
       "      <td>FF</td>\n",
       "      <td>27</td>\n",
       "    </tr>\n",
       "    <tr>\n",
       "      <th>3</th>\n",
       "      <td>B</td>\n",
       "      <td>NotFF</td>\n",
       "      <td>27</td>\n",
       "    </tr>\n",
       "    <tr>\n",
       "      <th>4</th>\n",
       "      <td>C</td>\n",
       "      <td>FF</td>\n",
       "      <td>24</td>\n",
       "    </tr>\n",
       "    <tr>\n",
       "      <th>5</th>\n",
       "      <td>C</td>\n",
       "      <td>NotFF</td>\n",
       "      <td>30</td>\n",
       "    </tr>\n",
       "    <tr>\n",
       "      <th>6</th>\n",
       "      <td>D</td>\n",
       "      <td>FF</td>\n",
       "      <td>95</td>\n",
       "    </tr>\n",
       "    <tr>\n",
       "      <th>7</th>\n",
       "      <td>D</td>\n",
       "      <td>NotFF</td>\n",
       "      <td>57</td>\n",
       "    </tr>\n",
       "    <tr>\n",
       "      <th>8</th>\n",
       "      <td>E</td>\n",
       "      <td>FF</td>\n",
       "      <td>100</td>\n",
       "    </tr>\n",
       "    <tr>\n",
       "      <th>9</th>\n",
       "      <td>E</td>\n",
       "      <td>NotFF</td>\n",
       "      <td>60</td>\n",
       "    </tr>\n",
       "    <tr>\n",
       "      <th>10</th>\n",
       "      <td>F</td>\n",
       "      <td>FF</td>\n",
       "      <td>360</td>\n",
       "    </tr>\n",
       "    <tr>\n",
       "      <th>11</th>\n",
       "      <td>F</td>\n",
       "      <td>NotFF</td>\n",
       "      <td>188</td>\n",
       "    </tr>\n",
       "  </tbody>\n",
       "</table>\n",
       "</div>"
      ],
      "text/plain": [
       "   Damage Bucket Investor Frequent Flyer  Institutional Movant\n",
       "0              A                      FF                    21\n",
       "1              A                   NotFF                    22\n",
       "2              B                      FF                    27\n",
       "3              B                   NotFF                    27\n",
       "4              C                      FF                    24\n",
       "5              C                   NotFF                    30\n",
       "6              D                      FF                    95\n",
       "7              D                   NotFF                    57\n",
       "8              E                      FF                   100\n",
       "9              E                   NotFF                    60\n",
       "10             F                      FF                   360\n",
       "11             F                   NotFF                   188"
      ]
     },
     "execution_count": 170,
     "metadata": {},
     "output_type": "execute_result"
    }
   ],
   "source": [
    "data_3e2"
   ]
  },
  {
   "cell_type": "markdown",
   "metadata": {},
   "source": [
    "#### III.E.3.By Filing Firm"
   ]
  },
  {
   "cell_type": "markdown",
   "metadata": {},
   "source": [
    "#### See attached csv"
   ]
  },
  {
   "cell_type": "code",
   "execution_count": 171,
   "metadata": {
    "scrolled": true
   },
   "outputs": [],
   "source": [
    "#data_3e3 = main[[\"Movant\", \"Institutional Movant\", \"Company Name\",\"Damage Bucket\", \"Type (Ind, Ins, G-Ind, G-Ins, G-Mix)\", \"Type\", 'Investor Frequent Flyer', 'Movant Loss', \"Firm Names - Movant\", \"AUM\"]]\n",
    "#data_3e3.loc[(data_3e3[\"Investor Frequent Flyer\"].isna()) & (data_3e3[\"Type\"]==\"Institution\"),\"Investor Frequent Flyer\"] = \"NotFF\""
   ]
  },
  {
   "cell_type": "code",
   "execution_count": 172,
   "metadata": {},
   "outputs": [],
   "source": [
    "#data_3e3_count = data_3e3.groupby(\"Movant\")[\"Type\"].count().reset_index().rename(columns = {\"Type\": \"case_count\"})"
   ]
  },
  {
   "cell_type": "code",
   "execution_count": 173,
   "metadata": {},
   "outputs": [],
   "source": [
    "#data_3e3 = data_3e3.merge(data_3e3_count, how = \"left\", on = \"Movant\")"
   ]
  },
  {
   "cell_type": "code",
   "execution_count": 174,
   "metadata": {},
   "outputs": [],
   "source": [
    "#data_3e3_repeat = data_3e3[data_3e3.case_count > 1].sort_values([\"Type\",\"Movant\", \"Firm Names - Movant\"])\n",
    "#data_3e3_repeat[\"Movant Loss\"] = data_3e3_repeat.apply(lambda x: '${:,.2f}'.format(x[\"Movant Loss\"]), axis = 1)\n",
    "#data_3e3_repeat[\"AUM\"] = data_3e3_repeat.apply(lambda x: '${:,.2f}'.format(x[\"AUM\"]), axis = 1)"
   ]
  },
  {
   "cell_type": "code",
   "execution_count": 175,
   "metadata": {},
   "outputs": [],
   "source": [
    "#data_3e3_repeat_ind = data_3e3_repeat[data_3e3_repeat.Type == \"Individual\"][[\"Movant\",\"Firm Names - Movant\", \"Company Name\", \"Movant Loss\"]]\n",
    "#data_3e3_repeat_ins = data_3e3_repeat[data_3e3_repeat.Type == \"Institution\"][[\"Movant\",\"AUM\",\"Firm Names - Movant\", \"Company Name\", \"Movant Loss\"]]"
   ]
  },
  {
   "cell_type": "code",
   "execution_count": 91,
   "metadata": {},
   "outputs": [],
   "source": [
    "#with pd.ExcelWriter('FrequentFlyerAnalysis_201911.xlsx') as writer:  # doctest: +SKIP\n",
    "#    data_3e3_repeat_ind.to_excel(writer, sheet_name='Individual', index = False)\n",
    "#    data_3e3_repeat_ins.to_excel(writer, sheet_name='Institution', index = False)"
   ]
  },
  {
   "cell_type": "code",
   "execution_count": null,
   "metadata": {},
   "outputs": [],
   "source": []
  }
 ],
 "metadata": {
  "kernelspec": {
   "display_name": "Python 3",
   "language": "python",
   "name": "python3"
  },
  "language_info": {
   "codemirror_mode": {
    "name": "ipython",
    "version": 3
   },
   "file_extension": ".py",
   "mimetype": "text/x-python",
   "name": "python",
   "nbconvert_exporter": "python",
   "pygments_lexer": "ipython3",
   "version": "3.7.1"
  }
 },
 "nbformat": 4,
 "nbformat_minor": 2
}
