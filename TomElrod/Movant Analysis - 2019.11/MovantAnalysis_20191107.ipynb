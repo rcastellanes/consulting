{
 "cells": [
  {
   "cell_type": "code",
   "execution_count": null,
   "metadata": {},
   "outputs": [],
   "source": [
    "from IPython.display import HTML\n",
    "\n",
    "HTML('''<script>\n",
    "code_show=true; \n",
    "function code_toggle() {\n",
    " if (code_show){\n",
    " $('div.input').hide();\n",
    " } else {\n",
    " $('div.input').show();\n",
    " }\n",
    " code_show = !code_show\n",
    "} \n",
    "$( document ).ready(code_toggle);\n",
    "</script>\n",
    "<form action=\"javascript:code_toggle()\"><input type=\"submit\" value=\"Click here to toggle on/off the raw code.\"></form>''')"
   ]
  },
  {
   "cell_type": "code",
   "execution_count": 1,
   "metadata": {},
   "outputs": [],
   "source": [
    "import pandas as pd\n",
    "import numpy as np\n",
    "\n",
    "import matplotlib.pyplot as plt\n",
    "from matplotlib.ticker import FuncFormatter\n",
    "from collections import namedtuple\n",
    "\n",
    "import seaborn as sns"
   ]
  },
  {
   "cell_type": "code",
   "execution_count": 2,
   "metadata": {},
   "outputs": [],
   "source": [
    "### General Processing"
   ]
  },
  {
   "cell_type": "code",
   "execution_count": 3,
   "metadata": {},
   "outputs": [],
   "source": [
    "main = pd.read_excel('Movant Report Analysis (01.01.2016-08.31.2019) - unlinked.xlsx', sheet_name = 'KM Data Edits')\n",
    "datapull = pd.read_excel('Movant Report Analysis (01.01.2016-08.31.2019) - unlinked.xlsx', sheet_name = 'Data Pull Sheet')\n",
    "aums = pd.read_excel('Movant Report Analysis (01.01.2016-08.31.2019) - unlinked.xlsx', sheet_name = 'All Institution AUMs')\n",
    "removed = pd.read_excel('Movant Report Analysis (01.01.2016-08.31.2019) - unlinked.xlsx', sheet_name = 'Removed cases')"
   ]
  },
  {
   "cell_type": "code",
   "execution_count": 4,
   "metadata": {},
   "outputs": [],
   "source": [
    "removed_tickers = pd.read_csv(\"excluded.csv\").Ticker"
   ]
  },
  {
   "cell_type": "code",
   "execution_count": 5,
   "metadata": {},
   "outputs": [],
   "source": [
    "movant_categories = main[\"Movant ID\"].str.split(\".\", n=2, expand = True)\n",
    "main['Movant Group'] = movant_categories[0]+movant_categories[1]"
   ]
  },
  {
   "cell_type": "code",
   "execution_count": 6,
   "metadata": {},
   "outputs": [],
   "source": [
    "main = main.merge(aums[['Institutional Movant', 'AUM']], how = 'left', left_on = 'Movant', right_on = 'Institutional Movant')"
   ]
  },
  {
   "cell_type": "code",
   "execution_count": 7,
   "metadata": {},
   "outputs": [],
   "source": [
    "main = main.merge(datapull[['Ticker','Damage Bucket', \"Filing Firm\", \"Lead Plaintiff\"]], how = 'left', on = 'Ticker')"
   ]
  },
  {
   "cell_type": "code",
   "execution_count": 8,
   "metadata": {},
   "outputs": [],
   "source": [
    "main[\"Type (Ind, Ins, G-Ind, G-Ins, G-Mix)\"] = main[\"Type (Ind, Ins, G-Ind, G-Ins, G-Mix)\"].str.replace(\"InS\", \"Ins\")\n",
    "main[\"Type (Ind, Ins, G-Ind, G-Ins, G-Mix)\"] = main[\"Type (Ind, Ins, G-Ind, G-Ins, G-Mix)\"].str.replace(\"ins\", \"Ins\")\n",
    "main[\"Type (Ind, Ins, G-Ind, G-Ins, G-Mix)\"] = main[\"Type (Ind, Ins, G-Ind, G-Ins, G-Mix)\"].str.replace(\"G-mix\", \"G-Mix\")\n",
    "main[\"Type (Ind, Ins, G-Ind, G-Ins, G-Mix)\"] = main[\"Type (Ind, Ins, G-Ind, G-Ins, G-Mix)\"].str.replace(\"ind\", \"Ind\")\n",
    "main[\"Type (Ind, Ins, G-Ind, G-Ins, G-Mix)\"] = main[\"Type (Ind, Ins, G-Ind, G-Ins, G-Mix)\"].str.replace(\"g-Ind\", \"G-Ind\")"
   ]
  },
  {
   "cell_type": "code",
   "execution_count": 9,
   "metadata": {},
   "outputs": [],
   "source": [
    "main[\"Small Case\"] = 0\n",
    "main.loc[main[\"Damage Bucket\"].isin([\"A\",\"B\"]), \"Small Case\"] = 1 \n",
    "main.loc[main[\"Lead Plaintiff\"].isna(),\"Lead Plaintiff\"] = \"None\""
   ]
  },
  {
   "cell_type": "code",
   "execution_count": 10,
   "metadata": {},
   "outputs": [],
   "source": [
    "def win(a, b):\n",
    "    if a in b: return 1\n",
    "    else: return 0\n",
    "\n",
    "main = main.assign(win = main.apply(lambda row: win(row[\"Movant\"], row[\"Lead Plaintiff\"]), axis =1))"
   ]
  },
  {
   "cell_type": "code",
   "execution_count": 11,
   "metadata": {},
   "outputs": [],
   "source": [
    "main[\"unopposed\"] = 0\n",
    "main.loc[main[\"Contested/\\nUncontested\"]==\"Uncontested\", \"unopposed\"] = 1"
   ]
  },
  {
   "cell_type": "code",
   "execution_count": 12,
   "metadata": {},
   "outputs": [],
   "source": [
    "#main[\"AUM\"] = main.apply(lambda x: '${:,.2f}'.format(x[\"AUM\"]), axis = 1)\n",
    "#main[\"Movant Loss\"] = main.apply(lambda x: '${:,.2f}'.format(x[\"Movant Loss\"]), axis = 1)\n",
    "#datapull[\"Total Damages\"] = datapull.apply(lambda x: '${:,.2f}'.format(x[\"Total Damages\"]), axis = 1)"
   ]
  },
  {
   "cell_type": "markdown",
   "metadata": {},
   "source": [
    "### I. MOVANT ANALYSIS BY REPORTED DAMAGES BY BUCKET"
   ]
  },
  {
   "cell_type": "markdown",
   "metadata": {},
   "source": [
    "#### I. A. Number of Cases by Bucket"
   ]
  },
  {
   "cell_type": "code",
   "execution_count": 13,
   "metadata": {},
   "outputs": [],
   "source": [
    "data_1a = datapull['Damage Bucket'].value_counts()"
   ]
  },
  {
   "cell_type": "code",
   "execution_count": 14,
   "metadata": {},
   "outputs": [],
   "source": [
    "y_val = data_1a.sort_index()\n",
    "x_val = data_1a.sort_index().index"
   ]
  },
  {
   "cell_type": "code",
   "execution_count": 15,
   "metadata": {},
   "outputs": [
    {
     "data": {
      "image/png": "[encoded data removed]",
      "text/plain": [
       "<Figure size 864x288 with 1 Axes>"
      ]
     },
     "metadata": {
      "needs_background": "light"
     },
     "output_type": "display_data"
    }
   ],
   "source": [
    "fig, ax = plt.subplots(figsize=(12,4))\n",
    "width = 0.75\n",
    "ind = np.arange(len((y_val)))\n",
    "plt.title('Number of Cases by Bucket')\n",
    "plt.yticks([], [])\n",
    "ax.bar(x_val, y_val, width, color = \"dodgerblue\")\n",
    "\n",
    "ax.set_ylim([0,y_val.max()+ 100])\n",
    "\n",
    "rects = ax.patches\n",
    "\n",
    "ax.yaxis.set_ticks_position('none')\n",
    "\n",
    "for rect, label in zip(rects, y_val):\n",
    "    height = rect.get_height()\n",
    "    ax.text(rect.get_x() + rect.get_width() / 2, height + 5, label,\n",
    "            ha='center', va='bottom')\n",
    "plt.show()"
   ]
  },
  {
   "cell_type": "markdown",
   "metadata": {},
   "source": [
    "#### I.B. Analysis by Bucket"
   ]
  },
  {
   "cell_type": "code",
   "execution_count": 16,
   "metadata": {},
   "outputs": [],
   "source": [
    "data_1b = datapull[['Damage Bucket', 'Ticker','Total Damages', '% of Total Damages']].dropna()\n",
    "data_1b['Total Damages'] = pd.to_numeric(data_1b['Total Damages'], errors='coerce').fillna(0)\n",
    "data_1b['% of Total Damages'] = pd.to_numeric(data_1b['% of Total Damages'], errors='coerce').fillna(0)\n",
    "data_1b = data_1b[~data_1b.Ticker.isin(data_1b[(data_1b['Damage Bucket']=='F') & (data_1b['Total Damages']==0)]['Ticker'])]\n"
   ]
  },
  {
   "cell_type": "code",
   "execution_count": 17,
   "metadata": {},
   "outputs": [],
   "source": [
    "data_1b_total = data_1b[['Damage Bucket', 'Ticker','Total Damages']]\n",
    "data_1b_describe_total = data_1b_total.pivot_table(index = 'Ticker', columns = 'Damage Bucket', values = 'Total Damages')\n",
    "data_1b_describe_total = data_1b_describe_total.describe()"
   ]
  },
  {
   "cell_type": "code",
   "execution_count": 18,
   "metadata": {},
   "outputs": [],
   "source": [
    "data_1b_bps = data_1b[['Damage Bucket', 'Ticker','% of Total Damages']]\n",
    "data_1b_describe_bps = data_1b_bps.pivot_table(index = 'Ticker', columns = 'Damage Bucket', values = '% of Total Damages')\n",
    "data_1b_describe_bps = data_1b_describe_bps.describe()"
   ]
  },
  {
   "cell_type": "code",
   "execution_count": 19,
   "metadata": {},
   "outputs": [],
   "source": [
    "x_val = np.sort(data_1b['Damage Bucket'].unique())"
   ]
  },
  {
   "cell_type": "code",
   "execution_count": 20,
   "metadata": {},
   "outputs": [
    {
     "data": {
      "image/png": "[encoded data removed]",
      "text/plain": [
       "<Figure size 864x288 with 1 Axes>"
      ]
     },
     "metadata": {
      "needs_background": "light"
     },
     "output_type": "display_data"
    }
   ],
   "source": [
    "#### plt.clf()\n",
    "pd.options.display.float_format = '${:,.0f}'.format\n",
    "plt.figure(figsize=(12,4))\n",
    "plt.title(\"Total Damages Box Plot\", size = 20)\n",
    "ax = sns.boxplot(y = 'Total Damages', x = 'Damage Bucket', data = data_1b_total[~data_1b_total[\"Damage Bucket\"].isin([\"E\", \"F\"])], order = x_val[:4], showfliers=False)\n",
    "ax.get_yaxis().set_major_formatter(FuncFormatter(lambda y, p: format(int(y), ',')))\n",
    "plt.show()"
   ]
  },
  {
   "cell_type": "code",
   "execution_count": 21,
   "metadata": {},
   "outputs": [
    {
     "data": {
      "image/png": "[encoded data removed]",
      "text/plain": [
       "<Figure size 360x288 with 1 Axes>"
      ]
     },
     "metadata": {
      "needs_background": "light"
     },
     "output_type": "display_data"
    }
   ],
   "source": [
    "plt.figure(figsize=(5,4))\n",
    "plt.title(\"Total Damages Box Plot\", size = 20)\n",
    "ax = sns.boxplot(y = 'Total Damages', x = 'Damage Bucket', data = data_1b_total[data_1b_total[\"Damage Bucket\"].isin([\"E\", \"F\"])], order = x_val[4:6], showfliers=False)\n",
    "ax.get_yaxis().set_major_formatter(FuncFormatter(lambda y, p: format(int(y), ',')))\n",
    "plt.show()"
   ]
  },
  {
   "cell_type": "code",
   "execution_count": 22,
   "metadata": {},
   "outputs": [
    {
     "name": "stdout",
     "output_type": "stream",
     "text": [
      "By Total Damage, Does Not Include DC Damages in Bucket F\n"
     ]
    },
    {
     "data": {
      "text/html": [
       "<div>\n",
       "<style scoped>\n",
       "    .dataframe tbody tr th:only-of-type {\n",
       "        vertical-align: middle;\n",
       "    }\n",
       "\n",
       "    .dataframe tbody tr th {\n",
       "        vertical-align: top;\n",
       "    }\n",
       "\n",
       "    .dataframe thead th {\n",
       "        text-align: right;\n",
       "    }\n",
       "</style>\n",
       "<table border=\"1\" class=\"dataframe\">\n",
       "  <thead>\n",
       "    <tr style=\"text-align: right;\">\n",
       "      <th>Damage Bucket</th>\n",
       "      <th>A</th>\n",
       "      <th>B</th>\n",
       "      <th>C</th>\n",
       "      <th>D</th>\n",
       "      <th>DC</th>\n",
       "      <th>E</th>\n",
       "      <th>F</th>\n",
       "    </tr>\n",
       "  </thead>\n",
       "  <tbody>\n",
       "    <tr>\n",
       "      <th>count</th>\n",
       "      <td>$143</td>\n",
       "      <td>$106</td>\n",
       "      <td>$97</td>\n",
       "      <td>$119</td>\n",
       "      <td>$23</td>\n",
       "      <td>$80</td>\n",
       "      <td>$190</td>\n",
       "    </tr>\n",
       "    <tr>\n",
       "      <th>mean</th>\n",
       "      <td>$12,352,797</td>\n",
       "      <td>$38,329,245</td>\n",
       "      <td>$76,113,402</td>\n",
       "      <td>$168,672,269</td>\n",
       "      <td>$0</td>\n",
       "      <td>$381,987,500</td>\n",
       "      <td>$2,482,684,211</td>\n",
       "    </tr>\n",
       "    <tr>\n",
       "      <th>std</th>\n",
       "      <td>$7,291,582</td>\n",
       "      <td>$6,644,955</td>\n",
       "      <td>$14,861,777</td>\n",
       "      <td>$41,460,030</td>\n",
       "      <td>$0</td>\n",
       "      <td>$79,429,850</td>\n",
       "      <td>$4,092,459,210</td>\n",
       "    </tr>\n",
       "    <tr>\n",
       "      <th>min</th>\n",
       "      <td>$0</td>\n",
       "      <td>$26,000,000</td>\n",
       "      <td>$52,000,000</td>\n",
       "      <td>$102,000,000</td>\n",
       "      <td>$0</td>\n",
       "      <td>$260,000,000</td>\n",
       "      <td>$515,000,000</td>\n",
       "    </tr>\n",
       "    <tr>\n",
       "      <th>25%</th>\n",
       "      <td>$6,000,000</td>\n",
       "      <td>$35,000,000</td>\n",
       "      <td>$65,000,000</td>\n",
       "      <td>$133,000,000</td>\n",
       "      <td>$0</td>\n",
       "      <td>$300,000,000</td>\n",
       "      <td>$741,250,000</td>\n",
       "    </tr>\n",
       "    <tr>\n",
       "      <th>50%</th>\n",
       "      <td>$12,000,000</td>\n",
       "      <td>$37,500,000</td>\n",
       "      <td>$75,000,000</td>\n",
       "      <td>$160,000,000</td>\n",
       "      <td>$0</td>\n",
       "      <td>$370,000,000</td>\n",
       "      <td>$1,000,000,000</td>\n",
       "    </tr>\n",
       "    <tr>\n",
       "      <th>75%</th>\n",
       "      <td>$17,500,000</td>\n",
       "      <td>$45,000,000</td>\n",
       "      <td>$90,000,000</td>\n",
       "      <td>$200,000,000</td>\n",
       "      <td>$0</td>\n",
       "      <td>$450,000,000</td>\n",
       "      <td>$2,000,000,000</td>\n",
       "    </tr>\n",
       "    <tr>\n",
       "      <th>max</th>\n",
       "      <td>$25,000,000</td>\n",
       "      <td>$50,000,000</td>\n",
       "      <td>$100,000,000</td>\n",
       "      <td>$250,000,000</td>\n",
       "      <td>$0</td>\n",
       "      <td>$500,000,000</td>\n",
       "      <td>$25,000,000,000</td>\n",
       "    </tr>\n",
       "  </tbody>\n",
       "</table>\n",
       "</div>"
      ],
      "text/plain": [
       "Damage Bucket           A           B            C            D  DC  \\\n",
       "count                $143        $106          $97         $119 $23   \n",
       "mean          $12,352,797 $38,329,245  $76,113,402 $168,672,269  $0   \n",
       "std            $7,291,582  $6,644,955  $14,861,777  $41,460,030  $0   \n",
       "min                    $0 $26,000,000  $52,000,000 $102,000,000  $0   \n",
       "25%            $6,000,000 $35,000,000  $65,000,000 $133,000,000  $0   \n",
       "50%           $12,000,000 $37,500,000  $75,000,000 $160,000,000  $0   \n",
       "75%           $17,500,000 $45,000,000  $90,000,000 $200,000,000  $0   \n",
       "max           $25,000,000 $50,000,000 $100,000,000 $250,000,000  $0   \n",
       "\n",
       "Damage Bucket            E               F  \n",
       "count                  $80            $190  \n",
       "mean          $381,987,500  $2,482,684,211  \n",
       "std            $79,429,850  $4,092,459,210  \n",
       "min           $260,000,000    $515,000,000  \n",
       "25%           $300,000,000    $741,250,000  \n",
       "50%           $370,000,000  $1,000,000,000  \n",
       "75%           $450,000,000  $2,000,000,000  \n",
       "max           $500,000,000 $25,000,000,000  "
      ]
     },
     "execution_count": 22,
     "metadata": {},
     "output_type": "execute_result"
    }
   ],
   "source": [
    "print(\"By Total Damage, Does Not Include DC Damages in Bucket F\")\n",
    "data_1b_describe_total"
   ]
  },
  {
   "cell_type": "code",
   "execution_count": 23,
   "metadata": {},
   "outputs": [
    {
     "name": "stdout",
     "output_type": "stream",
     "text": [
      "By BPS, Does Not Include DC Damages in Bucket F\n"
     ]
    },
    {
     "data": {
      "text/html": [
       "<div>\n",
       "<style scoped>\n",
       "    .dataframe tbody tr th:only-of-type {\n",
       "        vertical-align: middle;\n",
       "    }\n",
       "\n",
       "    .dataframe tbody tr th {\n",
       "        vertical-align: top;\n",
       "    }\n",
       "\n",
       "    .dataframe thead th {\n",
       "        text-align: right;\n",
       "    }\n",
       "</style>\n",
       "<table border=\"1\" class=\"dataframe\">\n",
       "  <thead>\n",
       "    <tr style=\"text-align: right;\">\n",
       "      <th>Damage Bucket</th>\n",
       "      <th>A</th>\n",
       "      <th>B</th>\n",
       "      <th>C</th>\n",
       "      <th>D</th>\n",
       "      <th>DC</th>\n",
       "      <th>E</th>\n",
       "      <th>F</th>\n",
       "    </tr>\n",
       "  </thead>\n",
       "  <tbody>\n",
       "    <tr>\n",
       "      <th>count</th>\n",
       "      <td>14,300.00%</td>\n",
       "      <td>10,600.00%</td>\n",
       "      <td>9,700.00%</td>\n",
       "      <td>11,900.00%</td>\n",
       "      <td>2,300.00%</td>\n",
       "      <td>8,000.00%</td>\n",
       "      <td>19,000.00%</td>\n",
       "    </tr>\n",
       "    <tr>\n",
       "      <th>mean</th>\n",
       "      <td>2.67%</td>\n",
       "      <td>1.10%</td>\n",
       "      <td>0.49%</td>\n",
       "      <td>0.61%</td>\n",
       "      <td>0.00%</td>\n",
       "      <td>0.36%</td>\n",
       "      <td>0.38%</td>\n",
       "    </tr>\n",
       "    <tr>\n",
       "      <th>std</th>\n",
       "      <td>5.85%</td>\n",
       "      <td>2.00%</td>\n",
       "      <td>1.02%</td>\n",
       "      <td>1.64%</td>\n",
       "      <td>0.00%</td>\n",
       "      <td>0.76%</td>\n",
       "      <td>0.94%</td>\n",
       "    </tr>\n",
       "    <tr>\n",
       "      <th>min</th>\n",
       "      <td>0.00%</td>\n",
       "      <td>0.00%</td>\n",
       "      <td>0.00%</td>\n",
       "      <td>0.00%</td>\n",
       "      <td>0.00%</td>\n",
       "      <td>0.00%</td>\n",
       "      <td>0.00%</td>\n",
       "    </tr>\n",
       "    <tr>\n",
       "      <th>25%</th>\n",
       "      <td>0.08%</td>\n",
       "      <td>0.06%</td>\n",
       "      <td>0.02%</td>\n",
       "      <td>0.04%</td>\n",
       "      <td>0.00%</td>\n",
       "      <td>0.01%</td>\n",
       "      <td>0.01%</td>\n",
       "    </tr>\n",
       "    <tr>\n",
       "      <th>50%</th>\n",
       "      <td>0.51%</td>\n",
       "      <td>0.33%</td>\n",
       "      <td>0.12%</td>\n",
       "      <td>0.16%</td>\n",
       "      <td>0.00%</td>\n",
       "      <td>0.08%</td>\n",
       "      <td>0.09%</td>\n",
       "    </tr>\n",
       "    <tr>\n",
       "      <th>75%</th>\n",
       "      <td>2.01%</td>\n",
       "      <td>1.24%</td>\n",
       "      <td>0.46%</td>\n",
       "      <td>0.40%</td>\n",
       "      <td>0.00%</td>\n",
       "      <td>0.31%</td>\n",
       "      <td>0.27%</td>\n",
       "    </tr>\n",
       "    <tr>\n",
       "      <th>max</th>\n",
       "      <td>38.40%</td>\n",
       "      <td>13.61%</td>\n",
       "      <td>6.80%</td>\n",
       "      <td>12.57%</td>\n",
       "      <td>0.00%</td>\n",
       "      <td>4.90%</td>\n",
       "      <td>7.29%</td>\n",
       "    </tr>\n",
       "  </tbody>\n",
       "</table>\n",
       "</div>"
      ],
      "text/plain": [
       "Damage Bucket          A          B         C          D        DC         E  \\\n",
       "count         14,300.00% 10,600.00% 9,700.00% 11,900.00% 2,300.00% 8,000.00%   \n",
       "mean               2.67%      1.10%     0.49%      0.61%     0.00%     0.36%   \n",
       "std                5.85%      2.00%     1.02%      1.64%     0.00%     0.76%   \n",
       "min                0.00%      0.00%     0.00%      0.00%     0.00%     0.00%   \n",
       "25%                0.08%      0.06%     0.02%      0.04%     0.00%     0.01%   \n",
       "50%                0.51%      0.33%     0.12%      0.16%     0.00%     0.08%   \n",
       "75%                2.01%      1.24%     0.46%      0.40%     0.00%     0.31%   \n",
       "max               38.40%     13.61%     6.80%     12.57%     0.00%     4.90%   \n",
       "\n",
       "Damage Bucket          F  \n",
       "count         19,000.00%  \n",
       "mean               0.38%  \n",
       "std                0.94%  \n",
       "min                0.00%  \n",
       "25%                0.01%  \n",
       "50%                0.09%  \n",
       "75%                0.27%  \n",
       "max                7.29%  "
      ]
     },
     "execution_count": 23,
     "metadata": {},
     "output_type": "execute_result"
    }
   ],
   "source": [
    "pd.options.display.float_format = '{:,.2%}'.format\n",
    "print(\"By BPS, Does Not Include DC Damages in Bucket F\")\n",
    "data_1b_describe_bps "
   ]
  },
  {
   "cell_type": "markdown",
   "metadata": {},
   "source": [
    "#### Largest and 2nd Largest Bucket"
   ]
  },
  {
   "cell_type": "code",
   "execution_count": 24,
   "metadata": {},
   "outputs": [],
   "source": [
    "for i in x_val:\n",
    "    data_1b_largest = np.sort(main[(main[\"Damage Bucket\"] == i) & (~main[\"Ticker\"].isin(removed_tickers))].pivot_table(index = \"Movant ID\", columns = \"Ticker\", values = \"Total Damages in Group\").fillna(0), axis = 0)[-2:,:]\n",
    "    if i == \"A\":\n",
    "        data_1b_largest1 = pd.DataFrame(np.transpose(np.transpose(data_1b_largest)[np.all(data_1b_largest != 0, axis =0)])[1]).describe()\n",
    "        data_1b_largest2 = pd.DataFrame(np.transpose(np.transpose(data_1b_largest)[np.all(data_1b_largest != 0, axis =0)])[0]).describe()\n",
    "    else:\n",
    "        data_1b_largest1 = pd.concat([data_1b_largest1, pd.DataFrame(np.transpose(np.transpose(data_1b_largest)[np.all(data_1b_largest != 0, axis =0)])[1]).describe()], axis = 1)       \n",
    "        data_1b_largest2 = pd.concat([data_1b_largest2, pd.DataFrame(np.transpose(np.transpose(data_1b_largest)[np.all(data_1b_largest != 0, axis =0)])[0]).describe()], axis = 1)"
   ]
  },
  {
   "cell_type": "code",
   "execution_count": 25,
   "metadata": {},
   "outputs": [],
   "source": [
    "data_1b_largest1.columns = x_val.tolist()\n",
    "data_1b_largest2.columns = x_val.tolist()"
   ]
  },
  {
   "cell_type": "code",
   "execution_count": 26,
   "metadata": {},
   "outputs": [
    {
     "name": "stdout",
     "output_type": "stream",
     "text": [
      "Largest Movants\n"
     ]
    },
    {
     "data": {
      "text/html": [
       "<div>\n",
       "<style scoped>\n",
       "    .dataframe tbody tr th:only-of-type {\n",
       "        vertical-align: middle;\n",
       "    }\n",
       "\n",
       "    .dataframe tbody tr th {\n",
       "        vertical-align: top;\n",
       "    }\n",
       "\n",
       "    .dataframe thead th {\n",
       "        text-align: right;\n",
       "    }\n",
       "</style>\n",
       "<table border=\"1\" class=\"dataframe\">\n",
       "  <thead>\n",
       "    <tr style=\"text-align: right;\">\n",
       "      <th></th>\n",
       "      <th>A</th>\n",
       "      <th>B</th>\n",
       "      <th>C</th>\n",
       "      <th>D</th>\n",
       "      <th>DC</th>\n",
       "      <th>E</th>\n",
       "      <th>F</th>\n",
       "    </tr>\n",
       "  </thead>\n",
       "  <tbody>\n",
       "    <tr>\n",
       "      <th>count</th>\n",
       "      <td>$86</td>\n",
       "      <td>$66</td>\n",
       "      <td>$56</td>\n",
       "      <td>$82</td>\n",
       "      <td>$12</td>\n",
       "      <td>$47</td>\n",
       "      <td>$117</td>\n",
       "    </tr>\n",
       "    <tr>\n",
       "      <th>mean</th>\n",
       "      <td>$199,619</td>\n",
       "      <td>$411,007</td>\n",
       "      <td>$283,828</td>\n",
       "      <td>$776,172</td>\n",
       "      <td>$1,352,846</td>\n",
       "      <td>$991,427</td>\n",
       "      <td>$4,588,348</td>\n",
       "    </tr>\n",
       "    <tr>\n",
       "      <th>std</th>\n",
       "      <td>$320,485</td>\n",
       "      <td>$436,069</td>\n",
       "      <td>$279,111</td>\n",
       "      <td>$1,045,641</td>\n",
       "      <td>$2,293,669</td>\n",
       "      <td>$1,165,374</td>\n",
       "      <td>$7,551,430</td>\n",
       "    </tr>\n",
       "    <tr>\n",
       "      <th>min</th>\n",
       "      <td>$1,667</td>\n",
       "      <td>$6,854</td>\n",
       "      <td>$12,153</td>\n",
       "      <td>$4,364</td>\n",
       "      <td>$35,790</td>\n",
       "      <td>$37,834</td>\n",
       "      <td>$28,448</td>\n",
       "    </tr>\n",
       "    <tr>\n",
       "      <th>25%</th>\n",
       "      <td>$34,917</td>\n",
       "      <td>$89,002</td>\n",
       "      <td>$88,018</td>\n",
       "      <td>$172,656</td>\n",
       "      <td>$112,482</td>\n",
       "      <td>$182,426</td>\n",
       "      <td>$799,366</td>\n",
       "    </tr>\n",
       "    <tr>\n",
       "      <th>50%</th>\n",
       "      <td>$82,494</td>\n",
       "      <td>$199,094</td>\n",
       "      <td>$183,862</td>\n",
       "      <td>$464,802</td>\n",
       "      <td>$192,709</td>\n",
       "      <td>$507,174</td>\n",
       "      <td>$2,037,041</td>\n",
       "    </tr>\n",
       "    <tr>\n",
       "      <th>75%</th>\n",
       "      <td>$225,422</td>\n",
       "      <td>$651,231</td>\n",
       "      <td>$385,824</td>\n",
       "      <td>$820,752</td>\n",
       "      <td>$1,311,814</td>\n",
       "      <td>$1,425,427</td>\n",
       "      <td>$4,858,265</td>\n",
       "    </tr>\n",
       "    <tr>\n",
       "      <th>max</th>\n",
       "      <td>$2,139,620</td>\n",
       "      <td>$1,733,507</td>\n",
       "      <td>$1,179,088</td>\n",
       "      <td>$5,470,012</td>\n",
       "      <td>$7,452,593</td>\n",
       "      <td>$5,439,420</td>\n",
       "      <td>$50,123,637</td>\n",
       "    </tr>\n",
       "  </tbody>\n",
       "</table>\n",
       "</div>"
      ],
      "text/plain": [
       "               A          B          C          D         DC          E  \\\n",
       "count        $86        $66        $56        $82        $12        $47   \n",
       "mean    $199,619   $411,007   $283,828   $776,172 $1,352,846   $991,427   \n",
       "std     $320,485   $436,069   $279,111 $1,045,641 $2,293,669 $1,165,374   \n",
       "min       $1,667     $6,854    $12,153     $4,364    $35,790    $37,834   \n",
       "25%      $34,917    $89,002    $88,018   $172,656   $112,482   $182,426   \n",
       "50%      $82,494   $199,094   $183,862   $464,802   $192,709   $507,174   \n",
       "75%     $225,422   $651,231   $385,824   $820,752 $1,311,814 $1,425,427   \n",
       "max   $2,139,620 $1,733,507 $1,179,088 $5,470,012 $7,452,593 $5,439,420   \n",
       "\n",
       "                F  \n",
       "count        $117  \n",
       "mean   $4,588,348  \n",
       "std    $7,551,430  \n",
       "min       $28,448  \n",
       "25%      $799,366  \n",
       "50%    $2,037,041  \n",
       "75%    $4,858,265  \n",
       "max   $50,123,637  "
      ]
     },
     "execution_count": 26,
     "metadata": {},
     "output_type": "execute_result"
    }
   ],
   "source": [
    "pd.options.display.float_format = '${:,.0f}'.format\n",
    "print(\"Largest Movants\")\n",
    "data_1b_largest1"
   ]
  },
  {
   "cell_type": "code",
   "execution_count": 27,
   "metadata": {
    "scrolled": true
   },
   "outputs": [
    {
     "name": "stdout",
     "output_type": "stream",
     "text": [
      "Second Largest Movants\n"
     ]
    },
    {
     "data": {
      "text/html": [
       "<div>\n",
       "<style scoped>\n",
       "    .dataframe tbody tr th:only-of-type {\n",
       "        vertical-align: middle;\n",
       "    }\n",
       "\n",
       "    .dataframe tbody tr th {\n",
       "        vertical-align: top;\n",
       "    }\n",
       "\n",
       "    .dataframe thead th {\n",
       "        text-align: right;\n",
       "    }\n",
       "</style>\n",
       "<table border=\"1\" class=\"dataframe\">\n",
       "  <thead>\n",
       "    <tr style=\"text-align: right;\">\n",
       "      <th></th>\n",
       "      <th>A</th>\n",
       "      <th>B</th>\n",
       "      <th>C</th>\n",
       "      <th>D</th>\n",
       "      <th>DC</th>\n",
       "      <th>E</th>\n",
       "      <th>F</th>\n",
       "    </tr>\n",
       "  </thead>\n",
       "  <tbody>\n",
       "    <tr>\n",
       "      <th>count</th>\n",
       "      <td>$86</td>\n",
       "      <td>$66</td>\n",
       "      <td>$56</td>\n",
       "      <td>$82</td>\n",
       "      <td>$12</td>\n",
       "      <td>$47</td>\n",
       "      <td>$117</td>\n",
       "    </tr>\n",
       "    <tr>\n",
       "      <th>mean</th>\n",
       "      <td>$62,422</td>\n",
       "      <td>$139,532</td>\n",
       "      <td>$96,023</td>\n",
       "      <td>$210,373</td>\n",
       "      <td>$531,317</td>\n",
       "      <td>$335,150</td>\n",
       "      <td>$1,179,496</td>\n",
       "    </tr>\n",
       "    <tr>\n",
       "      <th>std</th>\n",
       "      <td>$94,745</td>\n",
       "      <td>$189,392</td>\n",
       "      <td>$115,515</td>\n",
       "      <td>$178,456</td>\n",
       "      <td>$1,079,678</td>\n",
       "      <td>$410,777</td>\n",
       "      <td>$1,617,256</td>\n",
       "    </tr>\n",
       "    <tr>\n",
       "      <th>min</th>\n",
       "      <td>$998</td>\n",
       "      <td>$4,025</td>\n",
       "      <td>$6,424</td>\n",
       "      <td>$1,172</td>\n",
       "      <td>$8,622</td>\n",
       "      <td>$1,643</td>\n",
       "      <td>$5,553</td>\n",
       "    </tr>\n",
       "    <tr>\n",
       "      <th>25%</th>\n",
       "      <td>$5,518</td>\n",
       "      <td>$23,651</td>\n",
       "      <td>$24,592</td>\n",
       "      <td>$67,280</td>\n",
       "      <td>$59,810</td>\n",
       "      <td>$58,755</td>\n",
       "      <td>$163,481</td>\n",
       "    </tr>\n",
       "    <tr>\n",
       "      <th>50%</th>\n",
       "      <td>$23,654</td>\n",
       "      <td>$62,366</td>\n",
       "      <td>$57,188</td>\n",
       "      <td>$188,675</td>\n",
       "      <td>$116,295</td>\n",
       "      <td>$168,155</td>\n",
       "      <td>$667,883</td>\n",
       "    </tr>\n",
       "    <tr>\n",
       "      <th>75%</th>\n",
       "      <td>$73,802</td>\n",
       "      <td>$134,322</td>\n",
       "      <td>$121,105</td>\n",
       "      <td>$297,181</td>\n",
       "      <td>$355,838</td>\n",
       "      <td>$436,232</td>\n",
       "      <td>$1,520,055</td>\n",
       "    </tr>\n",
       "    <tr>\n",
       "      <th>max</th>\n",
       "      <td>$465,143</td>\n",
       "      <td>$975,503</td>\n",
       "      <td>$533,682</td>\n",
       "      <td>$667,994</td>\n",
       "      <td>$3,820,881</td>\n",
       "      <td>$1,762,886</td>\n",
       "      <td>$11,486,547</td>\n",
       "    </tr>\n",
       "  </tbody>\n",
       "</table>\n",
       "</div>"
      ],
      "text/plain": [
       "             A        B        C        D         DC          E           F\n",
       "count      $86      $66      $56      $82        $12        $47        $117\n",
       "mean   $62,422 $139,532  $96,023 $210,373   $531,317   $335,150  $1,179,496\n",
       "std    $94,745 $189,392 $115,515 $178,456 $1,079,678   $410,777  $1,617,256\n",
       "min       $998   $4,025   $6,424   $1,172     $8,622     $1,643      $5,553\n",
       "25%     $5,518  $23,651  $24,592  $67,280    $59,810    $58,755    $163,481\n",
       "50%    $23,654  $62,366  $57,188 $188,675   $116,295   $168,155    $667,883\n",
       "75%    $73,802 $134,322 $121,105 $297,181   $355,838   $436,232  $1,520,055\n",
       "max   $465,143 $975,503 $533,682 $667,994 $3,820,881 $1,762,886 $11,486,547"
      ]
     },
     "execution_count": 27,
     "metadata": {},
     "output_type": "execute_result"
    }
   ],
   "source": [
    "pd.options.display.float_format = '${:,.0f}'.format\n",
    "print(\"Second Largest Movants\")\n",
    "data_1b_largest2"
   ]
  },
  {
   "cell_type": "markdown",
   "metadata": {},
   "source": [
    "#### I.C. Win-Loss Analysis"
   ]
  },
  {
   "cell_type": "code",
   "execution_count": 28,
   "metadata": {},
   "outputs": [],
   "source": [
    "data_1c = main[[\"Movant\", \"Damage Bucket\", \"Type\", \"win\", \"Type (Ind, Ins, G-Ind, G-Ins, G-Mix)\"]]"
   ]
  },
  {
   "cell_type": "markdown",
   "metadata": {},
   "source": [
    "#### I.C.1 Largest Movant"
   ]
  },
  {
   "cell_type": "code",
   "execution_count": 29,
   "metadata": {},
   "outputs": [],
   "source": [
    "data_1c1_wins = main.groupby(\"Movant\")[\"win\"].agg([\"sum\", \"count\"])\n",
    "data_1c1_wins[\"win_rate\"] = data_1c1_wins[\"sum\"]/data_1c1_wins[\"count\"]\n",
    "data_1c1_losses = main.groupby(\"Movant\")[\"Movant Loss\"].sum()"
   ]
  },
  {
   "cell_type": "code",
   "execution_count": 30,
   "metadata": {},
   "outputs": [],
   "source": [
    "data_1c1_largest = data_1c1_losses[data_1c1_losses == data_1c1_losses.max()].index"
   ]
  },
  {
   "cell_type": "code",
   "execution_count": 31,
   "metadata": {},
   "outputs": [
    {
     "name": "stdout",
     "output_type": "stream",
     "text": [
      "The number of wins, cases and win rate of the largest movant is\n"
     ]
    },
    {
     "data": {
      "text/html": [
       "<div>\n",
       "<style scoped>\n",
       "    .dataframe tbody tr th:only-of-type {\n",
       "        vertical-align: middle;\n",
       "    }\n",
       "\n",
       "    .dataframe tbody tr th {\n",
       "        vertical-align: top;\n",
       "    }\n",
       "\n",
       "    .dataframe thead th {\n",
       "        text-align: right;\n",
       "    }\n",
       "</style>\n",
       "<table border=\"1\" class=\"dataframe\">\n",
       "  <thead>\n",
       "    <tr style=\"text-align: right;\">\n",
       "      <th></th>\n",
       "      <th>sum</th>\n",
       "      <th>count</th>\n",
       "      <th>win_rate</th>\n",
       "    </tr>\n",
       "    <tr>\n",
       "      <th>Movant</th>\n",
       "      <th></th>\n",
       "      <th></th>\n",
       "      <th></th>\n",
       "    </tr>\n",
       "  </thead>\n",
       "  <tbody>\n",
       "    <tr>\n",
       "      <th>Union Asset Management Holding AG</th>\n",
       "      <td>7</td>\n",
       "      <td>8</td>\n",
       "      <td>0.88</td>\n",
       "    </tr>\n",
       "  </tbody>\n",
       "</table>\n",
       "</div>"
      ],
      "text/plain": [
       "                                   sum  count  win_rate\n",
       "Movant                                                 \n",
       "Union Asset Management Holding AG    7      8      0.88"
      ]
     },
     "execution_count": 31,
     "metadata": {},
     "output_type": "execute_result"
    }
   ],
   "source": [
    "pd.options.display.float_format = '{:,.2f}'.format\n",
    "print(\"The number of wins, cases and win rate of the largest movant is\")\n",
    "data_1c1_wins[data_1c1_wins.index.isin(data_1c1_largest)]"
   ]
  },
  {
   "cell_type": "code",
   "execution_count": 32,
   "metadata": {},
   "outputs": [],
   "source": [
    "#### I.C.2 Win Rate by Movant Category"
   ]
  },
  {
   "cell_type": "code",
   "execution_count": 33,
   "metadata": {},
   "outputs": [],
   "source": [
    "data_1c2 = data_1c.groupby(\"Type\")[\"win\"].agg([\"sum\", \"count\"])\n",
    "data_1c2[\"win_rate\"] = data_1c2[\"sum\"]/data_1c2[\"count\"]"
   ]
  },
  {
   "cell_type": "code",
   "execution_count": 34,
   "metadata": {},
   "outputs": [],
   "source": [
    "x_val = data_1c2.index\n",
    "y_val = data_1c2.win_rate"
   ]
  },
  {
   "cell_type": "code",
   "execution_count": 35,
   "metadata": {
    "scrolled": true
   },
   "outputs": [
    {
     "data": {
      "image/png": "[encoded data removed]",
      "text/plain": [
       "<Figure size 432x288 with 1 Axes>"
      ]
     },
     "metadata": {
      "needs_background": "light"
     },
     "output_type": "display_data"
    }
   ],
   "source": [
    "\n",
    "fig, ax = plt.subplots(figsize=(6,4))\n",
    "width = 0.75\n",
    "ind = np.arange(len((y_val)))\n",
    "plt.title('Win Rate by Movant Category')\n",
    "plt.yticks([], [])\n",
    "ax.bar(x_val, y_val, width, color = \"dodgerblue\")\n",
    "\n",
    "rects = ax.patches\n",
    "\n",
    "ax.yaxis.set_ticks_position('none')\n",
    "\n",
    "ax.set_ylim([0,y_val.max()+ 0.1])\n",
    "\n",
    "for rect, label in zip(rects, y_val):\n",
    "    height = rect.get_height()\n",
    "    ax.text(rect.get_x() + rect.get_width() / 2, height + 0.01, \"{:,.1%}\".format(label),\n",
    "            ha='center', va='bottom')\n",
    "plt.show()"
   ]
  },
  {
   "cell_type": "code",
   "execution_count": 36,
   "metadata": {},
   "outputs": [],
   "source": [
    "#### I.C.3. Win Rate By Bucket"
   ]
  },
  {
   "cell_type": "code",
   "execution_count": 37,
   "metadata": {},
   "outputs": [],
   "source": [
    "data_1c3 = data_1c.groupby(\"Damage Bucket\")[\"win\"].agg([\"sum\", \"count\"])\n",
    "data_1c3[\"win_rate\"] = data_1c3[\"sum\"]/data_1c3[\"count\"]"
   ]
  },
  {
   "cell_type": "code",
   "execution_count": 38,
   "metadata": {},
   "outputs": [],
   "source": [
    "x_val = data_1c3.index\n",
    "y_val = data_1c3.win_rate"
   ]
  },
  {
   "cell_type": "code",
   "execution_count": 39,
   "metadata": {
    "scrolled": true
   },
   "outputs": [
    {
     "data": {
      "image/png": "[encoded data removed]",
      "text/plain": [
       "<Figure size 864x288 with 1 Axes>"
      ]
     },
     "metadata": {
      "needs_background": "light"
     },
     "output_type": "display_data"
    }
   ],
   "source": [
    "\n",
    "fig, ax = plt.subplots(figsize=(12,4))\n",
    "width = 0.75\n",
    "ind = np.arange(len((y_val)))\n",
    "plt.title('Win Rate by Movant Category')\n",
    "plt.yticks([], [])\n",
    "ax.bar(x_val, y_val, width, color = \"dodgerblue\")\n",
    "\n",
    "rects = ax.patches\n",
    "\n",
    "ax.yaxis.set_ticks_position('none')\n",
    "\n",
    "ax.set_ylim([0,y_val.max()+ 0.1])\n",
    "\n",
    "for rect, label in zip(rects, y_val):\n",
    "    height = rect.get_height()\n",
    "    ax.text(rect.get_x() + rect.get_width() / 2, height + 0.01, \"{:,.1%}\".format(label),\n",
    "            ha='center', va='bottom')\n",
    "plt.show()"
   ]
  },
  {
   "cell_type": "code",
   "execution_count": 40,
   "metadata": {},
   "outputs": [],
   "source": [
    "#### I.C.4. Win Rate By Bucket by Movant Type"
   ]
  },
  {
   "cell_type": "code",
   "execution_count": 41,
   "metadata": {},
   "outputs": [],
   "source": [
    "data_1c4 = data_1c.groupby([\"Type (Ind, Ins, G-Ind, G-Ins, G-Mix)\", \"Damage Bucket\"])[\"win\"].agg([\"sum\", \"count\"])\n",
    "data_1c4[\"win_rate\"] = data_1c4[\"sum\"]/data_1c4[\"count\"]"
   ]
  },
  {
   "cell_type": "code",
   "execution_count": 42,
   "metadata": {},
   "outputs": [],
   "source": [
    "x_val = data_1c4.index\n",
    "y_val = data_1c4.win_rate"
   ]
  },
  {
   "cell_type": "code",
   "execution_count": 47,
   "metadata": {},
   "outputs": [
    {
     "data": {
      "text/plain": [
       "Index(['A', 'B', 'C', 'D', 'DC', 'E', 'F'], dtype='object')"
      ]
     },
     "execution_count": 47,
     "metadata": {},
     "output_type": "execute_result"
    }
   ],
   "source": [
    "x_val"
   ]
  },
  {
   "cell_type": "code",
   "execution_count": 48,
   "metadata": {},
   "outputs": [
    {
     "data": {
      "text/plain": [
       "A     512\n",
       "B     476\n",
       "C     405\n",
       "D     634\n",
       "DC    114\n",
       "E     452\n",
       "F     901\n",
       "Name: Damage Bucket, dtype: int64"
      ]
     },
     "execution_count": 48,
     "metadata": {},
     "output_type": "execute_result"
    }
   ],
   "source": [
    "y_val"
   ]
  },
  {
   "cell_type": "code",
   "execution_count": 43,
   "metadata": {
    "scrolled": true
   },
   "outputs": [
    {
     "ename": "ValueError",
     "evalue": "shape mismatch: objects cannot be broadcast to a single shape",
     "output_type": "error",
     "traceback": [
      "\u001b[0;31m---------------------------------------------------------------------------\u001b[0m",
      "\u001b[0;31mValueError\u001b[0m                                Traceback (most recent call last)",
      "\u001b[0;32m<ipython-input-43-4afa2401cae6>\u001b[0m in \u001b[0;36m<module>\u001b[0;34m\u001b[0m\n\u001b[1;32m     12\u001b[0m \u001b[0;34m\u001b[0m\u001b[0m\n\u001b[1;32m     13\u001b[0m \u001b[0;32mfor\u001b[0m \u001b[0mi\u001b[0m \u001b[0;32min\u001b[0m \u001b[0mrange\u001b[0m\u001b[0;34m(\u001b[0m\u001b[0mlen\u001b[0m\u001b[0;34m(\u001b[0m\u001b[0mlegends\u001b[0m\u001b[0;34m)\u001b[0m\u001b[0;34m)\u001b[0m\u001b[0;34m:\u001b[0m\u001b[0;34m\u001b[0m\u001b[0;34m\u001b[0m\u001b[0m\n\u001b[0;32m---> 14\u001b[0;31m     \u001b[0mbox\u001b[0m \u001b[0;34m=\u001b[0m \u001b[0max\u001b[0m\u001b[0;34m.\u001b[0m\u001b[0mbar\u001b[0m\u001b[0;34m(\u001b[0m\u001b[0mind\u001b[0m \u001b[0;34m+\u001b[0m \u001b[0mwidth\u001b[0m\u001b[0;34m*\u001b[0m\u001b[0;34m(\u001b[0m\u001b[0mi\u001b[0m\u001b[0;34m-\u001b[0m\u001b[0;36m1\u001b[0m\u001b[0;34m)\u001b[0m\u001b[0;34m,\u001b[0m \u001b[0my_val\u001b[0m\u001b[0;34m[\u001b[0m\u001b[0mlegends\u001b[0m\u001b[0;34m[\u001b[0m\u001b[0mi\u001b[0m\u001b[0;34m]\u001b[0m\u001b[0;34m]\u001b[0m\u001b[0;34m,\u001b[0m \u001b[0mwidth\u001b[0m\u001b[0;34m,\u001b[0m \u001b[0mcolor\u001b[0m \u001b[0;34m=\u001b[0m \u001b[0mcolors\u001b[0m\u001b[0;34m[\u001b[0m\u001b[0mi\u001b[0m\u001b[0;34m]\u001b[0m\u001b[0;34m,\u001b[0m \u001b[0mlabel\u001b[0m \u001b[0;34m=\u001b[0m \u001b[0mlegends\u001b[0m\u001b[0;34m[\u001b[0m\u001b[0mi\u001b[0m\u001b[0;34m]\u001b[0m\u001b[0;34m)\u001b[0m\u001b[0;34m\u001b[0m\u001b[0;34m\u001b[0m\u001b[0m\n\u001b[0m\u001b[1;32m     15\u001b[0m     \u001b[0mrects\u001b[0m\u001b[0;34m.\u001b[0m\u001b[0mappend\u001b[0m\u001b[0;34m(\u001b[0m\u001b[0mbox\u001b[0m\u001b[0;34m)\u001b[0m\u001b[0;34m\u001b[0m\u001b[0;34m\u001b[0m\u001b[0m\n\u001b[1;32m     16\u001b[0m \u001b[0;34m\u001b[0m\u001b[0m\n",
      "\u001b[0;32m~/anaconda3/lib/python3.7/site-packages/matplotlib/__init__.py\u001b[0m in \u001b[0;36minner\u001b[0;34m(ax, data, *args, **kwargs)\u001b[0m\n\u001b[1;32m   1808\u001b[0m                         \u001b[0;34m\"the Matplotlib list!)\"\u001b[0m \u001b[0;34m%\u001b[0m \u001b[0;34m(\u001b[0m\u001b[0mlabel_namer\u001b[0m\u001b[0;34m,\u001b[0m \u001b[0mfunc\u001b[0m\u001b[0;34m.\u001b[0m\u001b[0m__name__\u001b[0m\u001b[0;34m)\u001b[0m\u001b[0;34m,\u001b[0m\u001b[0;34m\u001b[0m\u001b[0;34m\u001b[0m\u001b[0m\n\u001b[1;32m   1809\u001b[0m                         RuntimeWarning, stacklevel=2)\n\u001b[0;32m-> 1810\u001b[0;31m             \u001b[0;32mreturn\u001b[0m \u001b[0mfunc\u001b[0m\u001b[0;34m(\u001b[0m\u001b[0max\u001b[0m\u001b[0;34m,\u001b[0m \u001b[0;34m*\u001b[0m\u001b[0margs\u001b[0m\u001b[0;34m,\u001b[0m \u001b[0;34m**\u001b[0m\u001b[0mkwargs\u001b[0m\u001b[0;34m)\u001b[0m\u001b[0;34m\u001b[0m\u001b[0;34m\u001b[0m\u001b[0m\n\u001b[0m\u001b[1;32m   1811\u001b[0m \u001b[0;34m\u001b[0m\u001b[0m\n\u001b[1;32m   1812\u001b[0m         inner.__doc__ = _add_data_doc(inner.__doc__,\n",
      "\u001b[0;32m~/anaconda3/lib/python3.7/site-packages/matplotlib/axes/_axes.py\u001b[0m in \u001b[0;36mbar\u001b[0;34m(self, x, height, width, bottom, align, **kwargs)\u001b[0m\n\u001b[1;32m   2249\u001b[0m         x, height, width, y, linewidth = np.broadcast_arrays(\n\u001b[1;32m   2250\u001b[0m             \u001b[0;31m# Make args iterable too.\u001b[0m\u001b[0;34m\u001b[0m\u001b[0;34m\u001b[0m\u001b[0;34m\u001b[0m\u001b[0m\n\u001b[0;32m-> 2251\u001b[0;31m             np.atleast_1d(x), height, width, y, linewidth)\n\u001b[0m\u001b[1;32m   2252\u001b[0m \u001b[0;34m\u001b[0m\u001b[0m\n\u001b[1;32m   2253\u001b[0m         \u001b[0;31m# Now that units have been converted, set the tick locations.\u001b[0m\u001b[0;34m\u001b[0m\u001b[0;34m\u001b[0m\u001b[0;34m\u001b[0m\u001b[0m\n",
      "\u001b[0;32m~/anaconda3/lib/python3.7/site-packages/numpy/lib/stride_tricks.py\u001b[0m in \u001b[0;36mbroadcast_arrays\u001b[0;34m(*args, **kwargs)\u001b[0m\n\u001b[1;32m    250\u001b[0m     \u001b[0margs\u001b[0m \u001b[0;34m=\u001b[0m \u001b[0;34m[\u001b[0m\u001b[0mnp\u001b[0m\u001b[0;34m.\u001b[0m\u001b[0marray\u001b[0m\u001b[0;34m(\u001b[0m\u001b[0m_m\u001b[0m\u001b[0;34m,\u001b[0m \u001b[0mcopy\u001b[0m\u001b[0;34m=\u001b[0m\u001b[0;32mFalse\u001b[0m\u001b[0;34m,\u001b[0m \u001b[0msubok\u001b[0m\u001b[0;34m=\u001b[0m\u001b[0msubok\u001b[0m\u001b[0;34m)\u001b[0m \u001b[0;32mfor\u001b[0m \u001b[0m_m\u001b[0m \u001b[0;32min\u001b[0m \u001b[0margs\u001b[0m\u001b[0;34m]\u001b[0m\u001b[0;34m\u001b[0m\u001b[0;34m\u001b[0m\u001b[0m\n\u001b[1;32m    251\u001b[0m \u001b[0;34m\u001b[0m\u001b[0m\n\u001b[0;32m--> 252\u001b[0;31m     \u001b[0mshape\u001b[0m \u001b[0;34m=\u001b[0m \u001b[0m_broadcast_shape\u001b[0m\u001b[0;34m(\u001b[0m\u001b[0;34m*\u001b[0m\u001b[0margs\u001b[0m\u001b[0;34m)\u001b[0m\u001b[0;34m\u001b[0m\u001b[0;34m\u001b[0m\u001b[0m\n\u001b[0m\u001b[1;32m    253\u001b[0m \u001b[0;34m\u001b[0m\u001b[0m\n\u001b[1;32m    254\u001b[0m     \u001b[0;32mif\u001b[0m \u001b[0mall\u001b[0m\u001b[0;34m(\u001b[0m\u001b[0marray\u001b[0m\u001b[0;34m.\u001b[0m\u001b[0mshape\u001b[0m \u001b[0;34m==\u001b[0m \u001b[0mshape\u001b[0m \u001b[0;32mfor\u001b[0m \u001b[0marray\u001b[0m \u001b[0;32min\u001b[0m \u001b[0margs\u001b[0m\u001b[0;34m)\u001b[0m\u001b[0;34m:\u001b[0m\u001b[0;34m\u001b[0m\u001b[0;34m\u001b[0m\u001b[0m\n",
      "\u001b[0;32m~/anaconda3/lib/python3.7/site-packages/numpy/lib/stride_tricks.py\u001b[0m in \u001b[0;36m_broadcast_shape\u001b[0;34m(*args)\u001b[0m\n\u001b[1;32m    185\u001b[0m     \u001b[0;31m# use the old-iterator because np.nditer does not handle size 0 arrays\u001b[0m\u001b[0;34m\u001b[0m\u001b[0;34m\u001b[0m\u001b[0;34m\u001b[0m\u001b[0m\n\u001b[1;32m    186\u001b[0m     \u001b[0;31m# consistently\u001b[0m\u001b[0;34m\u001b[0m\u001b[0;34m\u001b[0m\u001b[0;34m\u001b[0m\u001b[0m\n\u001b[0;32m--> 187\u001b[0;31m     \u001b[0mb\u001b[0m \u001b[0;34m=\u001b[0m \u001b[0mnp\u001b[0m\u001b[0;34m.\u001b[0m\u001b[0mbroadcast\u001b[0m\u001b[0;34m(\u001b[0m\u001b[0;34m*\u001b[0m\u001b[0margs\u001b[0m\u001b[0;34m[\u001b[0m\u001b[0;34m:\u001b[0m\u001b[0;36m32\u001b[0m\u001b[0;34m]\u001b[0m\u001b[0;34m)\u001b[0m\u001b[0;34m\u001b[0m\u001b[0;34m\u001b[0m\u001b[0m\n\u001b[0m\u001b[1;32m    188\u001b[0m     \u001b[0;31m# unfortunately, it cannot handle 32 or more arguments directly\u001b[0m\u001b[0;34m\u001b[0m\u001b[0;34m\u001b[0m\u001b[0;34m\u001b[0m\u001b[0m\n\u001b[1;32m    189\u001b[0m     \u001b[0;32mfor\u001b[0m \u001b[0mpos\u001b[0m \u001b[0;32min\u001b[0m \u001b[0mrange\u001b[0m\u001b[0;34m(\u001b[0m\u001b[0;36m32\u001b[0m\u001b[0;34m,\u001b[0m \u001b[0mlen\u001b[0m\u001b[0;34m(\u001b[0m\u001b[0margs\u001b[0m\u001b[0;34m)\u001b[0m\u001b[0;34m,\u001b[0m \u001b[0;36m31\u001b[0m\u001b[0;34m)\u001b[0m\u001b[0;34m:\u001b[0m\u001b[0;34m\u001b[0m\u001b[0;34m\u001b[0m\u001b[0m\n",
      "\u001b[0;31mValueError\u001b[0m: shape mismatch: objects cannot be broadcast to a single shape"
     ]
    },
    {
     "data": {
      "image/png": "[encoded data removed]",
      "text/plain": [
       "<Figure size 1152x288 with 1 Axes>"
      ]
     },
     "metadata": {
      "needs_background": "light"
     },
     "output_type": "display_data"
    }
   ],
   "source": [
    "fig, ax = plt.subplots(figsize=(16,4))\n",
    "width = 0.15\n",
    "ind = np.arange(6)\n",
    "legends = [\"G-Ind\", \"G-Ins\", \"G-Mix\", \"Ind\", \"Ins\"]\n",
    "buckets = [\"A\", \"B\", \"C\", \"D\", \"E\", \"F\"]\n",
    "colors=['teal', 'gold', 'plum', 'darkseagreen', 'lightcoral', \"mediumorchid\"]\n",
    "\n",
    "plt.title('Win Rate by Movant Category')\n",
    "plt.yticks([], [])\n",
    "\n",
    "rects = []\n",
    "\n",
    "for i in range(len(legends)):\n",
    "    box = ax.bar(ind + width*(i-1), y_val[legends[i]], width, color = colors[i], label = legends[i])\n",
    "    rects.append(box)\n",
    "\n",
    "plt.legend([i for i in rects], legends)\n",
    "\n",
    "\n",
    "ax.set_xticks(ind+width)\n",
    "ax.set_xticklabels(buckets)\n",
    "ax.yaxis.set_ticks_position('none')\n",
    "ax.set_ylim([0,y_val.max()+ 0.1])\n",
    "\n",
    "def autolabel(i):\n",
    "    for rect in i:\n",
    "        h = rect.get_height()\n",
    "        ax.text(rect.get_x()+rect.get_width()/2., 1.05*h, \"{:,.0%}\".format(h),\n",
    "                ha='center', va='bottom')\n",
    "        \n",
    "for i in rects:\n",
    "    autolabel(i)\n",
    "\n",
    "\n",
    "\n",
    "plt.show()"
   ]
  },
  {
   "cell_type": "markdown",
   "metadata": {},
   "source": [
    "### II. ANALYSIS BY TYPE OF MOVANT"
   ]
  },
  {
   "cell_type": "markdown",
   "metadata": {},
   "source": [
    "#### II. A. Number of Movants by Bucket"
   ]
  },
  {
   "cell_type": "code",
   "execution_count": 44,
   "metadata": {},
   "outputs": [],
   "source": [
    "data_2a = main[\"Damage Bucket\"].value_counts()"
   ]
  },
  {
   "cell_type": "code",
   "execution_count": 45,
   "metadata": {},
   "outputs": [],
   "source": [
    "y_val = data_2a.sort_index()\n",
    "x_val = data_2a.sort_index().index"
   ]
  },
  {
   "cell_type": "code",
   "execution_count": 46,
   "metadata": {},
   "outputs": [
    {
     "data": {
      "image/png": "[encoded data removed]",
      "text/plain": [
       "<Figure size 864x288 with 1 Axes>"
      ]
     },
     "metadata": {
      "needs_background": "light"
     },
     "output_type": "display_data"
    }
   ],
   "source": [
    "fig, ax = plt.subplots(figsize=(12,4))\n",
    "width = 0.75\n",
    "ind = np.arange(len((y_val)))\n",
    "plt.title('Number of Movants by Bucket')\n",
    "plt.yticks([], [])\n",
    "ax.bar(x_val, y_val, width, color = \"dodgerblue\")\n",
    "\n",
    "rects = ax.patches\n",
    "\n",
    "ax.yaxis.set_ticks_position('none')\n",
    "\n",
    "ax.set_ylim([0,y_val.max()+ 100])\n",
    "\n",
    "for rect, label in zip(rects, y_val):\n",
    "    height = rect.get_height()\n",
    "    ax.text(rect.get_x() + rect.get_width() / 2, height + 5, label,\n",
    "            ha='center', va='bottom')\n",
    "plt.show()"
   ]
  },
  {
   "cell_type": "markdown",
   "metadata": {},
   "source": [
    "#### II.B. Number of Movants by Case"
   ]
  },
  {
   "cell_type": "code",
   "execution_count": null,
   "metadata": {},
   "outputs": [],
   "source": [
    "data_2b = main.groupby(\"Ticker\")[\"Movant ID\"].count().reset_index()\n",
    "data_2b_describe = data_2b.describe()"
   ]
  },
  {
   "cell_type": "code",
   "execution_count": null,
   "metadata": {},
   "outputs": [],
   "source": [
    "pd.options.display.float_format = '{:.2f}'.format\n",
    "data_2b_describe"
   ]
  },
  {
   "cell_type": "markdown",
   "metadata": {},
   "source": [
    "#### II.C. Movant By Type By Bucket"
   ]
  },
  {
   "cell_type": "code",
   "execution_count": null,
   "metadata": {},
   "outputs": [],
   "source": [
    "data_2c = main[[\"Damage Bucket\", \"Type (Ind, Ins, G-Ind, G-Ins, G-Mix)\", \"Movant ID\"]]"
   ]
  },
  {
   "cell_type": "code",
   "execution_count": null,
   "metadata": {},
   "outputs": [],
   "source": [
    "data_2c_grouped = data_2c.groupby([\"Damage Bucket\", \"Type (Ind, Ins, G-Ind, G-Ins, G-Mix)\"])[\"Movant ID\"].count().reset_index()"
   ]
  },
  {
   "cell_type": "code",
   "execution_count": null,
   "metadata": {},
   "outputs": [],
   "source": [
    "data_2c_grouped"
   ]
  },
  {
   "cell_type": "markdown",
   "metadata": {},
   "source": [
    "#### II.D. For Groups"
   ]
  },
  {
   "cell_type": "code",
   "execution_count": null,
   "metadata": {},
   "outputs": [],
   "source": [
    "data_2d = main[[\"Movant Group\", \"Type (Ind, Ins, G-Ind, G-Ins, G-Mix)\", \"Movant Loss\", \"Movant ID\", \"win\"]]\n",
    "data_2d_groupcount = data_2d.groupby(\"Type (Ind, Ins, G-Ind, G-Ins, G-Mix)\")[\"Movant ID\"].nunique()/data_2d.groupby(\"Type (Ind, Ins, G-Ind, G-Ins, G-Mix)\")[\"Movant Group\"].nunique()\n",
    "data_2d_groupcount = data_2d_groupcount.append(pd.Series(data_2d[\"Movant ID\"].nunique()/data_2d[\"Movant Group\"].nunique(), index = [\"Total\"]))\n",
    "data_2d_loss = data_2d.groupby(\"Type (Ind, Ins, G-Ind, G-Ins, G-Mix)\")[\"Movant Loss\"].mean()\n",
    "data_2d_loss = data_2d_loss.append(pd.Series(main[\"Movant Loss\"].mean(), index = [\"Total\"]))\n",
    "data_2d_winrate = data_2d.groupby(\"Type (Ind, Ins, G-Ind, G-Ins, G-Mix)\")[\"win\"].sum()/data_2d.groupby(\"Type (Ind, Ins, G-Ind, G-Ins, G-Mix)\")[\"win\"].count()\n",
    "data_2d_winrate = data_2d_winrate.append(pd.Series(main[\"win\"].sum()/main[\"win\"].count(), index = [\"Total\"]))"
   ]
  },
  {
   "cell_type": "code",
   "execution_count": null,
   "metadata": {},
   "outputs": [],
   "source": [
    "data_2d = pd.concat([data_2d_groupcount, data_2d_loss, data_2d_winrate], axis = 1)\n",
    "data_2d.columns = [\"Avg # of Members for Each Type\", \"Avg Losses\", \"Win Rate\"]\n",
    "data_2d[\"Avg Losses\"] = data_2d.apply(lambda x: '${:,.2f}'.format(x[\"Avg Losses\"]), axis = 1)\n",
    "data_2d[\"Win Rate\"] = data_2d.apply(lambda x: \"{:,.1%}\".format(x[\"Win Rate\"]), axis = 1)"
   ]
  },
  {
   "cell_type": "code",
   "execution_count": null,
   "metadata": {},
   "outputs": [],
   "source": [
    "print(\"Statistics by Type\")\n",
    "pd.options.display.float_format = '{:,.2f}'.format\n",
    "data_2d"
   ]
  },
  {
   "cell_type": "markdown",
   "metadata": {},
   "source": [
    "#### II.E. For Unopposed Lead Plaintiff Motions"
   ]
  },
  {
   "cell_type": "code",
   "execution_count": null,
   "metadata": {},
   "outputs": [],
   "source": [
    "data_2e = main[main[\"unopposed\"]==1][[\"Damage Bucket\",\"Movant\",\"Movant Loss\"]]"
   ]
  },
  {
   "cell_type": "markdown",
   "metadata": {},
   "source": [
    "#### III.E.1. Number of Unopposed by Bucket"
   ]
  },
  {
   "cell_type": "code",
   "execution_count": null,
   "metadata": {},
   "outputs": [],
   "source": [
    "data_2e1 = data_2e.groupby(\"Damage Bucket\")[\"Movant\"].count().reset_index()"
   ]
  },
  {
   "cell_type": "code",
   "execution_count": null,
   "metadata": {},
   "outputs": [],
   "source": [
    "data_2e1"
   ]
  },
  {
   "cell_type": "markdown",
   "metadata": {},
   "source": [
    "#### II.E.2 Average Loss of Unopposed by Bucket"
   ]
  },
  {
   "cell_type": "code",
   "execution_count": null,
   "metadata": {},
   "outputs": [],
   "source": [
    "data_2e2 = data_2e.groupby(\"Damage Bucket\")[\"Movant Loss\"].mean().reset_index()\n",
    "data_2e2[\"Movant Loss\"] = data_2e2.apply(lambda x: '${:,.2f}'.format(x[\"Movant Loss\"]), axis = 1)\n"
   ]
  },
  {
   "cell_type": "code",
   "execution_count": null,
   "metadata": {},
   "outputs": [],
   "source": [
    "pd.options.display.float_format = '${:,.2}'.format\n",
    "data_2e2"
   ]
  },
  {
   "cell_type": "markdown",
   "metadata": {},
   "source": [
    "#### II.F. Fight Analysis"
   ]
  },
  {
   "cell_type": "code",
   "execution_count": null,
   "metadata": {},
   "outputs": [],
   "source": [
    "data_2f = main[[\"Small Case\", \"Type\", \"win\"]]"
   ]
  },
  {
   "cell_type": "code",
   "execution_count": null,
   "metadata": {},
   "outputs": [],
   "source": [
    "data2f_wins = data_2f.groupby([\"Small Case\", \"Type\"])[\"win\"].agg([\"sum\", \"count\"])\n",
    "data2f_wins[\"win_rate\"] = data2f_wins[\"sum\"]/  data2f_wins[\"count\"]"
   ]
  },
  {
   "cell_type": "code",
   "execution_count": null,
   "metadata": {},
   "outputs": [],
   "source": [
    "pd.options.display.float_format = '{:.1%}'.format\n",
    "data2f_wins[\"win_rate\"].reset_index()"
   ]
  },
  {
   "cell_type": "markdown",
   "metadata": {},
   "source": [
    "### III. ANALYSIS BY INSTITUTIONAL MOVEMENT TYPE"
   ]
  },
  {
   "cell_type": "markdown",
   "metadata": {},
   "source": [
    "#### III. A. Institutional Movants by Bucket"
   ]
  },
  {
   "cell_type": "code",
   "execution_count": null,
   "metadata": {},
   "outputs": [],
   "source": [
    "data_3 = main[main[\"Type\"]== \"Institution\"]"
   ]
  },
  {
   "cell_type": "code",
   "execution_count": null,
   "metadata": {},
   "outputs": [],
   "source": [
    "data_3a = data_3.groupby('Damage Bucket')['Institutional Movant'].count()"
   ]
  },
  {
   "cell_type": "code",
   "execution_count": null,
   "metadata": {},
   "outputs": [],
   "source": [
    "y_val = data_3a.sort_index()\n",
    "x_val = data_3a.sort_index().index"
   ]
  },
  {
   "cell_type": "code",
   "execution_count": null,
   "metadata": {},
   "outputs": [],
   "source": [
    "fig, ax = plt.subplots(figsize=(12,4))\n",
    "width = 0.75\n",
    "ind = np.arange(len((y_val)))\n",
    "plt.title('Number of Institutional Movants by Bucket')\n",
    "plt.yticks([], [])\n",
    "ax.bar(x_val, y_val, width, color = \"dodgerblue\")\n",
    "\n",
    "rects = ax.patches\n",
    "\n",
    "ax.yaxis.set_ticks_position('none')\n",
    "\n",
    "ax.set_ylim([0,y_val.max()+ 100])\n",
    "\n",
    "for rect, label in zip(rects, y_val):\n",
    "    height = rect.get_height()\n",
    "    ax.text(rect.get_x() + rect.get_width() / 2, height + 5, label,\n",
    "            ha='center', va='bottom')\n",
    "plt.show()"
   ]
  },
  {
   "cell_type": "markdown",
   "metadata": {},
   "source": [
    "#### III.B Average Loss By Institutional Movant by Bucket\n",
    "#### Note: Does not include institutional movants without losses (N/A)"
   ]
  },
  {
   "cell_type": "code",
   "execution_count": null,
   "metadata": {},
   "outputs": [],
   "source": [
    "data_3b = data_3[['Damage Bucket',  \"Type\", 'Movant Loss']].dropna()\n",
    "data_3b_describe = data_3b.pivot(columns = 'Damage Bucket', values = 'Movant Loss')\n",
    "data_3b_describe = data_3b_describe.describe()"
   ]
  },
  {
   "cell_type": "code",
   "execution_count": null,
   "metadata": {},
   "outputs": [],
   "source": [
    "pd.options.display.float_format = '{:.0f}'.format\n",
    "data_3b_describe"
   ]
  },
  {
   "cell_type": "markdown",
   "metadata": {},
   "source": [
    "#### III.C. Average Loss By Winning Institutional Movant by Bucket\n",
    "#### Note: Does not include institutional movants without losses (N/A)"
   ]
  },
  {
   "cell_type": "code",
   "execution_count": null,
   "metadata": {},
   "outputs": [],
   "source": [
    "data_3c = data_3[data_3.win==1][['Damage Bucket',  \"Type\", 'Movant Loss']].dropna()\n",
    "data_3c_describe = data_3c.pivot(columns = 'Damage Bucket', values = 'Movant Loss')\n",
    "data_3c_describe = data_3c_describe.describe()"
   ]
  },
  {
   "cell_type": "code",
   "execution_count": null,
   "metadata": {},
   "outputs": [],
   "source": [
    "data_3c_describe"
   ]
  },
  {
   "cell_type": "markdown",
   "metadata": {},
   "source": [
    "#### III.D. Average AUM of Institutional Movant by Bucket\n",
    "##### Note: Count Includes Only Institutional Movants with AUMs (no N/As)"
   ]
  },
  {
   "cell_type": "code",
   "execution_count": null,
   "metadata": {},
   "outputs": [],
   "source": [
    "data_3d = main[['Damage Bucket',  \"Institutional Movant\", \"AUM\"]].dropna()\n",
    "data_3d_describe = data_3d.pivot(columns = 'Damage Bucket', values = 'AUM')\n",
    "data_3d_describe = data_3d_describe.describe()"
   ]
  },
  {
   "cell_type": "code",
   "execution_count": null,
   "metadata": {},
   "outputs": [],
   "source": [
    "pd.options.display.float_format = '${:,.0f}'.format\n",
    "data_3d_describe"
   ]
  },
  {
   "cell_type": "markdown",
   "metadata": {},
   "source": [
    "#### III.E. Frequent Flyer Analysis"
   ]
  },
  {
   "cell_type": "markdown",
   "metadata": {},
   "source": [
    "#### III.E.1. Movant Type"
   ]
  },
  {
   "cell_type": "code",
   "execution_count": null,
   "metadata": {},
   "outputs": [],
   "source": [
    "data_3e = main[[\"Institutional Movant\", \"Damage Bucket\", \"Type (Ind, Ins, G-Ind, G-Ins, G-Mix)\", 'Investor Frequent Flyer', 'Movant Loss', \"Filing Firm\"]]\n",
    "data_3e = data_3e[~data_3e[\"Institutional Movant\"].isna()]\n",
    "data_3e.loc[(data_3e[\"Investor Frequent Flyer\"].isna()),\"Investor Frequent Flyer\"] = \"NotFF\""
   ]
  },
  {
   "cell_type": "code",
   "execution_count": null,
   "metadata": {},
   "outputs": [],
   "source": [
    "data_3e1 = data_3e.groupby([\"Type (Ind, Ins, G-Ind, G-Ins, G-Mix)\", \"Investor Frequent Flyer\"])[\"Institutional Movant\"].count().reset_index().sort_values(\"Type (Ind, Ins, G-Ind, G-Ins, G-Mix)\")"
   ]
  },
  {
   "cell_type": "code",
   "execution_count": null,
   "metadata": {},
   "outputs": [],
   "source": [
    "y_val1 = data_3e1[data_3e1[\"Investor Frequent Flyer\"]== \"FF\"][\"Institutional Movant\"]\n",
    "y_val2 = data_3e1[data_3e1[\"Investor Frequent Flyer\"]== \"NotFF\"][\"Institutional Movant\"]\n",
    "x_val = data_3e1[data_3e1[\"Investor Frequent Flyer\"]== \"FF\"][\"Type (Ind, Ins, G-Ind, G-Ins, G-Mix)\"]"
   ]
  },
  {
   "cell_type": "code",
   "execution_count": null,
   "metadata": {},
   "outputs": [],
   "source": [
    "data_3e1"
   ]
  },
  {
   "cell_type": "markdown",
   "metadata": {},
   "source": [
    "#### III.E.2.By Bucket"
   ]
  },
  {
   "cell_type": "code",
   "execution_count": null,
   "metadata": {},
   "outputs": [],
   "source": [
    "data_3e2 = data_3e.groupby([\"Damage Bucket\", \"Investor Frequent Flyer\"])[\"Institutional Movant\"].count().reset_index().sort_values(\"Damage Bucket\")"
   ]
  },
  {
   "cell_type": "code",
   "execution_count": null,
   "metadata": {},
   "outputs": [],
   "source": [
    "data_3e2"
   ]
  },
  {
   "cell_type": "markdown",
   "metadata": {},
   "source": [
    "#### III.E.3.By Filing Firm"
   ]
  },
  {
   "cell_type": "markdown",
   "metadata": {},
   "source": [
    "#### See attached csv"
   ]
  },
  {
   "cell_type": "code",
   "execution_count": null,
   "metadata": {
    "scrolled": true
   },
   "outputs": [],
   "source": [
    "#data_3e3 = main[[\"Movant\", \"Institutional Movant\", \"Company Name\",\"Damage Bucket\", \"Type (Ind, Ins, G-Ind, G-Ins, G-Mix)\", \"Type\", 'Investor Frequent Flyer', 'Movant Loss', \"Firm Names - Movant\", \"AUM\"]]\n",
    "#data_3e3.loc[(data_3e3[\"Investor Frequent Flyer\"].isna()) & (data_3e3[\"Type\"]==\"Institution\"),\"Investor Frequent Flyer\"] = \"NotFF\""
   ]
  },
  {
   "cell_type": "code",
   "execution_count": null,
   "metadata": {},
   "outputs": [],
   "source": [
    "#data_3e3_count = data_3e3.groupby(\"Movant\")[\"Type\"].count().reset_index().rename(columns = {\"Type\": \"case_count\"})"
   ]
  },
  {
   "cell_type": "code",
   "execution_count": null,
   "metadata": {},
   "outputs": [],
   "source": [
    "#data_3e3 = data_3e3.merge(data_3e3_count, how = \"left\", on = \"Movant\")"
   ]
  },
  {
   "cell_type": "code",
   "execution_count": null,
   "metadata": {},
   "outputs": [],
   "source": [
    "#data_3e3_repeat = data_3e3[data_3e3.case_count > 1].sort_values([\"Type\",\"Movant\", \"Firm Names - Movant\"])\n",
    "#data_3e3_repeat[\"Movant Loss\"] = data_3e3_repeat.apply(lambda x: '${:,.2f}'.format(x[\"Movant Loss\"]), axis = 1)\n",
    "#data_3e3_repeat[\"AUM\"] = data_3e3_repeat.apply(lambda x: '${:,.2f}'.format(x[\"AUM\"]), axis = 1)"
   ]
  },
  {
   "cell_type": "code",
   "execution_count": null,
   "metadata": {},
   "outputs": [],
   "source": [
    "#data_3e3_repeat_ind = data_3e3_repeat[data_3e3_repeat.Type == \"Individual\"][[\"Movant\",\"Firm Names - Movant\", \"Company Name\", \"Movant Loss\"]]\n",
    "#data_3e3_repeat_ins = data_3e3_repeat[data_3e3_repeat.Type == \"Institution\"][[\"Movant\",\"AUM\",\"Firm Names - Movant\", \"Company Name\", \"Movant Loss\"]]"
   ]
  },
  {
   "cell_type": "code",
   "execution_count": null,
   "metadata": {},
   "outputs": [],
   "source": [
    "#with pd.ExcelWriter('FrequentFlyerAnalysis_201911.xlsx') as writer:  # doctest: +SKIP\n",
    "#    data_3e3_repeat_ind.to_excel(writer, sheet_name='Individual', index = False)\n",
    "#    data_3e3_repeat_ins.to_excel(writer, sheet_name='Institution', index = False)"
   ]
  },
  {
   "cell_type": "code",
   "execution_count": null,
   "metadata": {},
   "outputs": [],
   "source": []
  }
 ],
 "metadata": {
  "kernelspec": {
   "display_name": "Python 3",
   "language": "python",
   "name": "python3"
  },
  "language_info": {
   "codemirror_mode": {
    "name": "ipython",
    "version": 3
   },
   "file_extension": ".py",
   "mimetype": "text/x-python",
   "name": "python",
   "nbconvert_exporter": "python",
   "pygments_lexer": "ipython3",
   "version": "3.7.1"
  }
 },
 "nbformat": 4,
 "nbformat_minor": 2
}
