{
 "cells": [
  {
   "cell_type": "code",
   "execution_count": 1,
   "metadata": {
    "scrolled": false
   },
   "outputs": [
    {
     "name": "stdout",
     "output_type": "stream",
     "text": [
      "SAS Connection established. Subprocess id is 18991\n",
      "\n"
     ]
    },
    {
     "data": {
      "text/html": [
       "<!DOCTYPE html PUBLIC \"-//W3C//DTD HTML 4.01//EN\"\n",
       "   \"http://www.w3.org/TR/html4/strict.dtd\">\n",
       "\n",
       "<html>\n",
       "<head>\n",
       "  <title></title>\n",
       "  <meta http-equiv=\"content-type\" content=\"text/html; charset=None\">\n",
       "  <style type=\"text/css\">\n",
       "td.linenos { background-color: #f0f0f0; padding-right: 10px; }\n",
       "span.lineno { background-color: #f0f0f0; padding: 0 5px 0 5px; }\n",
       "pre { line-height: 125%; }\n",
       "body .hll { background-color: #ffffcc }\n",
       "body  { background: #ffffff; }\n",
       "body .c { color: #0000FF } /* Comment */\n",
       "body .k { color: #ff0000; font-weight: bold } /* Keyword */\n",
       "body .n { color: #008000 } /* Name */\n",
       "body .ch { color: #0000FF } /* Comment.Hashbang */\n",
       "body .cm { color: #0000FF } /* Comment.Multiline */\n",
       "body .cp { color: #0000FF } /* Comment.Preproc */\n",
       "body .cpf { color: #0000FF } /* Comment.PreprocFile */\n",
       "body .c1 { color: #0000FF } /* Comment.Single */\n",
       "body .cs { color: #0000FF } /* Comment.Special */\n",
       "body .kc { color: #ff0000; font-weight: bold } /* Keyword.Constant */\n",
       "body .kd { color: #ff0000; font-weight: bold } /* Keyword.Declaration */\n",
       "body .kn { color: #ff0000; font-weight: bold } /* Keyword.Namespace */\n",
       "body .kp { color: #ff0000; font-weight: bold } /* Keyword.Pseudo */\n",
       "body .kr { color: #ff0000; font-weight: bold } /* Keyword.Reserved */\n",
       "body .kt { color: #ff0000; font-weight: bold } /* Keyword.Type */\n",
       "body .s { color: #111111 } /* Literal.String */\n",
       "body .na { color: #008000 } /* Name.Attribute */\n",
       "body .nb { color: #008000 } /* Name.Builtin */\n",
       "body .nc { color: #008000 } /* Name.Class */\n",
       "body .no { color: #008000 } /* Name.Constant */\n",
       "body .nd { color: #008000 } /* Name.Decorator */\n",
       "body .ni { color: #008000 } /* Name.Entity */\n",
       "body .ne { color: #008000 } /* Name.Exception */\n",
       "body .nf { color: #008000 } /* Name.Function */\n",
       "body .nl { color: #008000 } /* Name.Label */\n",
       "body .nn { color: #008000 } /* Name.Namespace */\n",
       "body .nx { color: #008000 } /* Name.Other */\n",
       "body .py { color: #008000 } /* Name.Property */\n",
       "body .nt { color: #008000 } /* Name.Tag */\n",
       "body .nv { color: #008000 } /* Name.Variable */\n",
       "body .sb { color: #111111 } /* Literal.String.Backtick */\n",
       "body .sc { color: #111111 } /* Literal.String.Char */\n",
       "body .sd { color: #111111 } /* Literal.String.Doc */\n",
       "body .s2 { color: #111111 } /* Literal.String.Double */\n",
       "body .se { color: #111111 } /* Literal.String.Escape */\n",
       "body .sh { color: #111111 } /* Literal.String.Heredoc */\n",
       "body .si { color: #111111 } /* Literal.String.Interpol */\n",
       "body .sx { color: #111111 } /* Literal.String.Other */\n",
       "body .sr { color: #111111 } /* Literal.String.Regex */\n",
       "body .s1 { color: #111111 } /* Literal.String.Single */\n",
       "body .ss { color: #111111 } /* Literal.String.Symbol */\n",
       "body .bp { color: #008000 } /* Name.Builtin.Pseudo */\n",
       "body .vc { color: #008000 } /* Name.Variable.Class */\n",
       "body .vg { color: #008000 } /* Name.Variable.Global */\n",
       "body .vi { color: #008000 } /* Name.Variable.Instance */\n",
       "\n",
       "  </style>\n",
       "</head>\n",
       "<body>\n",
       "<h2></h2>\n",
       "\n",
       "<div class=\"highlight\"><pre><span></span><span class=\"s\">34   ods listing close;ods html5 (id=saspy_internal) file=stdout options(bitmap_mode=&#39;inline&#39;) device=svg; ods graphics on /</span><br><span class=\"s\">34 ! outputfmt=png;</span><br><span class=\"cm\">NOTE: Writing HTML5(SASPY_INTERNAL) Body file: STDOUT</span><br><span class=\"s\">35   </span><br><span class=\"s\">36   PROC IMPORT DATAFILE = &quot;all_patients_CLEANED.csv&quot; out=all_patients DBMS=CSV; RUN;</span><br><span class=\"err\">Name</span>  <span class=\"err\">is</span> <span class=\"err\">not</span> <span class=\"err\">a</span> <span class=\"err\">valid</span> <span class=\"err\">SAS</span> <span class=\"err\">name.</span><br><span class=\"err\">Problems</span> <span class=\"err\">were</span> <span class=\"err\">detected</span> <span class=\"err\">with</span> <span class=\"err\">provided</span> <span class=\"err\">names.</span>  <span class=\"err\">See</span> <span class=\"err\">LOG.</span> <br><span class=\"cm\">NOTE: Unable to open SASUSER.PROFILE. WORK.PROFILE will be opened instead.</span><br><span class=\"cm\">NOTE: All profile changes will be lost at the end of the session.</span><br><span class=\"s\">37    /**********************************************************************</span><br><span class=\"s\">38    *   PRODUCT:   SAS</span><br><span class=\"s\">39    *   VERSION:   9.4</span><br><span class=\"s\">40    *   CREATOR:   External File Interface</span><br><span class=\"s\">41    *   DATE:      15JAN19</span><br><span class=\"s\">42    *   DESC:      Generated SAS Datastep Code</span><br><span class=\"s\">43    *   TEMPLATE SOURCE:  (None Specified.)</span><br><span class=\"s\">44    ***********************************************************************/</span><br><span class=\"s\">45       data WORK.ALL_PATIENTS    ;</span><br><span class=\"s\">46       %let _EFIERR_ = 0; /* set the ERROR detection macro variable */</span><br><span class=\"s\">47       infile &#39;all_patients_CLEANED.csv&#39; delimiter = &#39;,&#39; MISSOVER DSD lrecl=32767 firstobs=2 ;</span><br><span class=\"s\">48          informat VAR1 best32. ;</span><br><span class=\"s\">49          informat &quot;Unnamed: 0&quot;N best32. ;</span><br><span class=\"s\">50          informat &quot;Unnamed: 0.1&quot;N best32. ;</span><br><span class=\"s\">51          informat ptid best32. ;</span><br><span class=\"s\">52          informat period $4. ;</span><br><span class=\"s\">53          informat gender $1. ;</span><br><span class=\"s\">54          informat state $2. ;</span><br><span class=\"s\">55          informat firstdate mmddyy10. ;</span><br><span class=\"s\">56          informat store $2. ;</span><br><span class=\"s\">57          informat trt $1. ;</span><br><span class=\"s\">58          informat t_and_c $1. ;</span><br><span class=\"s\">59          informat age best32. ;</span><br><span class=\"s\">60          informat istest10 $1. ;</span><br><span class=\"s\">61          informat imputed_filldate mmddyy10. ;</span><br><span class=\"s\">62          informat first_msg mmddyy10. ;</span><br><span class=\"s\">63          informat first_testperiod_code $2. ;</span><br><span class=\"s\">64          informat first_testperiod_drug mmddyy10. ;</span><br><span class=\"s\">65          informat first_testperiod_qty best32. ;</span><br><span class=\"s\">66          informat pre_product_vol best32. ;</span><br><span class=\"s\">67          informat pre_product_rxs best32. ;</span><br><span class=\"s\">68          informat test_trigger_vol best32. ;</span><br><span class=\"s\">69          informat test_trigger_rxs best32. ;</span><br><span class=\"s\">70          informat test_product_vol best32. ;</span><br><span class=\"s\">71          informat test_product_rxs best32. ;</span><br><span class=\"s\">72          informat mid_trigger_vol best32. ;</span><br><span class=\"s\">73          informat mid_trigger_rxs best32. ;</span><br><span class=\"s\">74          informat mid_product_vol best32. ;</span><br><span class=\"s\">75          informat mid_product_rxs best32. ;</span><br><span class=\"s\">76          informat preperiod_msg $1. ;</span><br><span class=\"s\">77          informat month best32. ;</span><br><span class=\"s\">78          informat region best32. ;</span><br><span class=\"s\">79          informat rf_num best32. ;</span><br><span class=\"s\">80          informat pre_trigger_rxs_1yr best32. ;</span><br><span class=\"s\">81          informat pre_product_rxs_1yr best32. ;</span><br><span class=\"s\">82          informat msg_count best32. ;</span><br><span class=\"s\">83          informat year anydtdtm40. ;</span><br><span class=\"s\">84          informat age_grp best32. ;</span><br><span class=\"s\">85          informat age_grp2 best32. ;</span><br><span class=\"s\">86          informat preprod best32. ;</span><br><span class=\"s\">87          informat company $3. ;</span><br><span class=\"s\">88          informat company1 $3. ;</span><br><span class=\"s\">89          informat newvar $3. ;</span><br><span class=\"s\">90          informat all best32. ;</span><br><span class=\"s\">91          informat converted $1. ;</span><br><span class=\"s\">92          informat randomobs best32. ;</span><br><span class=\"s\">93          format VAR1 best12. ;</span><br><span class=\"s\">94          format &quot;Unnamed: 0&quot;N best12. ;</span><br><span class=\"s\">95          format &quot;Unnamed: 0.1&quot;N best12. ;</span><br><span class=\"s\">96          format ptid best12. ;</span><br><span class=\"s\">97          format period $4. ;</span><br><span class=\"s\">98          format gender $1. ;</span><br><span class=\"s\">99          format state $2. ;</span><br><span class=\"s\">100         format firstdate mmddyy10. ;</span><br><span class=\"s\">101         format store $2. ;</span><br><span class=\"s\">102         format trt $1. ;</span><br><span class=\"s\">103         format t_and_c $1. ;</span><br><span class=\"s\">104         format age best12. ;</span><br><span class=\"s\">105         format istest10 $1. ;</span><br><span class=\"s\">106         format imputed_filldate mmddyy10. ;</span><br><span class=\"s\">107         format first_msg mmddyy10. ;</span><br><span class=\"s\">108         format first_testperiod_code $2. ;</span><br><span class=\"s\">109         format first_testperiod_drug mmddyy10. ;</span><br><span class=\"s\">110         format first_testperiod_qty best12. ;</span><br><span class=\"s\">111         format pre_product_vol best12. ;</span><br><span class=\"s\">112         format pre_product_rxs best12. ;</span><br><span class=\"s\">113         format test_trigger_vol best12. ;</span><br><span class=\"s\">114         format test_trigger_rxs best12. ;</span><br><span class=\"s\">115         format test_product_vol best12. ;</span><br><span class=\"s\">116         format test_product_rxs best12. ;</span><br><span class=\"s\">117         format mid_trigger_vol best12. ;</span><br><span class=\"s\">118         format mid_trigger_rxs best12. ;</span><br><span class=\"s\">119         format mid_product_vol best12. ;</span><br><span class=\"s\">120         format mid_product_rxs best12. ;</span><br><span class=\"s\">121         format preperiod_msg $1. ;</span><br><span class=\"s\">122         format month best12. ;</span><br><span class=\"s\">123         format region best12. ;</span><br><span class=\"s\">124         format rf_num best12. ;</span><br><span class=\"s\">125         format pre_trigger_rxs_1yr best12. ;</span><br><span class=\"s\">126         format pre_product_rxs_1yr best12. ;</span><br><span class=\"s\">127         format msg_count best12. ;</span><br><span class=\"s\">128         format year datetime. ;</span><br><span class=\"s\">129         format age_grp best12. ;</span><br><span class=\"s\">130         format age_grp2 best12. ;</span><br><span class=\"s\">131         format preprod best12. ;</span><br><span class=\"s\">132         format company $3. ;</span><br><span class=\"s\">133         format company1 $3. ;</span><br><span class=\"s\">134         format newvar $3. ;</span><br><span class=\"s\">135         format all best12. ;</span><br><span class=\"s\">136         format converted $1. ;</span><br><span class=\"s\">137         format randomobs best12. ;</span><br><span class=\"s\">138      input</span><br><span class=\"s\">139                  VAR1</span><br><span class=\"s\">140                  &quot;Unnamed: 0&quot;N</span><br><span class=\"s\">141                  &quot;Unnamed: 0.1&quot;N</span><br><span class=\"s\">142                  ptid</span><br><span class=\"s\">143                  period  $</span><br><span class=\"s\">144                  gender  $</span><br><span class=\"s\">145                  state  $</span><br><span class=\"s\">146                  firstdate</span><br><span class=\"s\">147                  store  $</span><br><span class=\"s\">148                  trt  $</span><br><span class=\"s\">149                  t_and_c  $</span><br><span class=\"s\">150                  age</span><br><span class=\"s\">151                  istest10  $</span><br><span class=\"s\">152                  imputed_filldate</span><br><span class=\"s\">153                  first_msg</span><br><span class=\"s\">154                  first_testperiod_code  $</span><br><span class=\"s\">155                  first_testperiod_drug</span><br><span class=\"s\">156                  first_testperiod_qty</span><br><span class=\"s\">157                  pre_product_vol</span><br><span class=\"s\">158                  pre_product_rxs</span><br><span class=\"s\">159                  test_trigger_vol</span><br><span class=\"s\">160                  test_trigger_rxs</span><br><span class=\"s\">161                  test_product_vol</span><br><span class=\"s\">162                  test_product_rxs</span><br><span class=\"s\">163                  mid_trigger_vol</span><br><span class=\"s\">164                  mid_trigger_rxs</span><br><span class=\"s\">165                  mid_product_vol</span><br><span class=\"s\">166                  mid_product_rxs</span><br><span class=\"s\">167                  preperiod_msg  $</span><br><span class=\"s\">168                  month</span><br><span class=\"s\">169                  region</span><br><span class=\"s\">170                  rf_num</span><br><span class=\"s\">171                  pre_trigger_rxs_1yr</span><br><span class=\"s\">172                  pre_product_rxs_1yr</span><br><span class=\"s\">173                  msg_count</span><br><span class=\"s\">174                  year</span><br><span class=\"s\">175                  age_grp</span><br><span class=\"s\">176                  age_grp2</span><br><span class=\"s\">177                  preprod</span><br><span class=\"s\">178                  company  $</span><br><span class=\"s\">179                  company1  $</span><br><span class=\"s\">180                  newvar  $</span><br><span class=\"s\">181                  all</span><br><span class=\"s\">182                  converted  $</span><br><span class=\"s\">183                  randomobs</span><br><span class=\"s\">184      ;</span><br><span class=\"s\">185      if _ERROR_ then call symputx(&#39;_EFIERR_&#39;,1);  /* set ERROR detection macro variable */</span><br><span class=\"s\">186      run;</span><br><span class=\"cm\">NOTE: The infile &#39;all_patients_CLEANED.csv&#39; is:</span><br><span class=\"cm\">      Filename=/media/sf_myfolders/all_patients_CLEANED.csv,</span><br><span class=\"cm\">      Owner Name=root,Group Name=vboxsf,</span><br><span class=\"cm\">      Access Permission=-rwxrwx---,</span><br><span class=\"cm\">      Last Modified=10Dec2018:01:44:12,</span><br><span class=\"cm\">      File Size (bytes)=10340483</span><br><br><span class=\"cm\">NOTE: 55423 records were read from the infile &#39;all_patients_CLEANED.csv&#39;.</span><br><span class=\"cm\">      The minimum record length was 166.</span><br><span class=\"cm\">      The maximum record length was 200.</span><br><span class=\"cm\">NOTE: The data set WORK.ALL_PATIENTS has 55423 observations and 45 variables.</span><br><span class=\"cm\">NOTE: DATA statement used (Total process time):</span><br><span class=\"cm\">      real time           0.28 seconds</span><br><span class=\"cm\">      cpu time            0.24 seconds</span><br><span class=\"cm\">      </span><br><span class=\"s\">55423 rows created in WORK.ALL_PATIENTS from all_patients_CLEANED.csv.</span><br><span class=\"s\">  </span><br><span class=\"s\">  </span><br><span class=\"s\">  </span><br><span class=\"cm\">NOTE: WORK.ALL_PATIENTS data set was successfully created.</span><br><span class=\"cm\">NOTE: The data set WORK.ALL_PATIENTS has 55423 observations and 45 variables.</span><br><span class=\"cm\">NOTE: PROCEDURE IMPORT used (Total process time):</span><br><span class=\"cm\">      real time           0.42 seconds</span><br><span class=\"cm\">      cpu time            0.34 seconds</span><br><span class=\"cm\">      </span><br><span class=\"s\">187  </span><br><span class=\"s\">188  ods html5 (id=saspy_internal) close;ods listing;</span><br><br><span class=\"s\">189  </span><br></pre></div>\n",
       "</body>\n",
       "</html>\n"
      ],
      "text/plain": [
       "<IPython.core.display.HTML object>"
      ]
     },
     "execution_count": 1,
     "metadata": {},
     "output_type": "execute_result"
    }
   ],
   "source": [
    "PROC IMPORT DATAFILE = \"all_patients_CLEANED.csv\" out=all_patients DBMS=CSV; RUN;"
   ]
  },
  {
   "cell_type": "code",
   "execution_count": null,
   "metadata": {
    "scrolled": true
   },
   "outputs": [],
   "source": [
    "%macro sample(list,thelast, ds);\n",
    "DATA t(RENAME=(ptid=tptid)) c(RENAME=(ptid=cptid));\n",
    "   SET all_patients; \n",
    "   IF trt=\"T\" THEN OUTPUT t;\n",
    "      ELSE IF trt=\"C\" THEN OUTPUT c;\n",
    "   KEEP ptid randomobs &list &thelast; \n",
    "run;\n",
    "PROC SORT DATA=t; BY &list &thelast randomobs; run;\n",
    "PROC SORT DATA=c; BY &list &thelast randomobs; run;\n",
    "\n",
    "DATA c;\n",
    "   SET c; BY &list &thelast;\n",
    "   IF FIRST.&thelast THEN observe=0;\n",
    "     observe+1;\n",
    "run;\n",
    "PROC SORT; BY &list &thelast observe; run;\n",
    "\n",
    "DATA t;\n",
    "   SET t; BY &list &thelast;\n",
    "   IF FIRST.&thelast THEN observe=0;\n",
    "     observe+1;\n",
    "run;\n",
    "PROC SORT; BY &list &thelast observe; run;\n",
    "\n",
    "DATA both;\n",
    "   MERGE t(IN=int) c(IN=inc); BY &list &thelast observe;\n",
    "   IF int AND inc;\n",
    "run;\n",
    "\n",
    "DATA t(RENAME=(tptid=ptid) DROP=cptid) c(RENAME=(cptid=ptid) DROP=tptid);\n",
    "   SET both; \n",
    "   DROP &list &thelast randomobs observe; \n",
    "run;\n",
    "\n",
    "PROC SORT DATA=t; BY ptid; run;\n",
    "PROC SORT DATA=c; BY ptid; run;\n",
    "PROC SORT DATA=all_patients; BY ptid; run;\n",
    "\n",
    "DATA final_patients;\n",
    "    MERGE all_patients(IN=in1) t(IN=int) c(IN=inc); BY ptid;\n",
    "\tIF (in1 AND int) OR (in1 AND inc);\n",
    "run;\n",
    "\n",
    "DATA &ds; SET final_patients; RUN;\n",
    "%mend;"
   ]
  },
  {
   "cell_type": "code",
   "execution_count": null,
   "metadata": {},
   "outputs": [],
   "source": [
    "%macro themodel(dataset, dep, indep=, title=, by=);\n",
    "\tPROC glm data=&dataset; \n",
    "\t\tBY &by;\n",
    "\t\tCLASS trt age_grp age_grp2 gender region state year newvar store;\n",
    "\t\tMODEL &dep = &indep / solution;\n",
    "\t\tLSMEANS trt / pdiff=controlu CL stderr cov out=adjmeans;\n",
    "\t\tTITLE \"&title\";\n",
    "\trun;\n",
    "%mend;"
   ]
  },
  {
   "cell_type": "code",
   "execution_count": null,
   "metadata": {},
   "outputs": [],
   "source": [
    "%sample(age_grp \tgender month pre_product_vol store newvar, state, aggspvstm_n); "
   ]
  },
  {
   "cell_type": "code",
   "execution_count": null,
   "metadata": {
    "scrolled": true
   },
   "outputs": [],
   "source": [
    "DATA finalpt;\n",
    "   SET aggspvstm_n; \n",
    "   IF preprod=1 THEN pp=\"N\";\n",
    "      ELSE pp=\"Y\";\n",
    "RUN;"
   ]
  },
  {
   "cell_type": "code",
   "execution_count": null,
   "metadata": {},
   "outputs": [],
   "source": [
    "%themodel(all_patients, test_product_vol, indep = trt pre_product_vol age gender month state rf_num, \n",
    "          title=Adjusted Qty Results for Matched Sample);"
   ]
  },
  {
   "cell_type": "code",
   "execution_count": null,
   "metadata": {},
   "outputs": [],
   "source": [
    "%macro genmod(ds=,byes=,indep=,dep=);\n",
    "    \n",
    "\tPROC SORT DATA=&ds; BY &byes trt; run;\n",
    "    \n",
    "\tPROC UNIVARIATE DATA=&ds noprint;\n",
    "\t\tBY &byes trt;\n",
    "\t\tVAR &dep;\n",
    "\t\tOUTPUT OUT=means  mean=mean n=n;\n",
    "\trun;\n",
    "\tPROC SORT DATA=&ds; BY &byes; run;   \n",
    "    \n",
    "\tPROC GENMOD DATA=&ds; \n",
    "\t\tBY &byes;\n",
    "\t\tCLASS trt age_grp age_grp2 gender region state year store;\n",
    "\t\tMODEL &dep=trt &indep / dist=normal type3 wald scale=deviance;\n",
    "\t\tLSMEANS trt/diffs cov;\n",
    "\t\tODS OUTPUT parameterestimates=sol lsmeans = lsmeans diffs = diffs;\n",
    "\t\trun;\n",
    "\trun;\n",
    "%mend"
   ]
  },
  {
   "cell_type": "code",
   "execution_count": null,
   "metadata": {},
   "outputs": [],
   "source": [
    "%macro genmod1(ds=,byes=,indep=,dep=);\n",
    "    \n",
    "\tPROC SORT DATA=&ds; BY &byes trt; run;\n",
    "    \n",
    "\tPROC UNIVARIATE DATA=&ds noprint;\n",
    "\t\tBY &byes trt;\n",
    "\t\tVAR &dep;\n",
    "\t\tOUTPUT OUT=means  mean=mean n=n;\n",
    "\trun;\n",
    "\tPROC SORT DATA=&ds; BY &byes; run;   \n",
    "    \n",
    "\tPROC GENMOD DATA=&ds; \n",
    "\t\tBY &byes;\n",
    "\t\tCLASS trt age_grp age_grp2 gender region state year store;\n",
    "\t\tMODEL &dep=trt &indep / dist=normal\n",
    "\t\trun;\n",
    "\trun;\n",
    "%mend"
   ]
  },
  {
   "cell_type": "code",
   "execution_count": null,
   "metadata": {},
   "outputs": [],
   "source": [
    "PROC IMPORT DATAFILE = \"finalpt.csv\" out=finalpt2 DBMS=CSV; RUN;"
   ]
  },
  {
   "cell_type": "code",
   "execution_count": null,
   "metadata": {},
   "outputs": [],
   "source": [
    "%genmod(ds=finalpt2,byes=all, indep=pre_product_vol age gender month state rf_num, dep=test_product_vol);   "
   ]
  },
  {
   "cell_type": "code",
   "execution_count": null,
   "metadata": {},
   "outputs": [],
   "source": []
  },
  {
   "cell_type": "code",
   "execution_count": null,
   "metadata": {},
   "outputs": [],
   "source": [
    "%macro genmodnew(ds=,byes=,indep=,dep=);\n",
    "    ods select none;\n",
    "\tPROC SORT DATA=&ds; BY &byes trt; run;\n",
    "    \n",
    "\tPROC UNIVARIATE DATA=&ds noprint;\n",
    "\t\tBY &byes trt;\n",
    "\t\tVAR &dep;\n",
    "\t\tOUTPUT OUT=means  mean=mean n=n;\n",
    "\trun;\n",
    "\tPROC SORT DATA=&ds; BY &byes; run;   \n",
    "    \n",
    "\tPROC GENMOD DATA=&ds; \n",
    "\t\tBY &byes;\n",
    "\t\tCLASS trt age_grp age_grp2 gender region state year store;\n",
    "\t\tMODEL &dep=trt &indep / dist=normal type3 wald scale=deviance;\n",
    "\t\tLSMEANS trt/diffs cov;\n",
    "\t\tODS OUTPUT parameterestimates=sol lsmeans = lsmeans diffs = diffs;\n",
    "\t\trun; quit;\n",
    "\t\tODS select all;\n",
    "\t\tODS show;\n",
    "\trun;\n",
    "    \n",
    "\tDATA meanlist(drop=diff effect trt);\n",
    "\t\tLENGTH impact_star $12;\n",
    "\t\tMERGE means(WHERE=(trt='T') RENAME=(mean=meant n=nt) )\n",
    "        means(WHERE=(trt='C') RENAME=(mean=meanc n=nc) )\n",
    "        lsmeans(KEEP=&byes effect trt estimate stderr WHERE=(trt='T') RENAME=(estimate=lsmeant stderr=se_lst))\n",
    "        lsmeans(KEEP=&byes effect trt estimate stderr WHERE=(trt='C') RENAME=(estimate=lsmeanc stderr=se_lsc))\n",
    "        diffs(drop=trt _trt rename=(estimate=diff stderr=se_diff));\n",
    "\t\tBY &byes;\n",
    "\t\tImpact=-diff;\n",
    "\t\tLowerCL=Impact-1.282*se_diff; \n",
    "\t\tUpperCL=Impact+1.282*se_diff;\n",
    "\t\tIF se_diff>0 THEN T=Impact/se_diff;\n",
    "         ELSE t=0;\n",
    "\t\tprobt=1-probnorm(t);\n",
    "\t\t%*formchar(probt,pval);\n",
    "\t\tIF probt<.01 THEN star='***';\n",
    "\t\t\tELSE IF probt<.05 THEN star=' **';\n",
    "\t\t\tELSE IF probt<.10 THEN star='  *';\n",
    "\t\t\tELSE IF probt<.20 THEN star='  +';\n",
    "\t\tImpact_star=right(put(impact,6.2))||' '||left(star);\n",
    "\t\t\tdep=\"&dep\";\n",
    "\t\t\tconfidence=1-probt;\n",
    "\t\t\tFORMAT nt nc 6. meant meanc lsmeant lsmeanc impact diff 6.4 ;\n",
    "\t\t\tLABEL \n",
    "            meanc = 'Mean~Comparison'              meant = 'Mean~Test'\n",
    "            lsmeant='LS Mean~Test'                 lsmeanc='LS Mean~Comparison'\n",
    "            Impact='Impact~(LS Mean Difference)'   Impact_star='Impact~Pvalue'\n",
    "            nt='N~Test'                            nc='N~Comparison'\n",
    "            se_diff='Impact~Std Error'             star='Significance: ***=.01  **=.05    *=.20'\n",
    "            se_lst='Std Error~LS Mean~Test'        se_lsc='Std Error~LS Mean~Comparison';\n",
    "    RUN;\n",
    "%mend\n",
    "        "
   ]
  },
  {
   "cell_type": "code",
   "execution_count": null,
   "metadata": {},
   "outputs": [],
   "source": [
    "%genmodnew(ds=finalpt2,byes=all, indep=pre_product_vol age gender month state rf_num,dep=test_product_vol); data meanAA5a; set meanlist; run;"
   ]
  },
  {
   "cell_type": "code",
   "execution_count": null,
   "metadata": {},
   "outputs": [],
   "source": [
    "proc export data=meanAA5a\n",
    "   outfile='meanAA5a.csv'\n",
    "   dbms=csv\n",
    "   replace;\n",
    "run;"
   ]
  },
  {
   "cell_type": "code",
   "execution_count": null,
   "metadata": {},
   "outputs": [],
   "source": [
    "proc export data=meanAA1a\n",
    "   outfile='meanAA1a.csv'\n",
    "   dbms=csv\n",
    "   replace;\n",
    "run;"
   ]
  },
  {
   "cell_type": "code",
   "execution_count": null,
   "metadata": {
    "scrolled": true
   },
   "outputs": [],
   "source": [
    "proc export data=c\n",
    "   outfile='c_new.csv'\n",
    "   dbms=csv\n",
    "   replace;\n",
    "run;"
   ]
  }
 ],
 "metadata": {
  "kernelspec": {
   "display_name": "SAS",
   "language": "sas",
   "name": "sas"
  },
  "language_info": {
   "codemirror_mode": "sas",
   "file_extension": ".sas",
   "mimetype": "text/x-sas",
   "name": "sas"
  }
 },
 "nbformat": 4,
 "nbformat_minor": 2
}
