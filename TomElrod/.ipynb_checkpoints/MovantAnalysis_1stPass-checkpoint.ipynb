{
 "cells": [
  {
   "cell_type": "code",
   "execution_count": 58,
   "metadata": {},
   "outputs": [
    {
     "data": {
      "text/html": [
       "<script>\n",
       "code_show=true; \n",
       "function code_toggle() {\n",
       " if (code_show){\n",
       " $('div.input').hide();\n",
       " } else {\n",
       " $('div.input').show();\n",
       " }\n",
       " code_show = !code_show\n",
       "} \n",
       "$( document ).ready(code_toggle);\n",
       "</script>\n",
       "<form action=\"javascript:code_toggle()\"><input type=\"submit\" value=\"Click here to toggle on/off the raw code.\"></form>"
      ],
      "text/plain": [
       "<IPython.core.display.HTML object>"
      ]
     },
     "execution_count": 58,
     "metadata": {},
     "output_type": "execute_result"
    }
   ],
   "source": [
    "import pandas as pd\n",
    "import numpy as np\n",
    "\n",
    "import matplotlib.pyplot as plt\n",
    "from matplotlib.ticker import FuncFormatter\n",
    "from collections import namedtuple\n",
    "\n",
    "import seaborn as sns\n",
    "\n",
    "from IPython.display import HTML\n",
    "\n",
    "HTML('''<script>\n",
    "code_show=true; \n",
    "function code_toggle() {\n",
    " if (code_show){\n",
    " $('div.input').hide();\n",
    " } else {\n",
    " $('div.input').show();\n",
    " }\n",
    " code_show = !code_show\n",
    "} \n",
    "$( document ).ready(code_toggle);\n",
    "</script>\n",
    "<form action=\"javascript:code_toggle()\"><input type=\"submit\" value=\"Click here to toggle on/off the raw code.\"></form>''')"
   ]
  },
  {
   "cell_type": "markdown",
   "metadata": {},
   "source": [
    "### General Processing"
   ]
  },
  {
   "cell_type": "code",
   "execution_count": 2,
   "metadata": {},
   "outputs": [],
   "source": [
    "main = pd.read_excel('movantanalysis.xlsx', sheet_name = 'KM Data Edits')\n",
    "datapull = pd.read_excel('movantanalysis.xlsx', sheet_name = 'Data Pull Sheet')\n",
    "aums = pd.read_excel('movantanalysis.xlsx', sheet_name = 'All Institution AUMs')\n",
    "removed = pd.read_excel('movantanalysis.xlsx', sheet_name = 'Removed cases')"
   ]
  },
  {
   "cell_type": "code",
   "execution_count": 3,
   "metadata": {},
   "outputs": [],
   "source": [
    "movant_categories = main[\"Movant ID\"].str.split(\".\", n=2, expand = True)\n",
    "main['Movant Group'] = movant_categories[0]+movant_categories[1]"
   ]
  },
  {
   "cell_type": "code",
   "execution_count": 4,
   "metadata": {},
   "outputs": [],
   "source": [
    "main = main.merge(aums[['Institutional Movant', 'AUM']], how = 'left', left_on = 'Movant', right_on = 'Institutional Movant')"
   ]
  },
  {
   "cell_type": "code",
   "execution_count": 5,
   "metadata": {},
   "outputs": [],
   "source": [
    "main = main.merge(datapull[['Ticker','Damage Bucket', \"Filing Firm\"]], how = 'left', on = 'Ticker')"
   ]
  },
  {
   "cell_type": "code",
   "execution_count": 6,
   "metadata": {},
   "outputs": [],
   "source": [
    "main[\"Type (Ind, Ins, G-Ind, G-Ins, G-Mix)\"] = main[\"Type (Ind, Ins, G-Ind, G-Ins, G-Mix)\"].str.replace(\"InS\", \"Ins\")\n",
    "main[\"Type (Ind, Ins, G-Ind, G-Ins, G-Mix)\"] = main[\"Type (Ind, Ins, G-Ind, G-Ins, G-Mix)\"].str.replace(\"ins\", \"Ins\")\n",
    "main[\"Type (Ind, Ins, G-Ind, G-Ins, G-Mix)\"] = main[\"Type (Ind, Ins, G-Ind, G-Ins, G-Mix)\"].str.replace(\"G-mix\", \"G-Mix\")\n",
    "main[\"Type (Ind, Ins, G-Ind, G-Ins, G-Mix)\"] = main[\"Type (Ind, Ins, G-Ind, G-Ins, G-Mix)\"].str.replace(\"ind\", \"Ind\")\n",
    "main[\"Type (Ind, Ins, G-Ind, G-Ins, G-Mix)\"] = main[\"Type (Ind, Ins, G-Ind, G-Ins, G-Mix)\"].str.replace(\"g-Ind\", \"G-Ind\")"
   ]
  },
  {
   "cell_type": "code",
   "execution_count": 7,
   "metadata": {},
   "outputs": [],
   "source": [
    "main[\"Small Case\"] = 0\n",
    "main.loc[main[\"Damage Bucket\"].isin([\"A\",\"B\"]), \"Small Case\"] = 1 "
   ]
  },
  {
   "cell_type": "markdown",
   "metadata": {},
   "source": [
    "### I. MOVANT ANALYSIS BY REPORTED DAMAGES BY BUCKET"
   ]
  },
  {
   "cell_type": "markdown",
   "metadata": {},
   "source": [
    "#### I. A. Number of Cases by Bucket"
   ]
  },
  {
   "cell_type": "code",
   "execution_count": 8,
   "metadata": {},
   "outputs": [],
   "source": [
    "data_1a = datapull['Damage Bucket'].value_counts()"
   ]
  },
  {
   "cell_type": "code",
   "execution_count": 9,
   "metadata": {},
   "outputs": [],
   "source": [
    "y_val = data_1a.sort_index()\n",
    "x_val = data_1a.sort_index().index"
   ]
  },
  {
   "cell_type": "code",
   "execution_count": 10,
   "metadata": {
    "scrolled": true
   },
   "outputs": [
    {
     "data": {
      "text/plain": [
       "<Figure size 432x288 with 0 Axes>"
      ]
     },
     "metadata": {},
     "output_type": "display_data"
    },
    {
     "data": {
      "image/png": "[encoded data removed]",
      "text/plain": [
       "<Figure size 864x288 with 1 Axes>"
      ]
     },
     "metadata": {
      "needs_background": "light"
     },
     "output_type": "display_data"
    }
   ],
   "source": [
    "plt.clf()\n",
    "fig, ax = plt.subplots(figsize=(12,4))\n",
    "width = 0.75\n",
    "ind = np.arange(len((y_val)))\n",
    "plt.title('Number of Cases by Bucket')\n",
    "plt.yticks([], [])\n",
    "ax.bar(x_val, y_val, width, color = \"blue\")\n",
    "\n",
    "ax.set_ylim([0,y_val.max()+ 100])\n",
    "\n",
    "rects = ax.patches\n",
    "\n",
    "ax.yaxis.set_ticks_position('none')\n",
    "\n",
    "for rect, label in zip(rects, y_val):\n",
    "    height = rect.get_height()\n",
    "    ax.text(rect.get_x() + rect.get_width() / 2, height + 5, label,\n",
    "            ha='center', va='bottom')\n",
    "plt.show()"
   ]
  },
  {
   "cell_type": "markdown",
   "metadata": {},
   "source": [
    "#### I.B. Analysis by Bucket"
   ]
  },
  {
   "cell_type": "code",
   "execution_count": 85,
   "metadata": {},
   "outputs": [],
   "source": [
    "data_1b_total = data_1b[['Damage Bucket', 'Docket Number','Total Damages']]\n",
    "data_1b_describe_total = data_1b_total.pivot(index = 'Docket Number', columns = 'Damage Bucket', values = 'Total Damages')\n",
    "data_1b_describe_total = data_1b_describe_total.describe()\n",
    "data_1b_describe_total = pd.concat([data_1b_describe_total, pd.DataFrame(np.sort(data_1b_total.pivot(index = 'Docket Number', columns = 'Damage Bucket', values = 'Total Damages').fillna(0), axis = 0)[-2:,:], columns = data_1a.sort_index().index, index = ['Largest', '2nd Largest'])])"
   ]
  },
  {
   "cell_type": "code",
   "execution_count": 86,
   "metadata": {},
   "outputs": [],
   "source": [
    "data_1b_bps = data_1b[['Damage Bucket', 'Docket Number','% of Total Damages']]\n",
    "data_1b_describe_bps = data_1b_bps.pivot(index = 'Docket Number', columns = 'Damage Bucket', values = '% of Total Damages')\n",
    "data_1b_describe_bps = data_1b_describe_bps.describe()\n",
    "data_1b_describe_bps = pd.concat([data_1b_describe_bps, pd.DataFrame(np.sort(data_1b_bps.pivot(index = 'Docket Number', columns = 'Damage Bucket', values = '% of Total Damages'), axis = 0)[-2:,:], columns = data_1a.sort_index().index, index = ['Largest', '2nd Largest'])])"
   ]
  },
  {
   "cell_type": "code",
   "execution_count": 87,
   "metadata": {},
   "outputs": [],
   "source": [
    "x_val = np.sort(data_1b['Damage Bucket'].unique())"
   ]
  },
  {
   "cell_type": "code",
   "execution_count": 90,
   "metadata": {
    "scrolled": true
   },
   "outputs": [
    {
     "data": {
      "text/plain": [
       "<Figure size 432x288 with 0 Axes>"
      ]
     },
     "metadata": {},
     "output_type": "display_data"
    },
    {
     "data": {
      "image/png": "[encoded data removed]",
      "text/plain": [
       "<Figure size 864x288 with 1 Axes>"
      ]
     },
     "metadata": {
      "needs_background": "light"
     },
     "output_type": "display_data"
    }
   ],
   "source": [
    "plt.clf()\n",
    "plt.figure(figsize=(12,4))\n",
    "plt.title(\"Total Damages Box Plot\", size = 20)\n",
    "ax = sns.boxplot(y = 'Total Damages', x = 'Damage Bucket', data = data_1b_total[~data_1b_total[\"Damage Bucket\"].isin([\"F\"])], order = x_val[:5], showfliers=False)\n",
    "ax.get_yaxis().set_major_formatter(FuncFormatter(lambda y, p: format(int(y), ',')))\n",
    "plt.show()"
   ]
  },
  {
   "cell_type": "code",
   "execution_count": 91,
   "metadata": {},
   "outputs": [
    {
     "data": {
      "text/plain": [
       "<Figure size 432x288 with 0 Axes>"
      ]
     },
     "metadata": {},
     "output_type": "display_data"
    },
    {
     "data": {
      "image/png": "[encoded data removed]",
      "text/plain": [
       "<Figure size 864x288 with 1 Axes>"
      ]
     },
     "metadata": {
      "needs_background": "light"
     },
     "output_type": "display_data"
    }
   ],
   "source": [
    "plt.clf()\n",
    "plt.figure(figsize=(12,4))\n",
    "plt.title(\"Total Damages Box Plot\", size = 20)\n",
    "ax = sns.boxplot(y = 'Total Damages', x = 'Damage Bucket', data = data_1b_total[data_1b_total[\"Damage Bucket\"].isin([\"F\"])], order = x_val[5:6], showfliers=False)\n",
    "ax.get_yaxis().set_major_formatter(FuncFormatter(lambda y, p: format(int(y), ',')))\n",
    "plt.show()"
   ]
  },
  {
   "cell_type": "code",
   "execution_count": 16,
   "metadata": {},
   "outputs": [
    {
     "name": "stdout",
     "output_type": "stream",
     "text": [
      "By Total Damage\n"
     ]
    },
    {
     "data": {
      "text/html": [
       "<div>\n",
       "<style scoped>\n",
       "    .dataframe tbody tr th:only-of-type {\n",
       "        vertical-align: middle;\n",
       "    }\n",
       "\n",
       "    .dataframe tbody tr th {\n",
       "        vertical-align: top;\n",
       "    }\n",
       "\n",
       "    .dataframe thead th {\n",
       "        text-align: right;\n",
       "    }\n",
       "</style>\n",
       "<table border=\"1\" class=\"dataframe\">\n",
       "  <thead>\n",
       "    <tr style=\"text-align: right;\">\n",
       "      <th>Damage Bucket</th>\n",
       "      <th>A</th>\n",
       "      <th>B</th>\n",
       "      <th>C</th>\n",
       "      <th>D</th>\n",
       "      <th>E</th>\n",
       "      <th>F</th>\n",
       "    </tr>\n",
       "  </thead>\n",
       "  <tbody>\n",
       "    <tr>\n",
       "      <th>count</th>\n",
       "      <td>110</td>\n",
       "      <td>82</td>\n",
       "      <td>77</td>\n",
       "      <td>92</td>\n",
       "      <td>61</td>\n",
       "      <td>144</td>\n",
       "    </tr>\n",
       "    <tr>\n",
       "      <th>mean</th>\n",
       "      <td>11848636</td>\n",
       "      <td>38815854</td>\n",
       "      <td>75870130</td>\n",
       "      <td>171467391</td>\n",
       "      <td>392967213</td>\n",
       "      <td>2385520833</td>\n",
       "    </tr>\n",
       "    <tr>\n",
       "      <th>std</th>\n",
       "      <td>7383037</td>\n",
       "      <td>6610158</td>\n",
       "      <td>14436203</td>\n",
       "      <td>42049539</td>\n",
       "      <td>76220506</td>\n",
       "      <td>4046534549</td>\n",
       "    </tr>\n",
       "    <tr>\n",
       "      <th>min</th>\n",
       "      <td>0</td>\n",
       "      <td>26000000</td>\n",
       "      <td>52000000</td>\n",
       "      <td>102000000</td>\n",
       "      <td>260000000</td>\n",
       "      <td>515000000</td>\n",
       "    </tr>\n",
       "    <tr>\n",
       "      <th>25%</th>\n",
       "      <td>5625000</td>\n",
       "      <td>35000000</td>\n",
       "      <td>65000000</td>\n",
       "      <td>135000000</td>\n",
       "      <td>325000000</td>\n",
       "      <td>747500000</td>\n",
       "    </tr>\n",
       "    <tr>\n",
       "      <th>50%</th>\n",
       "      <td>10000000</td>\n",
       "      <td>40000000</td>\n",
       "      <td>75000000</td>\n",
       "      <td>162500000</td>\n",
       "      <td>400000000</td>\n",
       "      <td>1000000000</td>\n",
       "    </tr>\n",
       "    <tr>\n",
       "      <th>75%</th>\n",
       "      <td>17750000</td>\n",
       "      <td>45000000</td>\n",
       "      <td>90000000</td>\n",
       "      <td>200000000</td>\n",
       "      <td>450000000</td>\n",
       "      <td>2000000000</td>\n",
       "    </tr>\n",
       "    <tr>\n",
       "      <th>max</th>\n",
       "      <td>25000000</td>\n",
       "      <td>50000000</td>\n",
       "      <td>100000000</td>\n",
       "      <td>250000000</td>\n",
       "      <td>500000000</td>\n",
       "      <td>25000000000</td>\n",
       "    </tr>\n",
       "    <tr>\n",
       "      <th>Largest</th>\n",
       "      <td>25000000</td>\n",
       "      <td>50000000</td>\n",
       "      <td>100000000</td>\n",
       "      <td>250000000</td>\n",
       "      <td>500000000</td>\n",
       "      <td>25000000000</td>\n",
       "    </tr>\n",
       "    <tr>\n",
       "      <th>2nd Largest</th>\n",
       "      <td>25000000</td>\n",
       "      <td>50000000</td>\n",
       "      <td>100000000</td>\n",
       "      <td>250000000</td>\n",
       "      <td>500000000</td>\n",
       "      <td>25000000000</td>\n",
       "    </tr>\n",
       "  </tbody>\n",
       "</table>\n",
       "</div>"
      ],
      "text/plain": [
       "Damage Bucket        A        B         C         D         E           F\n",
       "count              110       82        77        92        61         144\n",
       "mean          11848636 38815854  75870130 171467391 392967213  2385520833\n",
       "std            7383037  6610158  14436203  42049539  76220506  4046534549\n",
       "min                  0 26000000  52000000 102000000 260000000   515000000\n",
       "25%            5625000 35000000  65000000 135000000 325000000   747500000\n",
       "50%           10000000 40000000  75000000 162500000 400000000  1000000000\n",
       "75%           17750000 45000000  90000000 200000000 450000000  2000000000\n",
       "max           25000000 50000000 100000000 250000000 500000000 25000000000\n",
       "Largest       25000000 50000000 100000000 250000000 500000000 25000000000\n",
       "2nd Largest   25000000 50000000 100000000 250000000 500000000 25000000000"
      ]
     },
     "execution_count": 16,
     "metadata": {},
     "output_type": "execute_result"
    }
   ],
   "source": [
    "pd.options.display.float_format = '{:.0f}'.format\n",
    "print(\"By Total Damage\")\n",
    "data_1b_describe_total"
   ]
  },
  {
   "cell_type": "code",
   "execution_count": 17,
   "metadata": {},
   "outputs": [
    {
     "name": "stdout",
     "output_type": "stream",
     "text": [
      "Two Largest Damages\n"
     ]
    }
   ],
   "source": [
    "print(\"Two Largest Damages\")"
   ]
  },
  {
   "cell_type": "code",
   "execution_count": 18,
   "metadata": {},
   "outputs": [
    {
     "data": {
      "text/html": [
       "<div>\n",
       "<style scoped>\n",
       "    .dataframe tbody tr th:only-of-type {\n",
       "        vertical-align: middle;\n",
       "    }\n",
       "\n",
       "    .dataframe tbody tr th {\n",
       "        vertical-align: top;\n",
       "    }\n",
       "\n",
       "    .dataframe thead th {\n",
       "        text-align: right;\n",
       "    }\n",
       "</style>\n",
       "<table border=\"1\" class=\"dataframe\">\n",
       "  <thead>\n",
       "    <tr style=\"text-align: right;\">\n",
       "      <th></th>\n",
       "      <th>A</th>\n",
       "      <th>B</th>\n",
       "      <th>C</th>\n",
       "      <th>D</th>\n",
       "      <th>E</th>\n",
       "      <th>F</th>\n",
       "    </tr>\n",
       "  </thead>\n",
       "  <tbody>\n",
       "    <tr>\n",
       "      <th>Largest</th>\n",
       "      <td>25000000</td>\n",
       "      <td>50000000</td>\n",
       "      <td>100000000</td>\n",
       "      <td>250000000</td>\n",
       "      <td>500000000</td>\n",
       "      <td>25000000000</td>\n",
       "    </tr>\n",
       "    <tr>\n",
       "      <th>2nd Largest</th>\n",
       "      <td>25000000</td>\n",
       "      <td>50000000</td>\n",
       "      <td>100000000</td>\n",
       "      <td>250000000</td>\n",
       "      <td>500000000</td>\n",
       "      <td>25000000000</td>\n",
       "    </tr>\n",
       "  </tbody>\n",
       "</table>\n",
       "</div>"
      ],
      "text/plain": [
       "                   A        B         C         D         E           F\n",
       "Largest     25000000 50000000 100000000 250000000 500000000 25000000000\n",
       "2nd Largest 25000000 50000000 100000000 250000000 500000000 25000000000"
      ]
     },
     "execution_count": 18,
     "metadata": {},
     "output_type": "execute_result"
    }
   ],
   "source": [
    "pd.options.display.float_format = '{:.0f}'.format\n",
    "pd.DataFrame(np.sort(data_1b_total.pivot(index = 'Docket Number', columns = 'Damage Bucket', values = 'Total Damages').fillna(0), axis = 0)[-2:,:], columns = data_1a.sort_index().index, index = ['Largest', '2nd Largest'])"
   ]
  },
  {
   "cell_type": "code",
   "execution_count": 19,
   "metadata": {
    "scrolled": false
   },
   "outputs": [
    {
     "name": "stdout",
     "output_type": "stream",
     "text": [
      "By BPS\n"
     ]
    },
    {
     "data": {
      "text/html": [
       "<div>\n",
       "<style scoped>\n",
       "    .dataframe tbody tr th:only-of-type {\n",
       "        vertical-align: middle;\n",
       "    }\n",
       "\n",
       "    .dataframe tbody tr th {\n",
       "        vertical-align: top;\n",
       "    }\n",
       "\n",
       "    .dataframe thead th {\n",
       "        text-align: right;\n",
       "    }\n",
       "</style>\n",
       "<table border=\"1\" class=\"dataframe\">\n",
       "  <thead>\n",
       "    <tr style=\"text-align: right;\">\n",
       "      <th>Damage Bucket</th>\n",
       "      <th>A</th>\n",
       "      <th>B</th>\n",
       "      <th>C</th>\n",
       "      <th>D</th>\n",
       "      <th>E</th>\n",
       "      <th>F</th>\n",
       "    </tr>\n",
       "  </thead>\n",
       "  <tbody>\n",
       "    <tr>\n",
       "      <th>count</th>\n",
       "      <td>11,000.00%</td>\n",
       "      <td>8,200.00%</td>\n",
       "      <td>7,700.00%</td>\n",
       "      <td>9,200.00%</td>\n",
       "      <td>6,100.00%</td>\n",
       "      <td>14,400.00%</td>\n",
       "    </tr>\n",
       "    <tr>\n",
       "      <th>mean</th>\n",
       "      <td>2.82%</td>\n",
       "      <td>1.14%</td>\n",
       "      <td>0.34%</td>\n",
       "      <td>0.49%</td>\n",
       "      <td>0.30%</td>\n",
       "      <td>0.40%</td>\n",
       "    </tr>\n",
       "    <tr>\n",
       "      <th>std</th>\n",
       "      <td>5.56%</td>\n",
       "      <td>2.06%</td>\n",
       "      <td>0.85%</td>\n",
       "      <td>1.02%</td>\n",
       "      <td>0.60%</td>\n",
       "      <td>1.03%</td>\n",
       "    </tr>\n",
       "    <tr>\n",
       "      <th>min</th>\n",
       "      <td>0.00%</td>\n",
       "      <td>0.00%</td>\n",
       "      <td>0.00%</td>\n",
       "      <td>0.00%</td>\n",
       "      <td>0.00%</td>\n",
       "      <td>0.00%</td>\n",
       "    </tr>\n",
       "    <tr>\n",
       "      <th>25%</th>\n",
       "      <td>0.09%</td>\n",
       "      <td>0.05%</td>\n",
       "      <td>0.01%</td>\n",
       "      <td>0.04%</td>\n",
       "      <td>0.01%</td>\n",
       "      <td>0.00%</td>\n",
       "    </tr>\n",
       "    <tr>\n",
       "      <th>50%</th>\n",
       "      <td>0.70%</td>\n",
       "      <td>0.33%</td>\n",
       "      <td>0.09%</td>\n",
       "      <td>0.16%</td>\n",
       "      <td>0.06%</td>\n",
       "      <td>0.04%</td>\n",
       "    </tr>\n",
       "    <tr>\n",
       "      <th>75%</th>\n",
       "      <td>2.57%</td>\n",
       "      <td>1.42%</td>\n",
       "      <td>0.29%</td>\n",
       "      <td>0.40%</td>\n",
       "      <td>0.28%</td>\n",
       "      <td>0.23%</td>\n",
       "    </tr>\n",
       "    <tr>\n",
       "      <th>max</th>\n",
       "      <td>34.72%</td>\n",
       "      <td>13.61%</td>\n",
       "      <td>6.80%</td>\n",
       "      <td>6.43%</td>\n",
       "      <td>3.06%</td>\n",
       "      <td>7.29%</td>\n",
       "    </tr>\n",
       "    <tr>\n",
       "      <th>Largest</th>\n",
       "      <td>nan%</td>\n",
       "      <td>nan%</td>\n",
       "      <td>nan%</td>\n",
       "      <td>nan%</td>\n",
       "      <td>nan%</td>\n",
       "      <td>nan%</td>\n",
       "    </tr>\n",
       "    <tr>\n",
       "      <th>2nd Largest</th>\n",
       "      <td>nan%</td>\n",
       "      <td>nan%</td>\n",
       "      <td>nan%</td>\n",
       "      <td>nan%</td>\n",
       "      <td>nan%</td>\n",
       "      <td>nan%</td>\n",
       "    </tr>\n",
       "  </tbody>\n",
       "</table>\n",
       "</div>"
      ],
      "text/plain": [
       "Damage Bucket          A         B         C         D         E          F\n",
       "count         11,000.00% 8,200.00% 7,700.00% 9,200.00% 6,100.00% 14,400.00%\n",
       "mean               2.82%     1.14%     0.34%     0.49%     0.30%      0.40%\n",
       "std                5.56%     2.06%     0.85%     1.02%     0.60%      1.03%\n",
       "min                0.00%     0.00%     0.00%     0.00%     0.00%      0.00%\n",
       "25%                0.09%     0.05%     0.01%     0.04%     0.01%      0.00%\n",
       "50%                0.70%     0.33%     0.09%     0.16%     0.06%      0.04%\n",
       "75%                2.57%     1.42%     0.29%     0.40%     0.28%      0.23%\n",
       "max               34.72%    13.61%     6.80%     6.43%     3.06%      7.29%\n",
       "Largest             nan%      nan%      nan%      nan%      nan%       nan%\n",
       "2nd Largest         nan%      nan%      nan%      nan%      nan%       nan%"
      ]
     },
     "execution_count": 19,
     "metadata": {},
     "output_type": "execute_result"
    }
   ],
   "source": [
    "pd.options.display.float_format = '{:,.2%}'.format\n",
    "print(\"By BPS\")\n",
    "data_1b_describe_bps"
   ]
  },
  {
   "cell_type": "markdown",
   "metadata": {},
   "source": [
    "#### I.C. Win-Loss Analysis"
   ]
  },
  {
   "cell_type": "code",
   "execution_count": 20,
   "metadata": {},
   "outputs": [
    {
     "name": "stdout",
     "output_type": "stream",
     "text": [
      "TBD\n"
     ]
    }
   ],
   "source": [
    "print(\"TBD\")"
   ]
  },
  {
   "cell_type": "markdown",
   "metadata": {},
   "source": [
    "### II. ANALYSIS BY TYPE OF MOVANT"
   ]
  },
  {
   "cell_type": "markdown",
   "metadata": {},
   "source": [
    "#### II. A. Number of Movants by Bucket"
   ]
  },
  {
   "cell_type": "code",
   "execution_count": 21,
   "metadata": {},
   "outputs": [],
   "source": [
    "data_2a = main[\"Damage Bucket\"].value_counts()"
   ]
  },
  {
   "cell_type": "code",
   "execution_count": 22,
   "metadata": {},
   "outputs": [],
   "source": [
    "y_val = data_2a.sort_index()\n",
    "x_val = data_2a.sort_index().index"
   ]
  },
  {
   "cell_type": "code",
   "execution_count": 23,
   "metadata": {},
   "outputs": [
    {
     "data": {
      "text/plain": [
       "<Figure size 432x288 with 0 Axes>"
      ]
     },
     "metadata": {},
     "output_type": "display_data"
    },
    {
     "data": {
      "image/png": "[encoded data removed]",
      "text/plain": [
       "<Figure size 864x288 with 1 Axes>"
      ]
     },
     "metadata": {
      "needs_background": "light"
     },
     "output_type": "display_data"
    }
   ],
   "source": [
    "plt.clf()\n",
    "fig, ax = plt.subplots(figsize=(12,4))\n",
    "width = 0.75\n",
    "ind = np.arange(len((y_val)))\n",
    "plt.title('Number of Movants by Bucket')\n",
    "plt.yticks([], [])\n",
    "ax.bar(x_val, y_val, width, color = \"blue\")\n",
    "\n",
    "rects = ax.patches\n",
    "\n",
    "ax.yaxis.set_ticks_position('none')\n",
    "\n",
    "for rect, label in zip(rects, y_val):\n",
    "    height = rect.get_height()\n",
    "    ax.text(rect.get_x() + rect.get_width() / 2, height + 5, label,\n",
    "            ha='center', va='bottom')\n",
    "plt.show()"
   ]
  },
  {
   "cell_type": "markdown",
   "metadata": {},
   "source": [
    "#### II.B. Number of Movants by Case"
   ]
  },
  {
   "cell_type": "code",
   "execution_count": 24,
   "metadata": {},
   "outputs": [],
   "source": [
    "data_2b = main.groupby(\"Ticker\")[\"Movant ID\"].count().reset_index()\n",
    "data_2b_describe = data_2b.describe()"
   ]
  },
  {
   "cell_type": "code",
   "execution_count": 25,
   "metadata": {},
   "outputs": [
    {
     "data": {
      "text/html": [
       "<div>\n",
       "<style scoped>\n",
       "    .dataframe tbody tr th:only-of-type {\n",
       "        vertical-align: middle;\n",
       "    }\n",
       "\n",
       "    .dataframe tbody tr th {\n",
       "        vertical-align: top;\n",
       "    }\n",
       "\n",
       "    .dataframe thead th {\n",
       "        text-align: right;\n",
       "    }\n",
       "</style>\n",
       "<table border=\"1\" class=\"dataframe\">\n",
       "  <thead>\n",
       "    <tr style=\"text-align: right;\">\n",
       "      <th></th>\n",
       "      <th>Movant ID</th>\n",
       "    </tr>\n",
       "  </thead>\n",
       "  <tbody>\n",
       "    <tr>\n",
       "      <th>count</th>\n",
       "      <td>549.00</td>\n",
       "    </tr>\n",
       "    <tr>\n",
       "      <th>mean</th>\n",
       "      <td>5.22</td>\n",
       "    </tr>\n",
       "    <tr>\n",
       "      <th>std</th>\n",
       "      <td>4.03</td>\n",
       "    </tr>\n",
       "    <tr>\n",
       "      <th>min</th>\n",
       "      <td>1.00</td>\n",
       "    </tr>\n",
       "    <tr>\n",
       "      <th>25%</th>\n",
       "      <td>2.00</td>\n",
       "    </tr>\n",
       "    <tr>\n",
       "      <th>50%</th>\n",
       "      <td>4.00</td>\n",
       "    </tr>\n",
       "    <tr>\n",
       "      <th>75%</th>\n",
       "      <td>7.00</td>\n",
       "    </tr>\n",
       "    <tr>\n",
       "      <th>max</th>\n",
       "      <td>26.00</td>\n",
       "    </tr>\n",
       "  </tbody>\n",
       "</table>\n",
       "</div>"
      ],
      "text/plain": [
       "       Movant ID\n",
       "count     549.00\n",
       "mean        5.22\n",
       "std         4.03\n",
       "min         1.00\n",
       "25%         2.00\n",
       "50%         4.00\n",
       "75%         7.00\n",
       "max        26.00"
      ]
     },
     "execution_count": 25,
     "metadata": {},
     "output_type": "execute_result"
    }
   ],
   "source": [
    "pd.options.display.float_format = '{:.2f}'.format\n",
    "data_2b_describe"
   ]
  },
  {
   "cell_type": "markdown",
   "metadata": {},
   "source": [
    "#### II.C. Movant By Type By Bucket"
   ]
  },
  {
   "cell_type": "code",
   "execution_count": 26,
   "metadata": {},
   "outputs": [],
   "source": [
    "data_2c = main[[\"Damage Bucket\", \"Type (Ind, Ins, G-Ind, G-Ins, G-Mix)\", \"Movant ID\"]]"
   ]
  },
  {
   "cell_type": "code",
   "execution_count": 27,
   "metadata": {},
   "outputs": [],
   "source": [
    "data_2c_grouped = data_2c.groupby([\"Damage Bucket\", \"Type (Ind, Ins, G-Ind, G-Ins, G-Mix)\"])[\"Movant ID\"].count().reset_index()"
   ]
  },
  {
   "cell_type": "code",
   "execution_count": 28,
   "metadata": {},
   "outputs": [
    {
     "data": {
      "text/html": [
       "<div>\n",
       "<style scoped>\n",
       "    .dataframe tbody tr th:only-of-type {\n",
       "        vertical-align: middle;\n",
       "    }\n",
       "\n",
       "    .dataframe tbody tr th {\n",
       "        vertical-align: top;\n",
       "    }\n",
       "\n",
       "    .dataframe thead th {\n",
       "        text-align: right;\n",
       "    }\n",
       "</style>\n",
       "<table border=\"1\" class=\"dataframe\">\n",
       "  <thead>\n",
       "    <tr style=\"text-align: right;\">\n",
       "      <th></th>\n",
       "      <th>Damage Bucket</th>\n",
       "      <th>Type (Ind, Ins, G-Ind, G-Ins, G-Mix)</th>\n",
       "      <th>Movant ID</th>\n",
       "    </tr>\n",
       "  </thead>\n",
       "  <tbody>\n",
       "    <tr>\n",
       "      <th>0</th>\n",
       "      <td>A</td>\n",
       "      <td>G-Ind</td>\n",
       "      <td>244</td>\n",
       "    </tr>\n",
       "    <tr>\n",
       "      <th>1</th>\n",
       "      <td>A</td>\n",
       "      <td>G-Ins</td>\n",
       "      <td>8</td>\n",
       "    </tr>\n",
       "    <tr>\n",
       "      <th>2</th>\n",
       "      <td>A</td>\n",
       "      <td>G-Mix</td>\n",
       "      <td>14</td>\n",
       "    </tr>\n",
       "    <tr>\n",
       "      <th>3</th>\n",
       "      <td>A</td>\n",
       "      <td>Ind</td>\n",
       "      <td>153</td>\n",
       "    </tr>\n",
       "    <tr>\n",
       "      <th>4</th>\n",
       "      <td>A</td>\n",
       "      <td>Ins</td>\n",
       "      <td>18</td>\n",
       "    </tr>\n",
       "    <tr>\n",
       "      <th>5</th>\n",
       "      <td>B</td>\n",
       "      <td>G-Ind</td>\n",
       "      <td>238</td>\n",
       "    </tr>\n",
       "    <tr>\n",
       "      <th>6</th>\n",
       "      <td>B</td>\n",
       "      <td>G-Ins</td>\n",
       "      <td>5</td>\n",
       "    </tr>\n",
       "    <tr>\n",
       "      <th>7</th>\n",
       "      <td>B</td>\n",
       "      <td>G-Mix</td>\n",
       "      <td>19</td>\n",
       "    </tr>\n",
       "    <tr>\n",
       "      <th>8</th>\n",
       "      <td>B</td>\n",
       "      <td>Ind</td>\n",
       "      <td>121</td>\n",
       "    </tr>\n",
       "    <tr>\n",
       "      <th>9</th>\n",
       "      <td>B</td>\n",
       "      <td>Ins</td>\n",
       "      <td>20</td>\n",
       "    </tr>\n",
       "    <tr>\n",
       "      <th>10</th>\n",
       "      <td>C</td>\n",
       "      <td>G-Ind</td>\n",
       "      <td>139</td>\n",
       "    </tr>\n",
       "    <tr>\n",
       "      <th>11</th>\n",
       "      <td>C</td>\n",
       "      <td>G-Ins</td>\n",
       "      <td>7</td>\n",
       "    </tr>\n",
       "    <tr>\n",
       "      <th>12</th>\n",
       "      <td>C</td>\n",
       "      <td>G-Mix</td>\n",
       "      <td>14</td>\n",
       "    </tr>\n",
       "    <tr>\n",
       "      <th>13</th>\n",
       "      <td>C</td>\n",
       "      <td>Ind</td>\n",
       "      <td>111</td>\n",
       "    </tr>\n",
       "    <tr>\n",
       "      <th>14</th>\n",
       "      <td>C</td>\n",
       "      <td>Ins</td>\n",
       "      <td>27</td>\n",
       "    </tr>\n",
       "    <tr>\n",
       "      <th>15</th>\n",
       "      <td>D</td>\n",
       "      <td>G-Ind</td>\n",
       "      <td>212</td>\n",
       "    </tr>\n",
       "    <tr>\n",
       "      <th>16</th>\n",
       "      <td>D</td>\n",
       "      <td>G-Ins</td>\n",
       "      <td>36</td>\n",
       "    </tr>\n",
       "    <tr>\n",
       "      <th>17</th>\n",
       "      <td>D</td>\n",
       "      <td>G-Mix</td>\n",
       "      <td>28</td>\n",
       "    </tr>\n",
       "    <tr>\n",
       "      <th>18</th>\n",
       "      <td>D</td>\n",
       "      <td>Ind</td>\n",
       "      <td>117</td>\n",
       "    </tr>\n",
       "    <tr>\n",
       "      <th>19</th>\n",
       "      <td>D</td>\n",
       "      <td>Ins</td>\n",
       "      <td>74</td>\n",
       "    </tr>\n",
       "    <tr>\n",
       "      <th>20</th>\n",
       "      <td>E</td>\n",
       "      <td>G-Ind</td>\n",
       "      <td>121</td>\n",
       "    </tr>\n",
       "    <tr>\n",
       "      <th>21</th>\n",
       "      <td>E</td>\n",
       "      <td>G-Ins</td>\n",
       "      <td>53</td>\n",
       "    </tr>\n",
       "    <tr>\n",
       "      <th>22</th>\n",
       "      <td>E</td>\n",
       "      <td>G-Mix</td>\n",
       "      <td>20</td>\n",
       "    </tr>\n",
       "    <tr>\n",
       "      <th>23</th>\n",
       "      <td>E</td>\n",
       "      <td>Ind</td>\n",
       "      <td>101</td>\n",
       "    </tr>\n",
       "    <tr>\n",
       "      <th>24</th>\n",
       "      <td>E</td>\n",
       "      <td>Ins</td>\n",
       "      <td>55</td>\n",
       "    </tr>\n",
       "    <tr>\n",
       "      <th>25</th>\n",
       "      <td>F</td>\n",
       "      <td>G-Ind</td>\n",
       "      <td>187</td>\n",
       "    </tr>\n",
       "    <tr>\n",
       "      <th>26</th>\n",
       "      <td>F</td>\n",
       "      <td>G-Ins</td>\n",
       "      <td>123</td>\n",
       "    </tr>\n",
       "    <tr>\n",
       "      <th>27</th>\n",
       "      <td>F</td>\n",
       "      <td>G-Mix</td>\n",
       "      <td>66</td>\n",
       "    </tr>\n",
       "    <tr>\n",
       "      <th>28</th>\n",
       "      <td>F</td>\n",
       "      <td>Ind</td>\n",
       "      <td>188</td>\n",
       "    </tr>\n",
       "    <tr>\n",
       "      <th>29</th>\n",
       "      <td>F</td>\n",
       "      <td>Ins</td>\n",
       "      <td>214</td>\n",
       "    </tr>\n",
       "  </tbody>\n",
       "</table>\n",
       "</div>"
      ],
      "text/plain": [
       "   Damage Bucket Type (Ind, Ins, G-Ind, G-Ins, G-Mix)  Movant ID\n",
       "0              A                                G-Ind        244\n",
       "1              A                                G-Ins          8\n",
       "2              A                                G-Mix         14\n",
       "3              A                                  Ind        153\n",
       "4              A                                  Ins         18\n",
       "5              B                                G-Ind        238\n",
       "6              B                                G-Ins          5\n",
       "7              B                                G-Mix         19\n",
       "8              B                                  Ind        121\n",
       "9              B                                  Ins         20\n",
       "10             C                                G-Ind        139\n",
       "11             C                                G-Ins          7\n",
       "12             C                                G-Mix         14\n",
       "13             C                                  Ind        111\n",
       "14             C                                  Ins         27\n",
       "15             D                                G-Ind        212\n",
       "16             D                                G-Ins         36\n",
       "17             D                                G-Mix         28\n",
       "18             D                                  Ind        117\n",
       "19             D                                  Ins         74\n",
       "20             E                                G-Ind        121\n",
       "21             E                                G-Ins         53\n",
       "22             E                                G-Mix         20\n",
       "23             E                                  Ind        101\n",
       "24             E                                  Ins         55\n",
       "25             F                                G-Ind        187\n",
       "26             F                                G-Ins        123\n",
       "27             F                                G-Mix         66\n",
       "28             F                                  Ind        188\n",
       "29             F                                  Ins        214"
      ]
     },
     "execution_count": 28,
     "metadata": {},
     "output_type": "execute_result"
    }
   ],
   "source": [
    "data_2c_grouped"
   ]
  },
  {
   "cell_type": "markdown",
   "metadata": {},
   "source": [
    "#### II.D. For Groups"
   ]
  },
  {
   "cell_type": "code",
   "execution_count": 29,
   "metadata": {},
   "outputs": [],
   "source": [
    "data_2d = main[[\"Movant Group\", \"Type (Ind, Ins, G-Ind, G-Ins, G-Mix)\", \"Movant Loss\", \"# of Movant Groups\"]]\n",
    "data_2d_groupcount = data_2d.groupby(\"Type (Ind, Ins, G-Ind, G-Ins, G-Mix)\")[\"# of Movant Groups\"].mean()\n",
    "data_2d_groupcount = data_2d_groupcount.append(pd.Series(main[\"# of Movant Groups\"].mean(), index = [\"Total\"]))\n",
    "data_2d_loss = data_2d.groupby(\"Type (Ind, Ins, G-Ind, G-Ins, G-Mix)\")[\"Movant Loss\"].mean()\n",
    "data_2d_loss = data_2d_loss.append(pd.Series(main[\"Movant Loss\"].mean(), index = [\"Total\"]))"
   ]
  },
  {
   "cell_type": "code",
   "execution_count": 30,
   "metadata": {},
   "outputs": [],
   "source": [
    "data_2d = pd.concat([data_2d_groupcount, data_2d_loss], axis = 1)\n",
    "data_2d.columns = [\"Avg # of Groups\", \"Avg Losses\"]"
   ]
  },
  {
   "cell_type": "code",
   "execution_count": 31,
   "metadata": {},
   "outputs": [
    {
     "data": {
      "text/html": [
       "<div>\n",
       "<style scoped>\n",
       "    .dataframe tbody tr th:only-of-type {\n",
       "        vertical-align: middle;\n",
       "    }\n",
       "\n",
       "    .dataframe tbody tr th {\n",
       "        vertical-align: top;\n",
       "    }\n",
       "\n",
       "    .dataframe thead th {\n",
       "        text-align: right;\n",
       "    }\n",
       "</style>\n",
       "<table border=\"1\" class=\"dataframe\">\n",
       "  <thead>\n",
       "    <tr style=\"text-align: right;\">\n",
       "      <th></th>\n",
       "      <th>Avg # of Groups</th>\n",
       "      <th>Avg Losses</th>\n",
       "    </tr>\n",
       "  </thead>\n",
       "  <tbody>\n",
       "    <tr>\n",
       "      <th>G-Ind</th>\n",
       "      <td>2.95</td>\n",
       "      <td>124115.89</td>\n",
       "    </tr>\n",
       "    <tr>\n",
       "      <th>G-Ins</th>\n",
       "      <td>3.69</td>\n",
       "      <td>1940241.80</td>\n",
       "    </tr>\n",
       "    <tr>\n",
       "      <th>G-Mix</th>\n",
       "      <td>3.92</td>\n",
       "      <td>825217.99</td>\n",
       "    </tr>\n",
       "    <tr>\n",
       "      <th>Ind</th>\n",
       "      <td>3.01</td>\n",
       "      <td>282381.10</td>\n",
       "    </tr>\n",
       "    <tr>\n",
       "      <th>Ins</th>\n",
       "      <td>3.16</td>\n",
       "      <td>2354680.71</td>\n",
       "    </tr>\n",
       "    <tr>\n",
       "      <th>Total</th>\n",
       "      <td>3.11</td>\n",
       "      <td>685731.86</td>\n",
       "    </tr>\n",
       "  </tbody>\n",
       "</table>\n",
       "</div>"
      ],
      "text/plain": [
       "       Avg # of Groups  Avg Losses\n",
       "G-Ind             2.95   124115.89\n",
       "G-Ins             3.69  1940241.80\n",
       "G-Mix             3.92   825217.99\n",
       "Ind               3.01   282381.10\n",
       "Ins               3.16  2354680.71\n",
       "Total             3.11   685731.86"
      ]
     },
     "execution_count": 31,
     "metadata": {},
     "output_type": "execute_result"
    }
   ],
   "source": [
    "data_2d"
   ]
  },
  {
   "cell_type": "markdown",
   "metadata": {},
   "source": [
    "#### II.D. For Unopposed Lead Plaintiff Motions"
   ]
  },
  {
   "cell_type": "code",
   "execution_count": 32,
   "metadata": {},
   "outputs": [
    {
     "name": "stdout",
     "output_type": "stream",
     "text": [
      "TBD\n"
     ]
    }
   ],
   "source": [
    "print(\"TBD\")"
   ]
  },
  {
   "cell_type": "markdown",
   "metadata": {},
   "source": [
    "#### II.E. Gun to Knife Fight Analysis"
   ]
  },
  {
   "cell_type": "code",
   "execution_count": 33,
   "metadata": {},
   "outputs": [],
   "source": [
    "data_2e = main[[\"Small Case\", \"Type\", \"Ticker\"]]"
   ]
  },
  {
   "cell_type": "code",
   "execution_count": 34,
   "metadata": {},
   "outputs": [],
   "source": [
    "data_2e_institution_involved = data_2e[data_2e[\"Type\"]==\"Institution\"][\"Ticker\"]"
   ]
  },
  {
   "cell_type": "code",
   "execution_count": 35,
   "metadata": {},
   "outputs": [],
   "source": [
    "data_2e = data_2e.assign(Inst_Involved = 0)\n",
    "data_2e.loc[data_2e[\"Ticker\"].isin(data_2e_institution_involved), \"Inst_Involved\"] = 1"
   ]
  },
  {
   "cell_type": "code",
   "execution_count": 36,
   "metadata": {},
   "outputs": [],
   "source": [
    "data2e_counts = data_2e.groupby([\"Small Case\", \"Inst_Involved\"])[\"Ticker\"].count().reset_index()"
   ]
  },
  {
   "cell_type": "code",
   "execution_count": 37,
   "metadata": {},
   "outputs": [
    {
     "data": {
      "text/html": [
       "<div>\n",
       "<style scoped>\n",
       "    .dataframe tbody tr th:only-of-type {\n",
       "        vertical-align: middle;\n",
       "    }\n",
       "\n",
       "    .dataframe tbody tr th {\n",
       "        vertical-align: top;\n",
       "    }\n",
       "\n",
       "    .dataframe thead th {\n",
       "        text-align: right;\n",
       "    }\n",
       "</style>\n",
       "<table border=\"1\" class=\"dataframe\">\n",
       "  <thead>\n",
       "    <tr style=\"text-align: right;\">\n",
       "      <th></th>\n",
       "      <th>Small Case</th>\n",
       "      <th>Inst_Involved</th>\n",
       "      <th>Ticker</th>\n",
       "    </tr>\n",
       "  </thead>\n",
       "  <tbody>\n",
       "    <tr>\n",
       "      <th>0</th>\n",
       "      <td>0</td>\n",
       "      <td>0</td>\n",
       "      <td>555</td>\n",
       "    </tr>\n",
       "    <tr>\n",
       "      <th>1</th>\n",
       "      <td>0</td>\n",
       "      <td>1</td>\n",
       "      <td>1470</td>\n",
       "    </tr>\n",
       "    <tr>\n",
       "      <th>2</th>\n",
       "      <td>1</td>\n",
       "      <td>0</td>\n",
       "      <td>597</td>\n",
       "    </tr>\n",
       "    <tr>\n",
       "      <th>3</th>\n",
       "      <td>1</td>\n",
       "      <td>1</td>\n",
       "      <td>243</td>\n",
       "    </tr>\n",
       "  </tbody>\n",
       "</table>\n",
       "</div>"
      ],
      "text/plain": [
       "   Small Case  Inst_Involved  Ticker\n",
       "0           0              0     555\n",
       "1           0              1    1470\n",
       "2           1              0     597\n",
       "3           1              1     243"
      ]
     },
     "execution_count": 37,
     "metadata": {},
     "output_type": "execute_result"
    }
   ],
   "source": [
    "data2e_counts"
   ]
  },
  {
   "cell_type": "code",
   "execution_count": 38,
   "metadata": {},
   "outputs": [
    {
     "name": "stdout",
     "output_type": "stream",
     "text": [
      "Win Analysis: TBD\n"
     ]
    }
   ],
   "source": [
    "print(\"Win Analysis: TBD\")"
   ]
  },
  {
   "cell_type": "markdown",
   "metadata": {},
   "source": [
    "### III. ANALYSIS BY INSTITUTIONAL MOVEMENT TYPE"
   ]
  },
  {
   "cell_type": "markdown",
   "metadata": {},
   "source": [
    "#### III. A. Institutional Movants by Bucket"
   ]
  },
  {
   "cell_type": "code",
   "execution_count": 64,
   "metadata": {},
   "outputs": [],
   "source": [
    "data_3 = main[main[\"Type\"]== \"Institution\"]"
   ]
  },
  {
   "cell_type": "code",
   "execution_count": 65,
   "metadata": {},
   "outputs": [],
   "source": [
    "data_3a = data_3.groupby('Damage Bucket')['Institutional Movant'].count()"
   ]
  },
  {
   "cell_type": "code",
   "execution_count": 66,
   "metadata": {},
   "outputs": [],
   "source": [
    "y_val = data_3a.sort_index()\n",
    "x_val = data_3a.sort_index().index"
   ]
  },
  {
   "cell_type": "code",
   "execution_count": 67,
   "metadata": {},
   "outputs": [
    {
     "data": {
      "text/plain": [
       "<Figure size 432x288 with 0 Axes>"
      ]
     },
     "metadata": {},
     "output_type": "display_data"
    },
    {
     "data": {
      "image/png": "[encoded data removed]",
      "text/plain": [
       "<Figure size 864x288 with 1 Axes>"
      ]
     },
     "metadata": {
      "needs_background": "light"
     },
     "output_type": "display_data"
    }
   ],
   "source": [
    "plt.clf()\n",
    "fig, ax = plt.subplots(figsize=(12,4))\n",
    "width = 0.75\n",
    "ind = np.arange(len((y_val)))\n",
    "plt.title('Number of Institutional Movants by Bucket')\n",
    "plt.yticks([], [])\n",
    "ax.bar(x_val, y_val, width, color = \"blue\")\n",
    "\n",
    "rects = ax.patches\n",
    "\n",
    "ax.yaxis.set_ticks_position('none')\n",
    "\n",
    "for rect, label in zip(rects, y_val):\n",
    "    height = rect.get_height()\n",
    "    ax.text(rect.get_x() + rect.get_width() / 2, height + 5, label,\n",
    "            ha='center', va='bottom')\n",
    "plt.show()"
   ]
  },
  {
   "cell_type": "markdown",
   "metadata": {},
   "source": [
    "#### III.B Average Loss By Institutional Movant by Bucket\n",
    "#### Note: Does not include institutional movants without losses (N/A)"
   ]
  },
  {
   "cell_type": "code",
   "execution_count": 70,
   "metadata": {},
   "outputs": [],
   "source": [
    "data_3b = data_3[['Damage Bucket',  \"Type\", 'Movant Loss']].dropna()\n",
    "data_3b_describe = data_3b.pivot(columns = 'Damage Bucket', values = 'Movant Loss')\n",
    "data_3b_describe = data_3b_describe.describe()"
   ]
  },
  {
   "cell_type": "code",
   "execution_count": 71,
   "metadata": {
    "scrolled": true
   },
   "outputs": [
    {
     "data": {
      "text/html": [
       "<div>\n",
       "<style scoped>\n",
       "    .dataframe tbody tr th:only-of-type {\n",
       "        vertical-align: middle;\n",
       "    }\n",
       "\n",
       "    .dataframe tbody tr th {\n",
       "        vertical-align: top;\n",
       "    }\n",
       "\n",
       "    .dataframe thead th {\n",
       "        text-align: right;\n",
       "    }\n",
       "</style>\n",
       "<table border=\"1\" class=\"dataframe\">\n",
       "  <thead>\n",
       "    <tr style=\"text-align: right;\">\n",
       "      <th>Damage Bucket</th>\n",
       "      <th>A</th>\n",
       "      <th>B</th>\n",
       "      <th>C</th>\n",
       "      <th>D</th>\n",
       "      <th>E</th>\n",
       "      <th>F</th>\n",
       "    </tr>\n",
       "  </thead>\n",
       "  <tbody>\n",
       "    <tr>\n",
       "      <th>count</th>\n",
       "      <td>32</td>\n",
       "      <td>34</td>\n",
       "      <td>42</td>\n",
       "      <td>117</td>\n",
       "      <td>117</td>\n",
       "      <td>351</td>\n",
       "    </tr>\n",
       "    <tr>\n",
       "      <th>mean</th>\n",
       "      <td>466336</td>\n",
       "      <td>410495</td>\n",
       "      <td>442968</td>\n",
       "      <td>695454</td>\n",
       "      <td>1153065</td>\n",
       "      <td>3465671</td>\n",
       "    </tr>\n",
       "    <tr>\n",
       "      <th>std</th>\n",
       "      <td>1365148</td>\n",
       "      <td>557007</td>\n",
       "      <td>898744</td>\n",
       "      <td>1517956</td>\n",
       "      <td>2921750</td>\n",
       "      <td>7572463</td>\n",
       "    </tr>\n",
       "    <tr>\n",
       "      <th>min</th>\n",
       "      <td>875</td>\n",
       "      <td>5401</td>\n",
       "      <td>1559</td>\n",
       "      <td>112</td>\n",
       "      <td>1609</td>\n",
       "      <td>2700</td>\n",
       "    </tr>\n",
       "    <tr>\n",
       "      <th>25%</th>\n",
       "      <td>50178</td>\n",
       "      <td>84905</td>\n",
       "      <td>52432</td>\n",
       "      <td>107970</td>\n",
       "      <td>123654</td>\n",
       "      <td>275101</td>\n",
       "    </tr>\n",
       "    <tr>\n",
       "      <th>50%</th>\n",
       "      <td>136731</td>\n",
       "      <td>146034</td>\n",
       "      <td>152792</td>\n",
       "      <td>248948</td>\n",
       "      <td>303220</td>\n",
       "      <td>795783</td>\n",
       "    </tr>\n",
       "    <tr>\n",
       "      <th>75%</th>\n",
       "      <td>281768</td>\n",
       "      <td>669567</td>\n",
       "      <td>391554</td>\n",
       "      <td>601702</td>\n",
       "      <td>990919</td>\n",
       "      <td>2485592</td>\n",
       "    </tr>\n",
       "    <tr>\n",
       "      <th>max</th>\n",
       "      <td>7793640</td>\n",
       "      <td>2479670</td>\n",
       "      <td>4725022</td>\n",
       "      <td>11577603</td>\n",
       "      <td>23517243</td>\n",
       "      <td>64910560</td>\n",
       "    </tr>\n",
       "  </tbody>\n",
       "</table>\n",
       "</div>"
      ],
      "text/plain": [
       "Damage Bucket       A       B       C        D        E        F\n",
       "count              32      34      42      117      117      351\n",
       "mean           466336  410495  442968   695454  1153065  3465671\n",
       "std           1365148  557007  898744  1517956  2921750  7572463\n",
       "min               875    5401    1559      112     1609     2700\n",
       "25%             50178   84905   52432   107970   123654   275101\n",
       "50%            136731  146034  152792   248948   303220   795783\n",
       "75%            281768  669567  391554   601702   990919  2485592\n",
       "max           7793640 2479670 4725022 11577603 23517243 64910560"
      ]
     },
     "execution_count": 71,
     "metadata": {},
     "output_type": "execute_result"
    }
   ],
   "source": [
    "pd.options.display.float_format = '{:.0f}'.format\n",
    "data_3b_describe"
   ]
  },
  {
   "cell_type": "markdown",
   "metadata": {},
   "source": [
    "#### III.C. Average Loss By Winning Institutional Movant by Bucket\n",
    "#### Note: Does not include institutional movants without losses (N/A)"
   ]
  },
  {
   "cell_type": "code",
   "execution_count": 72,
   "metadata": {},
   "outputs": [
    {
     "name": "stdout",
     "output_type": "stream",
     "text": [
      "TBD\n"
     ]
    }
   ],
   "source": [
    "print(\"TBD\")"
   ]
  },
  {
   "cell_type": "markdown",
   "metadata": {},
   "source": [
    "#### III.D. Average AUM of Institutional Movant by Bucket\n",
    "##### Note: Count Includes Only Institutional Movants with AUMs (no N/As)"
   ]
  },
  {
   "cell_type": "code",
   "execution_count": 73,
   "metadata": {},
   "outputs": [],
   "source": [
    "data_3d = main[['Damage Bucket',  \"Institutional Movant\", \"AUM\"]].dropna()\n",
    "data_3d_describe = data_3d.pivot(columns = 'Damage Bucket', values = 'AUM')\n",
    "data_3d_describe = data_3d_describe.describe()"
   ]
  },
  {
   "cell_type": "code",
   "execution_count": 74,
   "metadata": {
    "scrolled": false
   },
   "outputs": [
    {
     "data": {
      "text/html": [
       "<div>\n",
       "<style scoped>\n",
       "    .dataframe tbody tr th:only-of-type {\n",
       "        vertical-align: middle;\n",
       "    }\n",
       "\n",
       "    .dataframe tbody tr th {\n",
       "        vertical-align: top;\n",
       "    }\n",
       "\n",
       "    .dataframe thead th {\n",
       "        text-align: right;\n",
       "    }\n",
       "</style>\n",
       "<table border=\"1\" class=\"dataframe\">\n",
       "  <thead>\n",
       "    <tr style=\"text-align: right;\">\n",
       "      <th>Damage Bucket</th>\n",
       "      <th>A</th>\n",
       "      <th>B</th>\n",
       "      <th>C</th>\n",
       "      <th>D</th>\n",
       "      <th>E</th>\n",
       "      <th>F</th>\n",
       "    </tr>\n",
       "  </thead>\n",
       "  <tbody>\n",
       "    <tr>\n",
       "      <th>count</th>\n",
       "      <td>16</td>\n",
       "      <td>19</td>\n",
       "      <td>26</td>\n",
       "      <td>97</td>\n",
       "      <td>101</td>\n",
       "      <td>303</td>\n",
       "    </tr>\n",
       "    <tr>\n",
       "      <th>mean</th>\n",
       "      <td>2088157686</td>\n",
       "      <td>3788363971</td>\n",
       "      <td>11190254133</td>\n",
       "      <td>4100593480</td>\n",
       "      <td>12423699794</td>\n",
       "      <td>37333336611</td>\n",
       "    </tr>\n",
       "    <tr>\n",
       "      <th>std</th>\n",
       "      <td>4039244434</td>\n",
       "      <td>7160045909</td>\n",
       "      <td>47327837378</td>\n",
       "      <td>14431406900</td>\n",
       "      <td>38554857229</td>\n",
       "      <td>123323704393</td>\n",
       "    </tr>\n",
       "    <tr>\n",
       "      <th>min</th>\n",
       "      <td>801120</td>\n",
       "      <td>12000000</td>\n",
       "      <td>517000</td>\n",
       "      <td>23351741</td>\n",
       "      <td>517000</td>\n",
       "      <td>517000</td>\n",
       "    </tr>\n",
       "    <tr>\n",
       "      <th>25%</th>\n",
       "      <td>20875000</td>\n",
       "      <td>381315000</td>\n",
       "      <td>107233000</td>\n",
       "      <td>365560000</td>\n",
       "      <td>302890000</td>\n",
       "      <td>470168750</td>\n",
       "    </tr>\n",
       "    <tr>\n",
       "      <th>50%</th>\n",
       "      <td>259562406</td>\n",
       "      <td>762562834</td>\n",
       "      <td>504367917</td>\n",
       "      <td>884718824</td>\n",
       "      <td>1013288083</td>\n",
       "      <td>2594738556</td>\n",
       "    </tr>\n",
       "    <tr>\n",
       "      <th>75%</th>\n",
       "      <td>1370571337</td>\n",
       "      <td>2178642302</td>\n",
       "      <td>1412524951</td>\n",
       "      <td>2130049570</td>\n",
       "      <td>3247579403</td>\n",
       "      <td>14406000000</td>\n",
       "    </tr>\n",
       "    <tr>\n",
       "      <th>max</th>\n",
       "      <td>14406000000</td>\n",
       "      <td>28766141000</td>\n",
       "      <td>242262242175</td>\n",
       "      <td>135270275000</td>\n",
       "      <td>242262242175</td>\n",
       "      <td>1515000000000</td>\n",
       "    </tr>\n",
       "  </tbody>\n",
       "</table>\n",
       "</div>"
      ],
      "text/plain": [
       "Damage Bucket           A           B            C            D            E  \\\n",
       "count                  16          19           26           97          101   \n",
       "mean           2088157686  3788363971  11190254133   4100593480  12423699794   \n",
       "std            4039244434  7160045909  47327837378  14431406900  38554857229   \n",
       "min                801120    12000000       517000     23351741       517000   \n",
       "25%              20875000   381315000    107233000    365560000    302890000   \n",
       "50%             259562406   762562834    504367917    884718824   1013288083   \n",
       "75%            1370571337  2178642302   1412524951   2130049570   3247579403   \n",
       "max           14406000000 28766141000 242262242175 135270275000 242262242175   \n",
       "\n",
       "Damage Bucket             F  \n",
       "count                   303  \n",
       "mean            37333336611  \n",
       "std            123323704393  \n",
       "min                  517000  \n",
       "25%               470168750  \n",
       "50%              2594738556  \n",
       "75%             14406000000  \n",
       "max           1515000000000  "
      ]
     },
     "execution_count": 74,
     "metadata": {},
     "output_type": "execute_result"
    }
   ],
   "source": [
    "pd.options.display.float_format = '{:.0f}'.format\n",
    "data_3d_describe"
   ]
  },
  {
   "cell_type": "markdown",
   "metadata": {},
   "source": [
    "#### III.E. Frequent Flyer Analysis"
   ]
  },
  {
   "cell_type": "markdown",
   "metadata": {},
   "source": [
    "#### III.E.1. Movant Type"
   ]
  },
  {
   "cell_type": "code",
   "execution_count": 75,
   "metadata": {},
   "outputs": [],
   "source": [
    "data_3e = main[[\"Institutional Movant\", \"Damage Bucket\", \"Type (Ind, Ins, G-Ind, G-Ins, G-Mix)\", 'Investor Frequent Flyer', 'Movant Loss', \"Filing Firm\"]]\n",
    "data_3e = data_3e[~data_3e[\"Institutional Movant\"].isna()]\n",
    "data_3e.loc[(data_3e[\"Investor Frequent Flyer\"].isna()),\"Investor Frequent Flyer\"] = \"NotFF\""
   ]
  },
  {
   "cell_type": "code",
   "execution_count": 76,
   "metadata": {},
   "outputs": [],
   "source": [
    "data_3e1 = data_3e.groupby([\"Type (Ind, Ins, G-Ind, G-Ins, G-Mix)\", \"Investor Frequent Flyer\"])[\"Institutional Movant\"].count().reset_index().sort_values(\"Type (Ind, Ins, G-Ind, G-Ins, G-Mix)\")"
   ]
  },
  {
   "cell_type": "code",
   "execution_count": 77,
   "metadata": {},
   "outputs": [],
   "source": [
    "y_val1 = data_3e1[data_3e1[\"Investor Frequent Flyer\"]== \"FF\"][\"Institutional Movant\"]\n",
    "y_val2 = data_3e1[data_3e1[\"Investor Frequent Flyer\"]== \"NotFF\"][\"Institutional Movant\"]\n",
    "x_val = data_3e1[data_3e1[\"Investor Frequent Flyer\"]== \"FF\"][\"Type (Ind, Ins, G-Ind, G-Ins, G-Mix)\"]"
   ]
  },
  {
   "cell_type": "code",
   "execution_count": 78,
   "metadata": {},
   "outputs": [
    {
     "data": {
      "text/html": [
       "<div>\n",
       "<style scoped>\n",
       "    .dataframe tbody tr th:only-of-type {\n",
       "        vertical-align: middle;\n",
       "    }\n",
       "\n",
       "    .dataframe tbody tr th {\n",
       "        vertical-align: top;\n",
       "    }\n",
       "\n",
       "    .dataframe thead th {\n",
       "        text-align: right;\n",
       "    }\n",
       "</style>\n",
       "<table border=\"1\" class=\"dataframe\">\n",
       "  <thead>\n",
       "    <tr style=\"text-align: right;\">\n",
       "      <th></th>\n",
       "      <th>Type (Ind, Ins, G-Ind, G-Ins, G-Mix)</th>\n",
       "      <th>Investor Frequent Flyer</th>\n",
       "      <th>Institutional Movant</th>\n",
       "    </tr>\n",
       "  </thead>\n",
       "  <tbody>\n",
       "    <tr>\n",
       "      <th>0</th>\n",
       "      <td>G-Ins</td>\n",
       "      <td>FF</td>\n",
       "      <td>142</td>\n",
       "    </tr>\n",
       "    <tr>\n",
       "      <th>1</th>\n",
       "      <td>G-Ins</td>\n",
       "      <td>NotFF</td>\n",
       "      <td>92</td>\n",
       "    </tr>\n",
       "    <tr>\n",
       "      <th>2</th>\n",
       "      <td>G-Mix</td>\n",
       "      <td>FF</td>\n",
       "      <td>14</td>\n",
       "    </tr>\n",
       "    <tr>\n",
       "      <th>3</th>\n",
       "      <td>G-Mix</td>\n",
       "      <td>NotFF</td>\n",
       "      <td>51</td>\n",
       "    </tr>\n",
       "    <tr>\n",
       "      <th>4</th>\n",
       "      <td>Ins</td>\n",
       "      <td>FF</td>\n",
       "      <td>255</td>\n",
       "    </tr>\n",
       "    <tr>\n",
       "      <th>5</th>\n",
       "      <td>Ins</td>\n",
       "      <td>NotFF</td>\n",
       "      <td>161</td>\n",
       "    </tr>\n",
       "  </tbody>\n",
       "</table>\n",
       "</div>"
      ],
      "text/plain": [
       "  Type (Ind, Ins, G-Ind, G-Ins, G-Mix) Investor Frequent Flyer  \\\n",
       "0                                G-Ins                      FF   \n",
       "1                                G-Ins                   NotFF   \n",
       "2                                G-Mix                      FF   \n",
       "3                                G-Mix                   NotFF   \n",
       "4                                  Ins                      FF   \n",
       "5                                  Ins                   NotFF   \n",
       "\n",
       "   Institutional Movant  \n",
       "0                   142  \n",
       "1                    92  \n",
       "2                    14  \n",
       "3                    51  \n",
       "4                   255  \n",
       "5                   161  "
      ]
     },
     "execution_count": 78,
     "metadata": {},
     "output_type": "execute_result"
    }
   ],
   "source": [
    "data_3e1"
   ]
  },
  {
   "cell_type": "markdown",
   "metadata": {},
   "source": [
    "#### By Bucket"
   ]
  },
  {
   "cell_type": "code",
   "execution_count": 79,
   "metadata": {},
   "outputs": [],
   "source": [
    "data_3e2 = data_3e.groupby([\"Damage Bucket\", \"Investor Frequent Flyer\"])[\"Institutional Movant\"].count().reset_index().sort_values(\"Damage Bucket\")"
   ]
  },
  {
   "cell_type": "code",
   "execution_count": 80,
   "metadata": {},
   "outputs": [
    {
     "data": {
      "text/html": [
       "<div>\n",
       "<style scoped>\n",
       "    .dataframe tbody tr th:only-of-type {\n",
       "        vertical-align: middle;\n",
       "    }\n",
       "\n",
       "    .dataframe tbody tr th {\n",
       "        vertical-align: top;\n",
       "    }\n",
       "\n",
       "    .dataframe thead th {\n",
       "        text-align: right;\n",
       "    }\n",
       "</style>\n",
       "<table border=\"1\" class=\"dataframe\">\n",
       "  <thead>\n",
       "    <tr style=\"text-align: right;\">\n",
       "      <th></th>\n",
       "      <th>Damage Bucket</th>\n",
       "      <th>Investor Frequent Flyer</th>\n",
       "      <th>Institutional Movant</th>\n",
       "    </tr>\n",
       "  </thead>\n",
       "  <tbody>\n",
       "    <tr>\n",
       "      <th>0</th>\n",
       "      <td>A</td>\n",
       "      <td>FF</td>\n",
       "      <td>11</td>\n",
       "    </tr>\n",
       "    <tr>\n",
       "      <th>1</th>\n",
       "      <td>A</td>\n",
       "      <td>NotFF</td>\n",
       "      <td>21</td>\n",
       "    </tr>\n",
       "    <tr>\n",
       "      <th>2</th>\n",
       "      <td>B</td>\n",
       "      <td>FF</td>\n",
       "      <td>14</td>\n",
       "    </tr>\n",
       "    <tr>\n",
       "      <th>3</th>\n",
       "      <td>B</td>\n",
       "      <td>NotFF</td>\n",
       "      <td>20</td>\n",
       "    </tr>\n",
       "    <tr>\n",
       "      <th>4</th>\n",
       "      <td>C</td>\n",
       "      <td>FF</td>\n",
       "      <td>18</td>\n",
       "    </tr>\n",
       "    <tr>\n",
       "      <th>5</th>\n",
       "      <td>C</td>\n",
       "      <td>NotFF</td>\n",
       "      <td>24</td>\n",
       "    </tr>\n",
       "    <tr>\n",
       "      <th>6</th>\n",
       "      <td>D</td>\n",
       "      <td>FF</td>\n",
       "      <td>67</td>\n",
       "    </tr>\n",
       "    <tr>\n",
       "      <th>7</th>\n",
       "      <td>D</td>\n",
       "      <td>NotFF</td>\n",
       "      <td>51</td>\n",
       "    </tr>\n",
       "    <tr>\n",
       "      <th>8</th>\n",
       "      <td>E</td>\n",
       "      <td>FF</td>\n",
       "      <td>69</td>\n",
       "    </tr>\n",
       "    <tr>\n",
       "      <th>9</th>\n",
       "      <td>E</td>\n",
       "      <td>NotFF</td>\n",
       "      <td>54</td>\n",
       "    </tr>\n",
       "    <tr>\n",
       "      <th>10</th>\n",
       "      <td>F</td>\n",
       "      <td>FF</td>\n",
       "      <td>225</td>\n",
       "    </tr>\n",
       "    <tr>\n",
       "      <th>11</th>\n",
       "      <td>F</td>\n",
       "      <td>NotFF</td>\n",
       "      <td>135</td>\n",
       "    </tr>\n",
       "  </tbody>\n",
       "</table>\n",
       "</div>"
      ],
      "text/plain": [
       "   Damage Bucket Investor Frequent Flyer  Institutional Movant\n",
       "0              A                      FF                    11\n",
       "1              A                   NotFF                    21\n",
       "2              B                      FF                    14\n",
       "3              B                   NotFF                    20\n",
       "4              C                      FF                    18\n",
       "5              C                   NotFF                    24\n",
       "6              D                      FF                    67\n",
       "7              D                   NotFF                    51\n",
       "8              E                      FF                    69\n",
       "9              E                   NotFF                    54\n",
       "10             F                      FF                   225\n",
       "11             F                   NotFF                   135"
      ]
     },
     "execution_count": 80,
     "metadata": {},
     "output_type": "execute_result"
    }
   ],
   "source": [
    "data_3e2"
   ]
  },
  {
   "cell_type": "markdown",
   "metadata": {},
   "source": [
    "#### By Filing Firm"
   ]
  },
  {
   "cell_type": "code",
   "execution_count": 81,
   "metadata": {},
   "outputs": [],
   "source": [
    "data_3e[\"Filing Firm\"] = data_3e[\"Filing Firm\"].astype(str)"
   ]
  },
  {
   "cell_type": "code",
   "execution_count": 82,
   "metadata": {},
   "outputs": [],
   "source": [
    "data_3e3 = data_3e.groupby([\"Filing Firm\", \"Investor Frequent Flyer\"])[\"Institutional Movant\"].count().reset_index().sort_values(\"Filing Firm\")"
   ]
  },
  {
   "cell_type": "code",
   "execution_count": 83,
   "metadata": {},
   "outputs": [
    {
     "data": {
      "text/html": [
       "<div>\n",
       "<style scoped>\n",
       "    .dataframe tbody tr th:only-of-type {\n",
       "        vertical-align: middle;\n",
       "    }\n",
       "\n",
       "    .dataframe tbody tr th {\n",
       "        vertical-align: top;\n",
       "    }\n",
       "\n",
       "    .dataframe thead th {\n",
       "        text-align: right;\n",
       "    }\n",
       "</style>\n",
       "<table border=\"1\" class=\"dataframe\">\n",
       "  <thead>\n",
       "    <tr style=\"text-align: right;\">\n",
       "      <th></th>\n",
       "      <th>Filing Firm</th>\n",
       "      <th>Investor Frequent Flyer</th>\n",
       "      <th>Institutional Movant</th>\n",
       "    </tr>\n",
       "  </thead>\n",
       "  <tbody>\n",
       "    <tr>\n",
       "      <th>0</th>\n",
       "      <td>00:00:00</td>\n",
       "      <td>FF</td>\n",
       "      <td>8</td>\n",
       "    </tr>\n",
       "    <tr>\n",
       "      <th>1</th>\n",
       "      <td>00:00:00</td>\n",
       "      <td>NotFF</td>\n",
       "      <td>2</td>\n",
       "    </tr>\n",
       "    <tr>\n",
       "      <th>2</th>\n",
       "      <td>Abraham, Fruchter &amp; Twersky, LLP; Block &amp; Levi...</td>\n",
       "      <td>NotFF</td>\n",
       "      <td>1</td>\n",
       "    </tr>\n",
       "    <tr>\n",
       "      <th>3</th>\n",
       "      <td>Abraham, Fruchter &amp; Twersky, LLP; Bronstein, G...</td>\n",
       "      <td>FF</td>\n",
       "      <td>1</td>\n",
       "    </tr>\n",
       "    <tr>\n",
       "      <th>4</th>\n",
       "      <td>Abraham, Fruchter &amp; Twersky, LLP; Bronstein, G...</td>\n",
       "      <td>NotFF</td>\n",
       "      <td>2</td>\n",
       "    </tr>\n",
       "    <tr>\n",
       "      <th>5</th>\n",
       "      <td>Abraham, Fruchter &amp; Twersky, LLP; Kendall Law ...</td>\n",
       "      <td>FF</td>\n",
       "      <td>1</td>\n",
       "    </tr>\n",
       "    <tr>\n",
       "      <th>6</th>\n",
       "      <td>Abraham, Fruchter &amp; Twersky, LLP; Robbins, Gel...</td>\n",
       "      <td>NotFF</td>\n",
       "      <td>1</td>\n",
       "    </tr>\n",
       "    <tr>\n",
       "      <th>7</th>\n",
       "      <td>Ademi &amp; O'Reilly, LLP; Barrack  Rodos &amp; Bacine...</td>\n",
       "      <td>FF</td>\n",
       "      <td>1</td>\n",
       "    </tr>\n",
       "    <tr>\n",
       "      <th>8</th>\n",
       "      <td>Andrews &amp; Springer, LLC; Bernstein Litowitz Be...</td>\n",
       "      <td>FF</td>\n",
       "      <td>5</td>\n",
       "    </tr>\n",
       "    <tr>\n",
       "      <th>9</th>\n",
       "      <td>Andrews &amp; Springer, LLC; Bernstein Litowitz Be...</td>\n",
       "      <td>NotFF</td>\n",
       "      <td>4</td>\n",
       "    </tr>\n",
       "    <tr>\n",
       "      <th>10</th>\n",
       "      <td>Andrews &amp; Springer, LLC; Bronstein, Gewirtz &amp; ...</td>\n",
       "      <td>NotFF</td>\n",
       "      <td>1</td>\n",
       "    </tr>\n",
       "    <tr>\n",
       "      <th>11</th>\n",
       "      <td>Andrews DeValerio LLP; Bronstein, Gewirtz &amp; Gr...</td>\n",
       "      <td>FF</td>\n",
       "      <td>1</td>\n",
       "    </tr>\n",
       "    <tr>\n",
       "      <th>12</th>\n",
       "      <td>Andrews DeValerio LLP; Bronstein, Gewirtz &amp; Gr...</td>\n",
       "      <td>NotFF</td>\n",
       "      <td>1</td>\n",
       "    </tr>\n",
       "    <tr>\n",
       "      <th>14</th>\n",
       "      <td>Barrack  Rodos &amp; Bacine</td>\n",
       "      <td>NotFF</td>\n",
       "      <td>3</td>\n",
       "    </tr>\n",
       "    <tr>\n",
       "      <th>13</th>\n",
       "      <td>Barrack  Rodos &amp; Bacine</td>\n",
       "      <td>FF</td>\n",
       "      <td>6</td>\n",
       "    </tr>\n",
       "    <tr>\n",
       "      <th>15</th>\n",
       "      <td>Ben Crump Law PLLC; The Rosen Law Firm, P.A.</td>\n",
       "      <td>NotFF</td>\n",
       "      <td>1</td>\n",
       "    </tr>\n",
       "    <tr>\n",
       "      <th>16</th>\n",
       "      <td>Berens Law LLC</td>\n",
       "      <td>NotFF</td>\n",
       "      <td>1</td>\n",
       "    </tr>\n",
       "    <tr>\n",
       "      <th>17</th>\n",
       "      <td>Berger &amp; Montague, P.C.; Federman &amp; Sherwood</td>\n",
       "      <td>FF</td>\n",
       "      <td>1</td>\n",
       "    </tr>\n",
       "    <tr>\n",
       "      <th>18</th>\n",
       "      <td>Berke, Berke &amp; Berke; Bramlett Law Offices; Br...</td>\n",
       "      <td>FF</td>\n",
       "      <td>1</td>\n",
       "    </tr>\n",
       "    <tr>\n",
       "      <th>19</th>\n",
       "      <td>Bernstein Liebhard LLP; Leverty &amp; Associates L...</td>\n",
       "      <td>FF</td>\n",
       "      <td>1</td>\n",
       "    </tr>\n",
       "    <tr>\n",
       "      <th>20</th>\n",
       "      <td>Bernstein Liebhard LLP; Leverty &amp; Associates L...</td>\n",
       "      <td>NotFF</td>\n",
       "      <td>1</td>\n",
       "    </tr>\n",
       "    <tr>\n",
       "      <th>21</th>\n",
       "      <td>Bernstein Liebhard LLP; Pomerantz LLP</td>\n",
       "      <td>NotFF</td>\n",
       "      <td>1</td>\n",
       "    </tr>\n",
       "    <tr>\n",
       "      <th>22</th>\n",
       "      <td>Bernstein Litowitz Berger &amp; Grossmann LLP</td>\n",
       "      <td>FF</td>\n",
       "      <td>12</td>\n",
       "    </tr>\n",
       "    <tr>\n",
       "      <th>23</th>\n",
       "      <td>Bernstein Litowitz Berger &amp; Grossmann LLP</td>\n",
       "      <td>NotFF</td>\n",
       "      <td>8</td>\n",
       "    </tr>\n",
       "    <tr>\n",
       "      <th>24</th>\n",
       "      <td>Bernstein Litowitz Berger &amp; Grossmann LLP; Bon...</td>\n",
       "      <td>NotFF</td>\n",
       "      <td>1</td>\n",
       "    </tr>\n",
       "    <tr>\n",
       "      <th>25</th>\n",
       "      <td>Bernstein Litowitz Berger &amp; Grossmann LLP; Bro...</td>\n",
       "      <td>FF</td>\n",
       "      <td>2</td>\n",
       "    </tr>\n",
       "    <tr>\n",
       "      <th>26</th>\n",
       "      <td>Bernstein Litowitz Berger &amp; Grossmann LLP; Bro...</td>\n",
       "      <td>NotFF</td>\n",
       "      <td>1</td>\n",
       "    </tr>\n",
       "    <tr>\n",
       "      <th>27</th>\n",
       "      <td>Bernstein Litowitz Berger &amp; Grossmann LLP; Bro...</td>\n",
       "      <td>FF</td>\n",
       "      <td>4</td>\n",
       "    </tr>\n",
       "    <tr>\n",
       "      <th>28</th>\n",
       "      <td>Bernstein Litowitz Berger &amp; Grossmann LLP; Bro...</td>\n",
       "      <td>NotFF</td>\n",
       "      <td>1</td>\n",
       "    </tr>\n",
       "    <tr>\n",
       "      <th>29</th>\n",
       "      <td>Bernstein Litowitz Berger &amp; Grossmann LLP; Cap...</td>\n",
       "      <td>FF</td>\n",
       "      <td>2</td>\n",
       "    </tr>\n",
       "    <tr>\n",
       "      <th>...</th>\n",
       "      <td>...</td>\n",
       "      <td>...</td>\n",
       "      <td>...</td>\n",
       "    </tr>\n",
       "    <tr>\n",
       "      <th>218</th>\n",
       "      <td>Lite Depalma Greenberg, LLC; Pomerantz LLP; Th...</td>\n",
       "      <td>NotFF</td>\n",
       "      <td>2</td>\n",
       "    </tr>\n",
       "    <tr>\n",
       "      <th>219</th>\n",
       "      <td>Martin &amp; Bonnett, PLLC; Pomerantz LLP</td>\n",
       "      <td>FF</td>\n",
       "      <td>1</td>\n",
       "    </tr>\n",
       "    <tr>\n",
       "      <th>220</th>\n",
       "      <td>Martin &amp; Bonnett, PLLC; Pomerantz LLP</td>\n",
       "      <td>NotFF</td>\n",
       "      <td>1</td>\n",
       "    </tr>\n",
       "    <tr>\n",
       "      <th>221</th>\n",
       "      <td>Motley Rice LLC; Robbins, Geller, Rudman &amp; Dow...</td>\n",
       "      <td>NotFF</td>\n",
       "      <td>1</td>\n",
       "    </tr>\n",
       "    <tr>\n",
       "      <th>222</th>\n",
       "      <td>Pomerantz LLP</td>\n",
       "      <td>FF</td>\n",
       "      <td>27</td>\n",
       "    </tr>\n",
       "    <tr>\n",
       "      <th>223</th>\n",
       "      <td>Pomerantz LLP</td>\n",
       "      <td>NotFF</td>\n",
       "      <td>14</td>\n",
       "    </tr>\n",
       "    <tr>\n",
       "      <th>224</th>\n",
       "      <td>Pomerantz LLP; Andrews DeValerio LLP</td>\n",
       "      <td>FF</td>\n",
       "      <td>1</td>\n",
       "    </tr>\n",
       "    <tr>\n",
       "      <th>225</th>\n",
       "      <td>Pomerantz LLP; Andrews DeValerio LLP</td>\n",
       "      <td>NotFF</td>\n",
       "      <td>1</td>\n",
       "    </tr>\n",
       "    <tr>\n",
       "      <th>226</th>\n",
       "      <td>Pomerantz LLP; Robbins, Geller, Rudman &amp; Dowd,...</td>\n",
       "      <td>FF</td>\n",
       "      <td>3</td>\n",
       "    </tr>\n",
       "    <tr>\n",
       "      <th>227</th>\n",
       "      <td>Pomerantz LLP; Saxena White P.A.</td>\n",
       "      <td>FF</td>\n",
       "      <td>3</td>\n",
       "    </tr>\n",
       "    <tr>\n",
       "      <th>228</th>\n",
       "      <td>Pomerantz LLP; Saxena White P.A.</td>\n",
       "      <td>NotFF</td>\n",
       "      <td>3</td>\n",
       "    </tr>\n",
       "    <tr>\n",
       "      <th>230</th>\n",
       "      <td>Pomerantz LLP; The Rosen Law Firm, P.A.</td>\n",
       "      <td>NotFF</td>\n",
       "      <td>1</td>\n",
       "    </tr>\n",
       "    <tr>\n",
       "      <th>229</th>\n",
       "      <td>Pomerantz LLP; The Rosen Law Firm, P.A.</td>\n",
       "      <td>FF</td>\n",
       "      <td>3</td>\n",
       "    </tr>\n",
       "    <tr>\n",
       "      <th>231</th>\n",
       "      <td>Pomerantz LLP; The Weiser Law Firm, PC</td>\n",
       "      <td>NotFF</td>\n",
       "      <td>2</td>\n",
       "    </tr>\n",
       "    <tr>\n",
       "      <th>233</th>\n",
       "      <td>Robbins, Geller, Rudman &amp; Dowd, LLP</td>\n",
       "      <td>NotFF</td>\n",
       "      <td>5</td>\n",
       "    </tr>\n",
       "    <tr>\n",
       "      <th>232</th>\n",
       "      <td>Robbins, Geller, Rudman &amp; Dowd, LLP</td>\n",
       "      <td>FF</td>\n",
       "      <td>5</td>\n",
       "    </tr>\n",
       "    <tr>\n",
       "      <th>234</th>\n",
       "      <td>Robbins, Geller, Rudman &amp; Dowd, LLP; VanOverbe...</td>\n",
       "      <td>FF</td>\n",
       "      <td>13</td>\n",
       "    </tr>\n",
       "    <tr>\n",
       "      <th>235</th>\n",
       "      <td>Robbins, Geller, Rudman &amp; Dowd, LLP; VanOverbe...</td>\n",
       "      <td>NotFF</td>\n",
       "      <td>7</td>\n",
       "    </tr>\n",
       "    <tr>\n",
       "      <th>236</th>\n",
       "      <td>Robins Kaplan LLP; Saxena White P.A.</td>\n",
       "      <td>FF</td>\n",
       "      <td>6</td>\n",
       "    </tr>\n",
       "    <tr>\n",
       "      <th>237</th>\n",
       "      <td>Rosenthal, Monhait &amp; Goddess, P.A.</td>\n",
       "      <td>FF</td>\n",
       "      <td>2</td>\n",
       "    </tr>\n",
       "    <tr>\n",
       "      <th>238</th>\n",
       "      <td>Saxena White P.A.</td>\n",
       "      <td>FF</td>\n",
       "      <td>2</td>\n",
       "    </tr>\n",
       "    <tr>\n",
       "      <th>239</th>\n",
       "      <td>Saxena White P.A.</td>\n",
       "      <td>NotFF</td>\n",
       "      <td>1</td>\n",
       "    </tr>\n",
       "    <tr>\n",
       "      <th>240</th>\n",
       "      <td>Saxena White P.A.; The Shuman Law Firm</td>\n",
       "      <td>FF</td>\n",
       "      <td>1</td>\n",
       "    </tr>\n",
       "    <tr>\n",
       "      <th>241</th>\n",
       "      <td>Saxena White P.A.; The Shuman Law Firm</td>\n",
       "      <td>NotFF</td>\n",
       "      <td>1</td>\n",
       "    </tr>\n",
       "    <tr>\n",
       "      <th>242</th>\n",
       "      <td>Scott &amp; Scott,  LLP</td>\n",
       "      <td>NotFF</td>\n",
       "      <td>1</td>\n",
       "    </tr>\n",
       "    <tr>\n",
       "      <th>243</th>\n",
       "      <td>Sparer Law Group</td>\n",
       "      <td>NotFF</td>\n",
       "      <td>1</td>\n",
       "    </tr>\n",
       "    <tr>\n",
       "      <th>244</th>\n",
       "      <td>The Bilek Law Firm LLP; The Miller Law Firm, P...</td>\n",
       "      <td>FF</td>\n",
       "      <td>5</td>\n",
       "    </tr>\n",
       "    <tr>\n",
       "      <th>246</th>\n",
       "      <td>The Rosen Law Firm, P.A.</td>\n",
       "      <td>NotFF</td>\n",
       "      <td>30</td>\n",
       "    </tr>\n",
       "    <tr>\n",
       "      <th>245</th>\n",
       "      <td>The Rosen Law Firm, P.A.</td>\n",
       "      <td>FF</td>\n",
       "      <td>39</td>\n",
       "    </tr>\n",
       "    <tr>\n",
       "      <th>247</th>\n",
       "      <td>nan</td>\n",
       "      <td>FF</td>\n",
       "      <td>1</td>\n",
       "    </tr>\n",
       "  </tbody>\n",
       "</table>\n",
       "<p>248 rows × 3 columns</p>\n",
       "</div>"
      ],
      "text/plain": [
       "                                           Filing Firm  \\\n",
       "0                                             00:00:00   \n",
       "1                                             00:00:00   \n",
       "2    Abraham, Fruchter & Twersky, LLP; Block & Levi...   \n",
       "3    Abraham, Fruchter & Twersky, LLP; Bronstein, G...   \n",
       "4    Abraham, Fruchter & Twersky, LLP; Bronstein, G...   \n",
       "5    Abraham, Fruchter & Twersky, LLP; Kendall Law ...   \n",
       "6    Abraham, Fruchter & Twersky, LLP; Robbins, Gel...   \n",
       "7    Ademi & O'Reilly, LLP; Barrack  Rodos & Bacine...   \n",
       "8    Andrews & Springer, LLC; Bernstein Litowitz Be...   \n",
       "9    Andrews & Springer, LLC; Bernstein Litowitz Be...   \n",
       "10   Andrews & Springer, LLC; Bronstein, Gewirtz & ...   \n",
       "11   Andrews DeValerio LLP; Bronstein, Gewirtz & Gr...   \n",
       "12   Andrews DeValerio LLP; Bronstein, Gewirtz & Gr...   \n",
       "14                             Barrack  Rodos & Bacine   \n",
       "13                             Barrack  Rodos & Bacine   \n",
       "15        Ben Crump Law PLLC; The Rosen Law Firm, P.A.   \n",
       "16                                      Berens Law LLC   \n",
       "17        Berger & Montague, P.C.; Federman & Sherwood   \n",
       "18   Berke, Berke & Berke; Bramlett Law Offices; Br...   \n",
       "19   Bernstein Liebhard LLP; Leverty & Associates L...   \n",
       "20   Bernstein Liebhard LLP; Leverty & Associates L...   \n",
       "21               Bernstein Liebhard LLP; Pomerantz LLP   \n",
       "22           Bernstein Litowitz Berger & Grossmann LLP   \n",
       "23           Bernstein Litowitz Berger & Grossmann LLP   \n",
       "24   Bernstein Litowitz Berger & Grossmann LLP; Bon...   \n",
       "25   Bernstein Litowitz Berger & Grossmann LLP; Bro...   \n",
       "26   Bernstein Litowitz Berger & Grossmann LLP; Bro...   \n",
       "27   Bernstein Litowitz Berger & Grossmann LLP; Bro...   \n",
       "28   Bernstein Litowitz Berger & Grossmann LLP; Bro...   \n",
       "29   Bernstein Litowitz Berger & Grossmann LLP; Cap...   \n",
       "..                                                 ...   \n",
       "218  Lite Depalma Greenberg, LLC; Pomerantz LLP; Th...   \n",
       "219              Martin & Bonnett, PLLC; Pomerantz LLP   \n",
       "220              Martin & Bonnett, PLLC; Pomerantz LLP   \n",
       "221  Motley Rice LLC; Robbins, Geller, Rudman & Dow...   \n",
       "222                                      Pomerantz LLP   \n",
       "223                                      Pomerantz LLP   \n",
       "224               Pomerantz LLP; Andrews DeValerio LLP   \n",
       "225               Pomerantz LLP; Andrews DeValerio LLP   \n",
       "226  Pomerantz LLP; Robbins, Geller, Rudman & Dowd,...   \n",
       "227                   Pomerantz LLP; Saxena White P.A.   \n",
       "228                   Pomerantz LLP; Saxena White P.A.   \n",
       "230            Pomerantz LLP; The Rosen Law Firm, P.A.   \n",
       "229            Pomerantz LLP; The Rosen Law Firm, P.A.   \n",
       "231             Pomerantz LLP; The Weiser Law Firm, PC   \n",
       "233                Robbins, Geller, Rudman & Dowd, LLP   \n",
       "232                Robbins, Geller, Rudman & Dowd, LLP   \n",
       "234  Robbins, Geller, Rudman & Dowd, LLP; VanOverbe...   \n",
       "235  Robbins, Geller, Rudman & Dowd, LLP; VanOverbe...   \n",
       "236               Robins Kaplan LLP; Saxena White P.A.   \n",
       "237                 Rosenthal, Monhait & Goddess, P.A.   \n",
       "238                                  Saxena White P.A.   \n",
       "239                                  Saxena White P.A.   \n",
       "240             Saxena White P.A.; The Shuman Law Firm   \n",
       "241             Saxena White P.A.; The Shuman Law Firm   \n",
       "242                                Scott & Scott,  LLP   \n",
       "243                                   Sparer Law Group   \n",
       "244  The Bilek Law Firm LLP; The Miller Law Firm, P...   \n",
       "246                           The Rosen Law Firm, P.A.   \n",
       "245                           The Rosen Law Firm, P.A.   \n",
       "247                                                nan   \n",
       "\n",
       "    Investor Frequent Flyer  Institutional Movant  \n",
       "0                        FF                     8  \n",
       "1                     NotFF                     2  \n",
       "2                     NotFF                     1  \n",
       "3                        FF                     1  \n",
       "4                     NotFF                     2  \n",
       "5                        FF                     1  \n",
       "6                     NotFF                     1  \n",
       "7                        FF                     1  \n",
       "8                        FF                     5  \n",
       "9                     NotFF                     4  \n",
       "10                    NotFF                     1  \n",
       "11                       FF                     1  \n",
       "12                    NotFF                     1  \n",
       "14                    NotFF                     3  \n",
       "13                       FF                     6  \n",
       "15                    NotFF                     1  \n",
       "16                    NotFF                     1  \n",
       "17                       FF                     1  \n",
       "18                       FF                     1  \n",
       "19                       FF                     1  \n",
       "20                    NotFF                     1  \n",
       "21                    NotFF                     1  \n",
       "22                       FF                    12  \n",
       "23                    NotFF                     8  \n",
       "24                    NotFF                     1  \n",
       "25                       FF                     2  \n",
       "26                    NotFF                     1  \n",
       "27                       FF                     4  \n",
       "28                    NotFF                     1  \n",
       "29                       FF                     2  \n",
       "..                      ...                   ...  \n",
       "218                   NotFF                     2  \n",
       "219                      FF                     1  \n",
       "220                   NotFF                     1  \n",
       "221                   NotFF                     1  \n",
       "222                      FF                    27  \n",
       "223                   NotFF                    14  \n",
       "224                      FF                     1  \n",
       "225                   NotFF                     1  \n",
       "226                      FF                     3  \n",
       "227                      FF                     3  \n",
       "228                   NotFF                     3  \n",
       "230                   NotFF                     1  \n",
       "229                      FF                     3  \n",
       "231                   NotFF                     2  \n",
       "233                   NotFF                     5  \n",
       "232                      FF                     5  \n",
       "234                      FF                    13  \n",
       "235                   NotFF                     7  \n",
       "236                      FF                     6  \n",
       "237                      FF                     2  \n",
       "238                      FF                     2  \n",
       "239                   NotFF                     1  \n",
       "240                      FF                     1  \n",
       "241                   NotFF                     1  \n",
       "242                   NotFF                     1  \n",
       "243                   NotFF                     1  \n",
       "244                      FF                     5  \n",
       "246                   NotFF                    30  \n",
       "245                      FF                    39  \n",
       "247                      FF                     1  \n",
       "\n",
       "[248 rows x 3 columns]"
      ]
     },
     "execution_count": 83,
     "metadata": {},
     "output_type": "execute_result"
    }
   ],
   "source": [
    "data_3e3"
   ]
  },
  {
   "cell_type": "markdown",
   "metadata": {},
   "source": [
    "### APPENDIX"
   ]
  },
  {
   "cell_type": "markdown",
   "metadata": {},
   "source": [
    "plt.clf()\n",
    "plt.bar(x_val, y_val, color=\"b\")\n",
    "plt.title('Number of Cases by Bucket')\n",
    "plt.show()"
   ]
  },
  {
   "cell_type": "markdown",
   "metadata": {
    "scrolled": false
   },
   "source": [
    "plt.clf()\n",
    "fig, ax = plt.subplots(figsize=(12,4))\n",
    "width = 0.75\n",
    "ind = np.arange(len((y_val)))\n",
    "ticks = np.array([2,4,6,8,10])\n",
    "\n",
    "plt.title('Number of Institutional Movants by Bucket')\n",
    "\n",
    "ax.bar(ticks, y_val1, width, color = \"blue\")\n",
    "ax.bar(ticks + np.repeat(width, len(x_val)), y_val2, width, color = \"orange\")\n",
    "\n",
    "plt.yticks([], [])\n",
    "\n",
    "ax.set_ylim([0,y_val2.max()+ 100])\n",
    "\n",
    "rects = ax.patches\n",
    "ax.yaxis.set_ticks_position('none')\n",
    "\n",
    "for i in range(len(x_val)):\n",
    "    height = rects[i].get_height()\n",
    "    ax.text(rects[i].get_x() + rects[i].get_width() / 2, height + 5, y_val1[i],\n",
    "            ha='center', va='bottom')\n",
    "    ax.text(rects[i].get_x() + rects[i].get_width() / 2, height + 5, y_val2[i],\n",
    "            ha='center', va='bottom')\n",
    "    \n",
    "plt.xticks(ticks, c_val)\n",
    "\n",
    "plt.show()"
   ]
  },
  {
   "cell_type": "markdown",
   "metadata": {},
   "source": [
    "#### Number of Cases by Bucket\n",
    "\n",
    "y_val = datapull['Damage Bucket'].value_counts().sort_index()\n",
    "x_val = datapull['Damage Bucket'].value_counts().sort_index().index\n",
    "\n",
    "plt.clf()\n",
    "plt.bar(x_val, y_val, color=\"b\")\n",
    "plt.show()"
   ]
  },
  {
   "cell_type": "markdown",
   "metadata": {},
   "source": [
    "bucketmovantcount = main['Damage Bucket'].value_counts().sort_index()"
   ]
  },
  {
   "cell_type": "markdown",
   "metadata": {},
   "source": [
    "bucketmovantcount"
   ]
  },
  {
   "cell_type": "markdown",
   "metadata": {},
   "source": [
    "fig, ax = plt.subplots() \n",
    "\n",
    "ind = np.arange(len(y_val))\n",
    "bar_width = 0.75\n",
    "\n",
    "ax.bar(ind, y_val, bar_width, col = 'b')\n",
    "for i, v in enumerate(y):\n",
    "    ax.text(v + 3, i + .25, str(v), color='blue')\n",
    "\n",
    "plt.title('Number of Classes by Bucket', size = 16)\n",
    "\n",
    "fig.tight_layout()\n",
    "\n",
    "plt.show()"
   ]
  },
  {
   "cell_type": "markdown",
   "metadata": {},
   "source": [
    "buckets = main[\"Damage Bucket\"].sort_values().dropna().unique()\n",
    "types = main[\"Type (Ind, Ins, G-Ind, G-Ins, G-Mix)\"].sort_values().dropna().unique()"
   ]
  },
  {
   "cell_type": "markdown",
   "metadata": {},
   "source": [
    "xval = buckets\n",
    "yval = []\n",
    "\n",
    "for i in buckets: \n",
    "    yval.append(data_2c_grouped[i][types])"
   ]
  },
  {
   "cell_type": "markdown",
   "metadata": {},
   "source": [
    "plt.clf()\n",
    "fig, ax = plt.subplots(figsize=(12,4))\n",
    "width = 0.75\n",
    "ind = np.arange(len((y_val)))\n",
    "ticks = np.array([2,4,6,8,10])\n",
    "\n",
    "plt.title('Number of Movants by Type for Each Bucket')\n",
    "\n",
    "for i in yval\n",
    "ax.bar(ticks, y_val1, width, color = \"blue\")\n",
    "ax.bar(ticks + np.repeat(width, len(x_val)), y_val2, width, color = \"orange\")\n",
    "\n",
    "plt.yticks([], [])\n",
    "\n",
    "ax.set_ylim([0,y_val2.max()+ 100])\n",
    "\n",
    "rects = ax.patches\n",
    "ax.yaxis.set_ticks_position('none')\n",
    "\n",
    "for i in range(len(x_val)):\n",
    "    height = rects[i].get_height()\n",
    "    ax.text(rects[i].get_x() + rects[i].get_width() / 10 + , height + 5, y_val1[i],\n",
    "            ha='center', va='bottom')\n",
    "    ax.text(rects[i].get_x() + rects[i].get_width() / i*2, height + 5, y_val2[i],\n",
    "            ha='center', va='bottom')\n",
    "    \n",
    "plt.xticks(ticks, c_val)\n",
    "\n",
    "plt.show()"
   ]
  },
  {
   "cell_type": "code",
   "execution_count": null,
   "metadata": {},
   "outputs": [],
   "source": []
  }
 ],
 "metadata": {
  "kernelspec": {
   "display_name": "Python 3",
   "language": "python",
   "name": "python3"
  },
  "language_info": {
   "codemirror_mode": {
    "name": "ipython",
    "version": 3
   },
   "file_extension": ".py",
   "mimetype": "text/x-python",
   "name": "python",
   "nbconvert_exporter": "python",
   "pygments_lexer": "ipython3",
   "version": "3.7.0"
  }
 },
 "nbformat": 4,
 "nbformat_minor": 2
}
